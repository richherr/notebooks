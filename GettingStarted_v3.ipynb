{
 "cells": [
  {
   "cell_type": "markdown",
   "metadata": {},
   "source": [
    "# A Simple Introduction to Using Python and R (R via \"line-magic\" and \"cell-magic\" "
   ]
  },
  {
   "cell_type": "code",
   "execution_count": 33,
   "metadata": {},
   "outputs": [
    {
     "name": "stdout",
     "output_type": "stream",
     "text": [
      "# conda environments:\r\n",
      "#\r\n",
      "base                     /cm/shared/apps/scientific/R/.miniconda\r\n",
      "r-reticulate          *  /cm/shared/apps/scientific/R/.miniconda/envs/r-reticulate\r\n",
      "\r\n"
     ]
    }
   ],
   "source": [
    "# See https://realpython.com/ for general tips and tutorials.\n",
    "#\n",
    "# List my conda environment if conda available and are using a \n",
    "# virtual environment\n",
    "!conda env list"
   ]
  },
  {
   "cell_type": "code",
   "execution_count": 34,
   "metadata": {},
   "outputs": [
    {
     "name": "stdout",
     "output_type": "stream",
     "text": [
      "# packages in environment at /cm/shared/apps/scientific/R/.miniconda/envs/r-reticulate:\r\n",
      "#\r\n",
      "# Name                    Version                   Build  Channel\r\n",
      "_libgcc_mutex             0.1                 conda_forge    conda-forge\r\n",
      "_openmp_mutex             4.5                       1_gnu    conda-forge\r\n",
      "absl-py                   0.11.0                   pypi_0    pypi\r\n",
      "alembic                   1.4.3                    pypi_0    pypi\r\n",
      "argon2-cffi               20.1.0           py36h8f6f2f9_2    conda-forge\r\n",
      "astunparse                1.6.3                    pypi_0    pypi\r\n",
      "async_generator           1.10                       py_0    conda-forge\r\n",
      "attrs                     20.2.0                   pypi_0    pypi\r\n",
      "backcall                  0.2.0              pyh9f0ad1d_0    conda-forge\r\n",
      "backports                 1.0                        py_2    conda-forge\r\n",
      "backports.functools_lru_cache 1.6.1                      py_0    conda-forge\r\n",
      "bleach                    1.5.0                    pypi_0    pypi\r\n",
      "blis                      0.4.1                    pypi_0    pypi\r\n",
      "bokeh                     2.2.3            py36h5fab9bb_0    conda-forge\r\n",
      "brewer2mpl                1.4.1                    pypi_0    pypi\r\n",
      "bzip2                     1.0.8                h7f98852_4    conda-forge\r\n",
      "c-ares                    1.17.1               h36c2ea0_0    conda-forge\r\n",
      "ca-certificates           2020.12.5            ha878542_0    conda-forge\r\n",
      "cached-property           1.5.2                    pypi_0    pypi\r\n",
      "cachetools                4.2.0                    pypi_0    pypi\r\n",
      "catalogue                 1.0.0                    pypi_0    pypi\r\n",
      "certifi                   2020.12.5                pypi_0    pypi\r\n",
      "certipy                   0.1.3                    pypi_0    pypi\r\n",
      "cffi                      1.14.3                   pypi_0    pypi\r\n",
      "chardet                   4.0.0                    pypi_0    pypi\r\n",
      "click                     7.1.2              pyh9f0ad1d_0    conda-forge\r\n",
      "cloudpickle               1.6.0                      py_0    conda-forge\r\n",
      "cmake                     3.19.2               h4547794_0    conda-forge\r\n",
      "conda-verify              3.1.1           py36h5fab9bb_1003    conda-forge\r\n",
      "contextvars               2.4                        py_0    conda-forge\r\n",
      "cryptography              3.2.1                    pypi_0    pypi\r\n",
      "cudatoolkit-dev           10.1.243             h516909a_3    conda-forge\r\n",
      "cycler                    0.10.0                   pypi_0    pypi\r\n",
      "cymem                     2.0.3                    pypi_0    pypi\r\n",
      "cytoolz                   0.11.0           py36h8f6f2f9_2    conda-forge\r\n",
      "dask                      2020.12.0          pyhd8ed1ab_0    conda-forge\r\n",
      "dask-core                 2020.12.0          pyhd8ed1ab_0    conda-forge\r\n",
      "dataclasses               0.7                      pypi_0    pypi\r\n",
      "dbus                      1.13.6               hfdff14a_1    conda-forge\r\n",
      "decorator                 4.4.2                      py_0    conda-forge\r\n",
      "defusedxml                0.6.0                      py_0    conda-forge\r\n",
      "deprecation               2.1.0                    pypi_0    pypi\r\n",
      "descartes                 1.1.0                    pypi_0    pypi\r\n",
      "dill                      0.3.3                    pypi_0    pypi\r\n",
      "diskcache                 5.1.0                    pypi_0    pypi\r\n",
      "distributed               2020.12.0        py36h5fab9bb_0    conda-forge\r\n",
      "entrypoints               0.3             pyhd8ed1ab_1003    conda-forge\r\n",
      "expat                     2.2.9                he1b5a44_2    conda-forge\r\n",
      "fastai                    2.0.16                   pypi_0    pypi\r\n",
      "fastcore                  1.2.5                    pypi_0    pypi\r\n",
      "fastinference             0.0.27                   pypi_0    pypi\r\n",
      "fastprogress              1.0.0                    pypi_0    pypi\r\n",
      "filelock                  3.0.12                   pypi_0    pypi\r\n",
      "flatbuffers               1.12                     pypi_0    pypi\r\n",
      "fontconfig                2.13.1            h736d332_1003    conda-forge\r\n",
      "freetype                  2.10.4               h7ca028e_0    conda-forge\r\n",
      "fsspec                    0.8.0                    pypi_0    pypi\r\n",
      "future                    0.18.2           py36h5fab9bb_3    conda-forge\r\n",
      "gast                      0.3.3                    pypi_0    pypi\r\n",
      "gcc7                      0.0.7                    pypi_0    pypi\r\n",
      "gettext                   0.19.8.1          h0b5b191_1005    conda-forge\r\n",
      "gitdb                     4.0.5                    pypi_0    pypi\r\n",
      "gitpython                 3.1.11                   pypi_0    pypi\r\n",
      "glib                      2.66.4               hcd2ae1e_1    conda-forge\r\n",
      "google-auth               1.24.0                   pypi_0    pypi\r\n",
      "google-auth-oauthlib      0.4.2                    pypi_0    pypi\r\n",
      "google-pasta              0.2.0                    pypi_0    pypi\r\n",
      "grpcio                    1.34.1                   pypi_0    pypi\r\n",
      "gst-plugins-base          1.14.5               h0935bb2_2    conda-forge\r\n",
      "gstreamer                 1.18.2               h3560a44_1    conda-forge\r\n",
      "h5py                      2.10.0                   pypi_0    pypi\r\n",
      "heapdict                  1.0.1                      py_0    conda-forge\r\n",
      "horovod                   0.21.1                   pypi_0    pypi\r\n",
      "html5lib                  0.9999999                pypi_0    pypi\r\n",
      "icu                       68.1                 h58526e2_0    conda-forge\r\n",
      "idna                      2.10                     pypi_0    pypi\r\n",
      "imageio                   2.9.0                    pypi_0    pypi\r\n",
      "immutables                0.14             py36h8f6f2f9_1    conda-forge\r\n",
      "importlib-metadata        2.0.0                    pypi_0    pypi\r\n",
      "importlib_metadata        3.4.0                hd8ed1ab_0    conda-forge\r\n",
      "iniconfig                 1.1.1                    pypi_0    pypi\r\n",
      "ipykernel                 5.3.4                    pypi_0    pypi\r\n",
      "ipython                   7.16.1           py36h95af2a2_0    conda-forge\r\n",
      "ipython-genutils          0.2.0                    pypi_0    pypi\r\n",
      "ipython_genutils          0.2.0                      py_1    conda-forge\r\n",
      "ipywidgets                7.6.3              pyhd3deb0d_0    conda-forge\r\n",
      "jedi                      0.17.2                   pypi_0    pypi\r\n",
      "jinja2                    2.11.2             pyh9f0ad1d_0    conda-forge\r\n",
      "joblib                    0.17.0                   pypi_0    pypi\r\n",
      "jpeg                      9d                   h36c2ea0_0    conda-forge\r\n",
      "json5                     0.9.5                    pypi_0    pypi\r\n",
      "jsonschema                3.2.0                      py_2    conda-forge\r\n",
      "jupyter                   1.0.0                    pypi_0    pypi\r\n",
      "jupyter-core              4.6.3                    pypi_0    pypi\r\n",
      "jupyter-telemetry         0.1.0                    pypi_0    pypi\r\n",
      "jupyter_client            6.1.11             pyhd8ed1ab_1    conda-forge\r\n",
      "jupyter_console           6.2.0                      py_0    conda-forge\r\n",
      "jupyter_core              4.7.0            py36h5fab9bb_0    conda-forge\r\n",
      "jupyterhub                1.2.0                    pypi_0    pypi\r\n",
      "jupyterlab                2.2.9                    pypi_0    pypi\r\n",
      "jupyterlab-server         1.2.0                    pypi_0    pypi\r\n",
      "jupyterlab_pygments       0.1.2              pyh9f0ad1d_0    conda-forge\r\n",
      "jupyterlab_widgets        1.0.0              pyhd8ed1ab_1    conda-forge\r\n",
      "kaggle                    1.5.9                    pypi_0    pypi\r\n",
      "keras                     2.4.3                    pypi_0    pypi\r\n",
      "keras-preprocessing       1.1.2                    pypi_0    pypi\r\n",
      "kiwisolver                1.2.0                    pypi_0    pypi\r\n",
      "kornia                    0.4.1                    pypi_0    pypi\r\n",
      "krb5                      1.17.2               h926e7f8_0    conda-forge\r\n",
      "lcms2                     2.11                 hcbb858e_1    conda-forge\r\n",
      "ld_impl_linux-64          2.35.1               hea4e1c9_1    conda-forge\r\n",
      "libblas                   3.9.0                7_openblas    conda-forge\r\n",
      "libcblas                  3.9.0                7_openblas    conda-forge\r\n",
      "libclang                  11.0.0          default_ha5c780c_2    conda-forge\r\n",
      "libcurl                   7.71.1               hcdd3856_8    conda-forge\r\n",
      "libedit                   3.1.20191231         he28a2e2_2    conda-forge\r\n",
      "libev                     4.33                 h516909a_1    conda-forge\r\n",
      "libevent                  2.1.10               hcdb4288_3    conda-forge\r\n",
      "libffi                    3.3                  h58526e2_2    conda-forge\r\n",
      "libgcc-ng                 9.3.0               h5dbcf3e_17    conda-forge\r\n",
      "libgfortran-ng            9.3.0               he4bcb1c_17    conda-forge\r\n",
      "libgfortran5              9.3.0               he4bcb1c_17    conda-forge\r\n",
      "libglib                   2.66.4               h164308a_1    conda-forge\r\n",
      "libgomp                   9.3.0               h5dbcf3e_17    conda-forge\r\n",
      "libiconv                  1.16                 h516909a_0    conda-forge\r\n",
      "liblapack                 3.9.0                7_openblas    conda-forge\r\n",
      "libllvm11                 11.0.1               hf817b99_0    conda-forge\r\n",
      "libnghttp2                1.41.0               h8cfc5f6_2    conda-forge\r\n",
      "libopenblas               0.3.12          pthreads_h4812303_1    conda-forge\r\n",
      "libpng                    1.6.37               h21135ba_2    conda-forge\r\n",
      "libpq                     12.3                 h255efa7_3    conda-forge\r\n",
      "libsodium                 1.0.18               h36c2ea0_1    conda-forge\r\n",
      "libssh2                   1.9.0                hab1572f_5    conda-forge\r\n",
      "libstdcxx-ng              9.3.0               h2ae2ef3_17    conda-forge\r\n",
      "libtiff                   4.2.0                hdc55705_0    conda-forge\r\n",
      "libuuid                   2.32.1            h7f98852_1000    conda-forge\r\n",
      "libuv                     1.40.0               h7f98852_0    conda-forge\r\n",
      "libwebp-base              1.1.0                h36c2ea0_3    conda-forge\r\n",
      "libxcb                    1.13              h7f98852_1003    conda-forge\r\n",
      "libxkbcommon              1.0.3                he3ba5ed_0    conda-forge\r\n",
      "libxml2                   2.9.10               h72842e0_3    conda-forge\r\n",
      "llvmlite                  0.34.0                   pypi_0    pypi\r\n",
      "locket                    0.2.0                      py_2    conda-forge\r\n",
      "lz4-c                     1.9.3                h9c3ff4c_0    conda-forge\r\n",
      "mako                      1.1.3                    pypi_0    pypi\r\n",
      "markdown                  3.3.3                    pypi_0    pypi\r\n",
      "markupsafe                1.1.1            py36h8f6f2f9_3    conda-forge\r\n",
      "matplotlib                3.3.2                    pypi_0    pypi\r\n",
      "mistune                   0.8.4           py36h8f6f2f9_1003    conda-forge\r\n",
      "mizani                    0.7.1                    pypi_0    pypi\r\n",
      "mpi4py                    3.0.3                    pypi_0    pypi\r\n",
      "msgpack-python            1.0.2            py36h605e78d_1    conda-forge\r\n",
      "murmurhash                1.0.2                    pypi_0    pypi\r\n",
      "mxnet                     1.7.0.post1              pypi_0    pypi\r\n",
      "mysql-common              8.0.22               ha770c72_1    conda-forge\r\n",
      "mysql-libs                8.0.22               h1fd7589_1    conda-forge\r\n",
      "nbclient                  0.5.1                      py_0    conda-forge\r\n",
      "nbconvert                 6.0.7            py36h5fab9bb_3    conda-forge\r\n",
      "nbformat                  5.0.8                      py_0    conda-forge\r\n",
      "ncurses                   6.2                  h58526e2_4    conda-forge\r\n",
      "nest-asyncio              1.4.2                    pypi_0    pypi\r\n",
      "networkx                  2.5                      pypi_0    pypi\r\n",
      "notebook                  6.1.4                    pypi_0    pypi\r\n",
      "nspr                      4.29                 h9c3ff4c_1    conda-forge\r\n",
      "nss                       3.60                 hb5efdd6_0    conda-forge\r\n",
      "numba                     0.51.2                   pypi_0    pypi\r\n",
      "numpy                     1.19.5           py36h2aa4a07_1    conda-forge\r\n",
      "oauthlib                  3.1.0                    pypi_0    pypi\r\n",
      "olefile                   0.46               pyh9f0ad1d_1    conda-forge\r\n",
      "opencv-python             4.4.0.44                 pypi_0    pypi\r\n",
      "openssl                   1.1.1i               h7f98852_0    conda-forge\r\n",
      "opt-einsum                3.3.0                    pypi_0    pypi\r\n",
      "packaging                 20.8               pyhd3deb0d_0    conda-forge\r\n",
      "palettable                3.3.0                    pypi_0    pypi\r\n",
      "pamela                    1.0.0                    pypi_0    pypi\r\n",
      "pandas                    1.1.5                    pypi_0    pypi\r\n",
      "pandoc                    2.11.3.2             h7f98852_0    conda-forge\r\n",
      "pandocfilters             1.4.3                    pypi_0    pypi\r\n",
      "parso                     0.7.1                    pypi_0    pypi\r\n",
      "partd                     1.1.0                      py_0    conda-forge\r\n",
      "patsy                     0.5.1                    pypi_0    pypi\r\n",
      "pcre                      8.44                 he1b5a44_0    conda-forge\r\n",
      "petastorm                 0.9.8                    pypi_0    pypi\r\n",
      "pexpect                   4.8.0              pyh9f0ad1d_2    conda-forge\r\n",
      "pickleshare               0.7.5                   py_1003    conda-forge\r\n",
      "pillow                    8.0.1                    pypi_0    pypi\r\n",
      "pip                       20.3.3             pyhd8ed1ab_0    conda-forge\r\n",
      "plac                      1.1.3                    pypi_0    pypi\r\n",
      "plotly                    4.14.3                   pypi_0    pypi\r\n",
      "plotnine                  0.7.1                    pypi_0    pypi\r\n",
      "pluggy                    0.13.1                   pypi_0    pypi\r\n",
      "preshed                   3.0.2                    pypi_0    pypi\r\n",
      "prometheus-client         0.8.0                    pypi_0    pypi\r\n",
      "prometheus_client         0.9.0              pyhd3deb0d_0    conda-forge\r\n",
      "prompt-toolkit            3.0.8                    pypi_0    pypi\r\n",
      "prompt_toolkit            3.0.10               hd8ed1ab_0    conda-forge\r\n",
      "protobuf                  3.14.0                   pypi_0    pypi\r\n",
      "psutil                    5.7.3                    pypi_0    pypi\r\n",
      "pthread-stubs             0.4               h36c2ea0_1001    conda-forge\r\n",
      "ptyprocess                0.7.0              pyhd3deb0d_0    conda-forge\r\n",
      "py                        1.10.0                   pypi_0    pypi\r\n",
      "py4j                      0.10.9                   pypi_0    pypi\r\n",
      "pyarrow                   2.0.0                    pypi_0    pypi\r\n",
      "pyasn1                    0.4.8                    pypi_0    pypi\r\n",
      "pyasn1-modules            0.2.8                    pypi_0    pypi\r\n",
      "pycountry                 20.7.3                   pypi_0    pypi\r\n",
      "pycparser                 2.20               pyh9f0ad1d_2    conda-forge\r\n",
      "pydicom                   2.0.0                    pypi_0    pypi\r\n",
      "pygments                  2.7.2                    pypi_0    pypi\r\n",
      "pyopenssl                 19.1.0                   pypi_0    pypi\r\n",
      "pyparsing                 2.4.7              pyh9f0ad1d_0    conda-forge\r\n",
      "pyqt                      5.12.3           py36h5fab9bb_7    conda-forge\r\n",
      "pyqt-impl                 5.12.3           py36h7ec31b9_7    conda-forge\r\n",
      "pyqt5-sip                 4.19.18          py36hc4f0c31_7    conda-forge\r\n",
      "pyqtchart                 5.12             py36h7ec31b9_7    conda-forge\r\n",
      "pyqtwebengine             5.12.1           py36h7ec31b9_7    conda-forge\r\n",
      "pyrsistent                0.17.3           py36h8f6f2f9_2    conda-forge\r\n",
      "pyspark                   3.0.1                    pypi_0    pypi\r\n",
      "pytest                    6.2.2                    pypi_0    pypi\r\n",
      "python                    3.6.12          hffdb5ce_0_cpython    conda-forge\r\n",
      "python-dateutil           2.8.1                      py_0    conda-forge\r\n",
      "python-editor             1.0.4                    pypi_0    pypi\r\n",
      "python-graphviz           0.8.4                    pypi_0    pypi\r\n",
      "python-json-logger        2.0.1                    pypi_0    pypi\r\n",
      "python-slugify            4.0.1                    pypi_0    pypi\r\n",
      "python_abi                3.6                     1_cp36m    conda-forge\r\n",
      "pytorch-ignite            0.4.2                    pypi_0    pypi\r\n",
      "pytorch-lightning         1.0.3                    pypi_0    pypi\r\n",
      "pytz                      2020.1                   pypi_0    pypi\r\n",
      "pywavelets                1.1.1                    pypi_0    pypi\r\n",
      "pyyaml                    3.12                     pypi_0    pypi\r\n",
      "pyzmq                     19.0.2                   pypi_0    pypi\r\n",
      "qt                        5.12.9               h9d6b050_2    conda-forge\r\n",
      "qtconsole                 4.7.7                    pypi_0    pypi\r\n",
      "qtpy                      1.9.0                      py_0    conda-forge\r\n",
      "readline                  8.0                  he28a2e2_2    conda-forge\r\n",
      "regex                     2020.10.23               pypi_0    pypi\r\n",
      "requests                  2.25.1                   pypi_0    pypi\r\n",
      "requests-oauthlib         1.3.0                    pypi_0    pypi\r\n",
      "retrying                  1.3.3                    pypi_0    pypi\r\n",
      "rhash                     1.4.1                h7f98852_0    conda-forge\r\n",
      "rpy2                      3.2.7                    pypi_0    pypi\r\n",
      "rsa                       4.7                      pypi_0    pypi\r\n",
      "ruamel-yaml               0.16.12                  pypi_0    pypi\r\n",
      "ruamel-yaml-clib          0.2.2                    pypi_0    pypi\r\n",
      "sacremoses                0.0.43                   pypi_0    pypi\r\n",
      "scikit-image              0.17.2                   pypi_0    pypi\r\n",
      "scikit-learn              0.23.2                   pypi_0    pypi\r\n",
      "scipy                     1.4.1                    pypi_0    pypi\r\n",
      "send2trash                1.5.0                      py_0    conda-forge\r\n",
      "sentencepiece             0.1.94                   pypi_0    pypi\r\n",
      "setuptools                51.1.2                   pypi_0    pypi\r\n",
      "shap                      0.36.0                   pypi_0    pypi\r\n",
      "simplegeneric             0.8.1                    pypi_0    pypi\r\n",
      "six                       1.15.0             pyh9f0ad1d_0    conda-forge\r\n",
      "slicer                    0.0.4                    pypi_0    pypi\r\n",
      "slugify                   0.0.1                    pypi_0    pypi\r\n",
      "smmap                     3.0.4                    pypi_0    pypi\r\n",
      "sortedcontainers          2.3.0              pyhd8ed1ab_0    conda-forge\r\n",
      "spacy                     2.3.2                    pypi_0    pypi\r\n",
      "sqlalchemy                1.3.20                   pypi_0    pypi\r\n",
      "sqlite                    3.34.0               h74cdb3f_0    conda-forge\r\n",
      "srsly                     1.0.2                    pypi_0    pypi\r\n",
      "statsmodels               0.12.1                   pypi_0    pypi\r\n",
      "tblib                     1.6.0                      py_0    conda-forge\r\n",
      "tensorboard               2.2.2                    pypi_0    pypi\r\n",
      "tensorboard-plugin-wit    1.7.0                    pypi_0    pypi\r\n",
      "tensorboardx              2.1                      pypi_0    pypi\r\n",
      "tensorflow                2.2.0                    pypi_0    pypi\r\n",
      "tensorflow-estimator      2.2.0                    pypi_0    pypi\r\n",
      "tensorflow-gpu            2.2.0                    pypi_0    pypi\r\n",
      "termcolor                 1.1.0                    pypi_0    pypi\r\n",
      "terminado                 0.9.2            py36h5fab9bb_0    conda-forge\r\n",
      "testpath                  0.4.4                      py_0    conda-forge\r\n",
      "text-unidecode            1.3                      pypi_0    pypi\r\n",
      "thinc                     7.4.1                    pypi_0    pypi\r\n",
      "threadpoolctl             2.1.0                    pypi_0    pypi\r\n",
      "tifffile                  2020.9.3                 pypi_0    pypi\r\n",
      "tk                        8.6.10               h21135ba_1    conda-forge\r\n",
      "tokenizers                0.9.2                    pypi_0    pypi\r\n",
      "toml                      0.10.2                   pypi_0    pypi\r\n",
      "toolz                     0.11.1                     py_0    conda-forge\r\n",
      "torch                     1.6.0                    pypi_0    pypi\r\n",
      "torchvision               0.7.0                    pypi_0    pypi\r\n",
      "tornado                   6.0.4                    pypi_0    pypi\r\n",
      "tqdm                      4.51.0                   pypi_0    pypi\r\n",
      "traitlets                 4.3.3            py36h9f0ad1d_1    conda-forge\r\n",
      "transformers              3.4.0                    pypi_0    pypi\r\n",
      "typing_extensions         3.7.4.3                    py_0    conda-forge\r\n",
      "tzlocal                   2.1                      pypi_0    pypi\r\n",
      "urllib3                   1.26.2                   pypi_0    pypi\r\n",
      "wasabi                    0.8.0                    pypi_0    pypi\r\n",
      "wcwidth                   0.2.5              pyh9f0ad1d_2    conda-forge\r\n",
      "webencodings              0.5.1                    pypi_0    pypi\r\n",
      "werkzeug                  1.0.1                    pypi_0    pypi\r\n",
      "wheel                     0.36.2                   pypi_0    pypi\r\n",
      "widgetsnbextension        3.5.1            py36h5fab9bb_4    conda-forge\r\n",
      "wrapt                     1.12.1                   pypi_0    pypi\r\n",
      "xorg-libxau               1.0.9                h7f98852_0    conda-forge\r\n",
      "xorg-libxdmcp             1.1.3                h7f98852_0    conda-forge\r\n",
      "xz                        5.2.5                h516909a_1    conda-forge\r\n",
      "yaml                      0.2.5                h516909a_0    conda-forge\r\n",
      "zeromq                    4.3.3                h58526e2_3    conda-forge\r\n",
      "zict                      2.0.0                      py_0    conda-forge\r\n",
      "zipp                      3.3.1                    pypi_0    pypi\r\n",
      "zlib                      1.2.11            h516909a_1010    conda-forge\r\n",
      "zstd                      1.4.8                ha95c52a_1    conda-forge\r\n"
     ]
    }
   ],
   "source": [
    "# If conda is accessible - list my installed modules\n",
    "!conda list"
   ]
  },
  {
   "cell_type": "code",
   "execution_count": 35,
   "metadata": {},
   "outputs": [
    {
     "name": "stdout",
     "output_type": "stream",
     "text": [
      "Package                       Version\r\n",
      "----------------------------- -----------\r\n",
      "-ensorflow-gpu                2.2.0\r\n",
      "absl-py                       0.11.0\r\n",
      "alembic                       1.4.3\r\n",
      "argon2-cffi                   20.1.0\r\n",
      "astunparse                    1.6.3\r\n",
      "async-generator               1.10\r\n",
      "attrs                         20.3.0\r\n",
      "backcall                      0.2.0\r\n",
      "backports.functools-lru-cache 1.6.1\r\n",
      "bleach                        3.2.1\r\n",
      "blis                          0.4.1\r\n",
      "bokeh                         2.2.3\r\n",
      "brewer2mpl                    1.4.1\r\n",
      "cached-property               1.5.2\r\n",
      "cachetools                    4.2.0\r\n",
      "catalogue                     1.0.0\r\n",
      "certifi                       2020.12.5\r\n",
      "certipy                       0.1.3\r\n",
      "cffi                          1.14.4\r\n",
      "chardet                       4.0.0\r\n",
      "click                         7.1.2\r\n",
      "cloudpickle                   1.6.0\r\n",
      "conda-verify                  3.1.1\r\n",
      "contextvars                   2.4\r\n",
      "cryptography                  3.2.1\r\n",
      "cycler                        0.10.0\r\n",
      "cymem                         2.0.3\r\n",
      "cytoolz                       0.11.0\r\n",
      "dask                          2020.12.0\r\n",
      "dataclasses                   0.8\r\n",
      "decorator                     4.4.2\r\n",
      "defusedxml                    0.6.0\r\n",
      "deprecation                   2.1.0\r\n",
      "descartes                     1.1.0\r\n",
      "dill                          0.3.3\r\n",
      "diskcache                     5.1.0\r\n",
      "distributed                   2020.12.0\r\n",
      "entrypoints                   0.3\r\n",
      "fastai                        2.0.16\r\n",
      "fastcore                      1.2.5\r\n",
      "fastinference                 0.0.27\r\n",
      "fastprogress                  1.0.0\r\n",
      "filelock                      3.0.12\r\n",
      "flatbuffers                   1.12\r\n",
      "fsspec                        0.8.5\r\n",
      "future                        0.18.2\r\n",
      "gast                          0.3.3\r\n",
      "gcc7                          0.0.7\r\n",
      "gitdb                         4.0.5\r\n",
      "GitPython                     3.1.11\r\n",
      "google-auth                   1.24.0\r\n",
      "google-auth-oauthlib          0.4.2\r\n",
      "google-pasta                  0.2.0\r\n",
      "graphviz                      0.8.4\r\n",
      "grpcio                        1.34.1\r\n",
      "h5py                          2.10.0\r\n",
      "HeapDict                      1.0.1\r\n",
      "horovod                       0.21.1\r\n",
      "html5lib                      0.9999999\r\n",
      "idna                          2.10\r\n",
      "imageio                       2.9.0\r\n",
      "immutables                    0.14\r\n",
      "importlib-metadata            3.4.0\r\n",
      "iniconfig                     1.1.1\r\n",
      "ipykernel                     5.4.2\r\n",
      "ipython                       7.16.1\r\n",
      "ipython-genutils              0.2.0\r\n",
      "ipywidgets                    7.6.3\r\n",
      "jedi                          0.18.0\r\n",
      "Jinja2                        2.11.2\r\n",
      "joblib                        0.17.0\r\n",
      "json5                         0.9.5\r\n",
      "jsonschema                    3.2.0\r\n",
      "jupyter                       1.0.0\r\n",
      "jupyter-client                6.1.11\r\n",
      "jupyter-console               6.2.0\r\n",
      "jupyter-core                  4.7.0\r\n",
      "jupyter-telemetry             0.1.0\r\n",
      "jupyterhub                    1.2.0\r\n",
      "jupyterlab                    2.2.9\r\n",
      "jupyterlab-pygments           0.1.2\r\n",
      "jupyterlab-server             1.2.0\r\n",
      "jupyterlab-widgets            1.0.0\r\n",
      "kaggle                        1.5.9\r\n",
      "Keras                         2.4.3\r\n",
      "Keras-Preprocessing           1.1.2\r\n",
      "kiwisolver                    1.2.0\r\n",
      "kornia                        0.4.1\r\n",
      "llvmlite                      0.34.0\r\n",
      "locket                        0.2.0\r\n",
      "Mako                          1.1.3\r\n",
      "Markdown                      3.3.3\r\n",
      "MarkupSafe                    1.1.1\r\n",
      "matplotlib                    3.3.2\r\n",
      "mistune                       0.8.4\r\n",
      "mizani                        0.7.1\r\n",
      "mpi4py                        3.0.3\r\n",
      "msgpack                       1.0.2\r\n",
      "murmurhash                    1.0.2\r\n",
      "mxnet                         1.7.0.post1\r\n",
      "nbclient                      0.5.1\r\n",
      "nbconvert                     6.0.7\r\n",
      "nbformat                      5.0.8\r\n",
      "nest-asyncio                  1.4.3\r\n",
      "networkx                      2.5\r\n",
      "notebook                      6.2.0\r\n",
      "numba                         0.51.2\r\n",
      "numpy                         1.19.5\r\n",
      "oauthlib                      3.1.0\r\n",
      "olefile                       0.46\r\n",
      "opencv-python                 4.4.0.44\r\n",
      "opt-einsum                    3.3.0\r\n",
      "packaging                     20.8\r\n",
      "palettable                    3.3.0\r\n",
      "pamela                        1.0.0\r\n",
      "pandas                        1.1.5\r\n",
      "pandocfilters                 1.4.3\r\n",
      "parso                         0.8.1\r\n",
      "partd                         1.1.0\r\n",
      "patsy                         0.5.1\r\n",
      "petastorm                     0.9.8\r\n",
      "pexpect                       4.8.0\r\n",
      "pickleshare                   0.7.5\r\n",
      "Pillow                        8.1.0\r\n",
      "pip                           20.3.3\r\n",
      "plac                          1.1.3\r\n",
      "plotly                        4.14.3\r\n",
      "plotnine                      0.7.1\r\n",
      "pluggy                        0.13.1\r\n",
      "preshed                       3.0.2\r\n",
      "prometheus-client             0.9.0\r\n",
      "prompt-toolkit                3.0.10\r\n",
      "protobuf                      3.14.0\r\n",
      "psutil                        5.8.0\r\n",
      "ptyprocess                    0.7.0\r\n",
      "py                            1.10.0\r\n",
      "py4j                          0.10.9\r\n",
      "pyarrow                       2.0.0\r\n",
      "pyasn1                        0.4.8\r\n",
      "pyasn1-modules                0.2.8\r\n",
      "pycountry                     20.7.3\r\n",
      "pycparser                     2.20\r\n",
      "pydicom                       2.0.0\r\n",
      "Pygments                      2.7.3\r\n",
      "pyOpenSSL                     19.1.0\r\n",
      "pyparsing                     2.4.7\r\n",
      "PyQt5                         5.12.3\r\n",
      "PyQt5-sip                     4.19.18\r\n",
      "PyQtChart                     5.12\r\n",
      "PyQtWebEngine                 5.12.1\r\n",
      "pyrsistent                    0.17.3\r\n",
      "pyspark                       3.0.1\r\n",
      "pytest                        6.2.2\r\n",
      "python-dateutil               2.8.1\r\n",
      "python-editor                 1.0.4\r\n",
      "python-json-logger            2.0.1\r\n",
      "python-slugify                4.0.1\r\n",
      "pytorch-ignite                0.4.2\r\n",
      "pytorch-lightning             1.0.3\r\n",
      "pytz                          2020.5\r\n",
      "PyWavelets                    1.1.1\r\n",
      "PyYAML                        5.3.1\r\n",
      "pyzmq                         20.0.0\r\n",
      "qtconsole                     5.0.1\r\n",
      "QtPy                          1.9.0\r\n",
      "regex                         2020.10.23\r\n",
      "requests                      2.25.1\r\n",
      "requests-oauthlib             1.3.0\r\n",
      "retrying                      1.3.3\r\n",
      "rpy2                          3.2.7\r\n",
      "rsa                           4.7\r\n",
      "ruamel.yaml                   0.16.12\r\n",
      "ruamel.yaml.clib              0.2.2\r\n",
      "sacremoses                    0.0.43\r\n",
      "scikit-image                  0.17.2\r\n",
      "scikit-learn                  0.23.2\r\n",
      "scipy                         1.4.1\r\n",
      "Send2Trash                    1.5.0\r\n",
      "sentencepiece                 0.1.94\r\n",
      "setuptools                    51.1.2\r\n",
      "shap                          0.36.0\r\n",
      "simplegeneric                 0.8.1\r\n",
      "six                           1.15.0\r\n",
      "slicer                        0.0.4\r\n",
      "slugify                       0.0.1\r\n",
      "smmap                         3.0.4\r\n",
      "sortedcontainers              2.3.0\r\n",
      "spacy                         2.3.2\r\n",
      "SQLAlchemy                    1.3.20\r\n",
      "srsly                         1.0.2\r\n",
      "statsmodels                   0.12.1\r\n",
      "tblib                         1.6.0\r\n",
      "tensorboard                   2.2.2\r\n",
      "tensorboard-plugin-wit        1.7.0\r\n",
      "tensorboardX                  2.1\r\n",
      "tensorflow                    2.2.0\r\n",
      "tensorflow-estimator          2.2.0\r\n",
      "tensorflow-gpu                2.2.0\r\n",
      "termcolor                     1.1.0\r\n",
      "terminado                     0.9.2\r\n",
      "testpath                      0.4.4\r\n",
      "text-unidecode                1.3\r\n",
      "thinc                         7.4.1\r\n",
      "threadpoolctl                 2.1.0\r\n",
      "tifffile                      2020.9.3\r\n",
      "tokenizers                    0.9.2\r\n",
      "toml                          0.10.2\r\n",
      "toolz                         0.11.1\r\n",
      "torch                         1.6.0\r\n",
      "torchvision                   0.7.0\r\n",
      "tornado                       6.1\r\n",
      "tqdm                          4.51.0\r\n",
      "traitlets                     4.3.3\r\n",
      "transformers                  3.4.0\r\n",
      "typing-extensions             3.7.4.3\r\n",
      "tzlocal                       2.1\r\n",
      "urllib3                       1.26.2\r\n",
      "wasabi                        0.8.0\r\n",
      "wcwidth                       0.2.5\r\n",
      "webencodings                  0.5.1\r\n",
      "Werkzeug                      1.0.1\r\n",
      "wheel                         0.36.2\r\n",
      "widgetsnbextension            3.5.1\r\n",
      "wrapt                         1.12.1\r\n",
      "zict                          2.0.0\r\n",
      "zipp                          3.4.0\r\n"
     ]
    }
   ],
   "source": [
    "# Alternatively - list install modules using \"pip\" \n",
    "!pip list"
   ]
  },
  {
   "cell_type": "code",
   "execution_count": 36,
   "metadata": {},
   "outputs": [
    {
     "name": "stdout",
     "output_type": "stream",
     "text": [
      "Requirement already satisfied: pycountry in /cm/shared/apps/scientific/R/.miniconda/envs/r-reticulate/lib/python3.6/site-packages (20.7.3)\n",
      "Requirement already satisfied: rpy2==3.2.7 in /cm/shared/apps/scientific/R/.miniconda/envs/r-reticulate/lib/python3.6/site-packages (3.2.7)\n",
      "Requirement already satisfied: pytest in /cm/shared/apps/scientific/R/.miniconda/envs/r-reticulate/lib/python3.6/site-packages (from rpy2==3.2.7) (6.2.2)\n",
      "Requirement already satisfied: cffi>=1.13.1 in /cm/shared/apps/scientific/R/.miniconda/envs/r-reticulate/lib/python3.6/site-packages (from rpy2==3.2.7) (1.14.4)\n",
      "Requirement already satisfied: simplegeneric in /cm/shared/apps/scientific/R/.miniconda/envs/r-reticulate/lib/python3.6/site-packages (from rpy2==3.2.7) (0.8.1)\n",
      "Requirement already satisfied: tzlocal in /cm/shared/apps/scientific/R/.miniconda/envs/r-reticulate/lib/python3.6/site-packages (from rpy2==3.2.7) (2.1)\n",
      "Requirement already satisfied: jinja2 in /cm/shared/apps/scientific/R/.miniconda/envs/r-reticulate/lib/python3.6/site-packages (from rpy2==3.2.7) (2.11.2)\n",
      "Requirement already satisfied: pytz in /cm/shared/apps/scientific/R/.miniconda/envs/r-reticulate/lib/python3.6/site-packages (from rpy2==3.2.7) (2020.5)\n",
      "Requirement already satisfied: pycparser in /cm/shared/apps/scientific/R/.miniconda/envs/r-reticulate/lib/python3.6/site-packages (from cffi>=1.13.1->rpy2==3.2.7) (2.20)\n",
      "Requirement already satisfied: MarkupSafe>=0.23 in /cm/shared/apps/scientific/R/.miniconda/envs/r-reticulate/lib/python3.6/site-packages (from jinja2->rpy2==3.2.7) (1.1.1)\n",
      "Requirement already satisfied: importlib-metadata>=0.12 in /cm/shared/apps/scientific/R/.miniconda/envs/r-reticulate/lib/python3.6/site-packages (from pytest->rpy2==3.2.7) (3.4.0)\n",
      "Requirement already satisfied: iniconfig in /cm/shared/apps/scientific/R/.miniconda/envs/r-reticulate/lib/python3.6/site-packages (from pytest->rpy2==3.2.7) (1.1.1)\n",
      "Requirement already satisfied: pluggy<1.0.0a1,>=0.12 in /cm/shared/apps/scientific/R/.miniconda/envs/r-reticulate/lib/python3.6/site-packages (from pytest->rpy2==3.2.7) (0.13.1)\n",
      "Requirement already satisfied: attrs>=19.2.0 in /cm/shared/apps/scientific/R/.miniconda/envs/r-reticulate/lib/python3.6/site-packages (from pytest->rpy2==3.2.7) (20.3.0)\n",
      "Requirement already satisfied: packaging in /cm/shared/apps/scientific/R/.miniconda/envs/r-reticulate/lib/python3.6/site-packages (from pytest->rpy2==3.2.7) (20.8)\n",
      "Requirement already satisfied: py>=1.8.2 in /cm/shared/apps/scientific/R/.miniconda/envs/r-reticulate/lib/python3.6/site-packages (from pytest->rpy2==3.2.7) (1.10.0)\n",
      "Requirement already satisfied: toml in /cm/shared/apps/scientific/R/.miniconda/envs/r-reticulate/lib/python3.6/site-packages (from pytest->rpy2==3.2.7) (0.10.2)\n",
      "Requirement already satisfied: zipp>=0.5 in /cm/shared/apps/scientific/R/.miniconda/envs/r-reticulate/lib/python3.6/site-packages (from importlib-metadata>=0.12->pytest->rpy2==3.2.7) (3.4.0)\n",
      "Requirement already satisfied: typing-extensions>=3.6.4 in /cm/shared/apps/scientific/R/.miniconda/envs/r-reticulate/lib/python3.6/site-packages (from importlib-metadata>=0.12->pytest->rpy2==3.2.7) (3.7.4.3)\n",
      "Requirement already satisfied: pyparsing>=2.0.2 in /cm/shared/apps/scientific/R/.miniconda/envs/r-reticulate/lib/python3.6/site-packages (from packaging->pytest->rpy2==3.2.7) (2.4.7)\n",
      "Requirement already satisfied: statsmodels==0.12.1 in /cm/shared/apps/scientific/R/.miniconda/envs/r-reticulate/lib/python3.6/site-packages (0.12.1)\n",
      "Requirement already satisfied: numpy>=1.15 in /cm/shared/apps/scientific/R/.miniconda/envs/r-reticulate/lib/python3.6/site-packages (from statsmodels==0.12.1) (1.19.5)\n",
      "Requirement already satisfied: patsy>=0.5 in /cm/shared/apps/scientific/R/.miniconda/envs/r-reticulate/lib/python3.6/site-packages (from statsmodels==0.12.1) (0.5.1)\n",
      "Requirement already satisfied: scipy>=1.1 in /cm/shared/apps/scientific/R/.miniconda/envs/r-reticulate/lib/python3.6/site-packages (from statsmodels==0.12.1) (1.4.1)\n",
      "Requirement already satisfied: pandas>=0.21 in /cm/shared/apps/scientific/R/.miniconda/envs/r-reticulate/lib/python3.6/site-packages (from statsmodels==0.12.1) (1.1.5)\n",
      "Requirement already satisfied: python-dateutil>=2.7.3 in /cm/shared/apps/scientific/R/.miniconda/envs/r-reticulate/lib/python3.6/site-packages (from pandas>=0.21->statsmodels==0.12.1) (2.8.1)\n",
      "Requirement already satisfied: pytz>=2017.2 in /cm/shared/apps/scientific/R/.miniconda/envs/r-reticulate/lib/python3.6/site-packages (from pandas>=0.21->statsmodels==0.12.1) (2020.5)\n",
      "Requirement already satisfied: six in /cm/shared/apps/scientific/R/.miniconda/envs/r-reticulate/lib/python3.6/site-packages (from patsy>=0.5->statsmodels==0.12.1) (1.15.0)\n",
      "Requirement already satisfied: pandas in /cm/shared/apps/scientific/R/.miniconda/envs/r-reticulate/lib/python3.6/site-packages (1.1.5)\n",
      "Requirement already satisfied: numpy>=1.15.4 in /cm/shared/apps/scientific/R/.miniconda/envs/r-reticulate/lib/python3.6/site-packages (from pandas) (1.19.5)\n",
      "Requirement already satisfied: pytz>=2017.2 in /cm/shared/apps/scientific/R/.miniconda/envs/r-reticulate/lib/python3.6/site-packages (from pandas) (2020.5)\n",
      "Requirement already satisfied: python-dateutil>=2.7.3 in /cm/shared/apps/scientific/R/.miniconda/envs/r-reticulate/lib/python3.6/site-packages (from pandas) (2.8.1)\n",
      "Requirement already satisfied: six>=1.5 in /cm/shared/apps/scientific/R/.miniconda/envs/r-reticulate/lib/python3.6/site-packages (from python-dateutil>=2.7.3->pandas) (1.15.0)\n",
      "Requirement already satisfied: plotly in /cm/shared/apps/scientific/R/.miniconda/envs/r-reticulate/lib/python3.6/site-packages (4.14.3)\n",
      "Requirement already satisfied: retrying>=1.3.3 in /cm/shared/apps/scientific/R/.miniconda/envs/r-reticulate/lib/python3.6/site-packages (from plotly) (1.3.3)\n",
      "Requirement already satisfied: six in /cm/shared/apps/scientific/R/.miniconda/envs/r-reticulate/lib/python3.6/site-packages (from plotly) (1.15.0)\n"
     ]
    }
   ],
   "source": [
    "# Installing a module using \"pip\"\n",
    "# Use \"--yes\" flag when not wanting to use interactive mode - this is used \n",
    "# when uninstalling packages.\n",
    "#\n",
    "# \"pycountry\" is useful for an upcoming assignment\n",
    "!pip install pycountry\n",
    "# Module allowing the use of R inside Python\n",
    "!pip install rpy2==3.2.7\n",
    "# Robust estimtors for Python\n",
    "# See here: https://www.statsmodels.org/stable/index.html\n",
    "#     also: https://pypi.org/project/statsmodels/#history\n",
    "# I had to install this specific version to get it to work \n",
    "!pip install statsmodels==0.12.1 \n",
    "# General purpose toolbox for data exploration, visualization and analysis\n",
    "!pip install pandas\n",
    "# Visualization \n",
    "!pip install plotly"
   ]
  },
  {
   "cell_type": "code",
   "execution_count": 37,
   "metadata": {},
   "outputs": [
    {
     "name": "stdout",
     "output_type": "stream",
     "text": [
      "This is an example string\n"
     ]
    }
   ],
   "source": [
    "# String variables. Strings consist of one or more characters enclosed  \n",
    "# within single or double quotes.\n",
    "var_string=\"This is an example string\"\n",
    "print(var_string)"
   ]
  },
  {
   "cell_type": "code",
   "execution_count": 38,
   "metadata": {},
   "outputs": [
    {
     "name": "stdout",
     "output_type": "stream",
     "text": [
      "['id', 'name', 'direction']\n",
      "[0, 120, 140]\n"
     ]
    }
   ],
   "source": [
    "# Example of a \"list\" structure:  \n",
    "# Every element of the list is automatically assigned starting from 0.   \n",
    "var_list=[\"id\", \"name\", \"direction\"]\n",
    "location_list=[0, 120, 140]\n",
    "print(var_list)\n",
    "print(location_list)"
   ]
  },
  {
   "cell_type": "code",
   "execution_count": 39,
   "metadata": {},
   "outputs": [
    {
     "name": "stdout",
     "output_type": "stream",
     "text": [
      "direction\n"
     ]
    }
   ],
   "source": [
    "# Access the second index element of \"var_list\".\n",
    "print(var_list[2])"
   ]
  },
  {
   "cell_type": "code",
   "execution_count": 40,
   "metadata": {},
   "outputs": [
    {
     "data": {
      "text/plain": [
       "86.66666666666667"
      ]
     },
     "execution_count": 40,
     "metadata": {},
     "output_type": "execute_result"
    }
   ],
   "source": [
    "# Can use a function to that operates on all the ellements of the list to \n",
    "# produce an output value. \"sum\" adds all elements and \"len\" gives \n",
    "# the length of the list.\n",
    "sum(location_list)/len(location_list)"
   ]
  },
  {
   "cell_type": "code",
   "execution_count": 41,
   "metadata": {},
   "outputs": [
    {
     "name": "stdout",
     "output_type": "stream",
     "text": [
      "(0, 120, 140)\n"
     ]
    }
   ],
   "source": [
    "# Example of \"tuple\" structure:\n",
    "# Tuples are like lists except that you cannot modify\n",
    "# their elements after you create them.  This insures that the data \n",
    "# stays in a read-only status.  Use a pair of parentheses rather than \n",
    "# brackets to create the tuple.\n",
    "location_tuple=(0, 120, 140)\n",
    "print(location_tuple)"
   ]
  },
  {
   "cell_type": "code",
   "execution_count": 42,
   "metadata": {},
   "outputs": [
    {
     "name": "stdout",
     "output_type": "stream",
     "text": [
      "{'3', 'a', 'hello', '$', '_'}\n"
     ]
    }
   ],
   "source": [
    "# Example of \"set\" structure:\n",
    "# Sets consists of unorded elements so they cannot be indexed.  \"Sets are \n",
    "# perhaps less useful than \"lists\".\n",
    "var_set = set(['a', '3', '$', '_', 'hello'])\n",
    "print(var_set)"
   ]
  },
  {
   "cell_type": "code",
   "execution_count": 43,
   "metadata": {},
   "outputs": [
    {
     "name": "stdout",
     "output_type": "stream",
     "text": [
      "{'id': 100, 'name': 'rich', 'direction': 120}\n"
     ]
    },
    {
     "data": {
      "text/plain": [
       "120"
      ]
     },
     "execution_count": 43,
     "metadata": {},
     "output_type": "execute_result"
    }
   ],
   "source": [
    "# Examples of \"dictionary\" structure:\n",
    "# Dictionaries are data structures that consist of pairs of \"keys\" \n",
    "# and \"values\".  Every value corresponds to a certain key and each value\n",
    "# can be accessed by using that key/\n",
    "var_dict = {\"id\":100, \"name\":\"rich\", \"direction\":120}   \n",
    "print(var_dict)\n",
    "var_dict[\"direction\"]"
   ]
  },
  {
   "cell_type": "markdown",
   "metadata": {},
   "source": [
    "Looping Examples:"
   ]
  },
  {
   "cell_type": "code",
   "execution_count": 44,
   "metadata": {},
   "outputs": [
    {
     "name": "stdout",
     "output_type": "stream",
     "text": [
      "id\n",
      "name\n",
      "direction\n",
      "id\n",
      "name\n",
      "direction\n"
     ]
    }
   ],
   "source": [
    "# \"For-loops\" - iterating over elements.  For-loops use looping to execute\n",
    "# the same block of code multiple times.  There are two kinds of loops in python - the \"for-loop\"\n",
    "# and the \"while-loop\".  The for-loop is used whenever the number of loops is known in advance; \n",
    "# The while-loop is used to perform actions while a given condition is true.\n",
    "#\n",
    "\n",
    "# Here the name of the index - \"element\" - is arbitrary.\n",
    "\n",
    "for element in var_dict:\n",
    "    print(element)\n",
    "\n",
    "for i in var_dict:\n",
    "    print(i)"
   ]
  },
  {
   "cell_type": "code",
   "execution_count": 45,
   "metadata": {},
   "outputs": [
    {
     "name": "stdout",
     "output_type": "stream",
     "text": [
      "1\n",
      "2\n",
      "3\n",
      "4\n",
      "5\n",
      "6\n"
     ]
    }
   ],
   "source": [
    "# Very simple while loop.  Print sequential integers until 6 is reached then stop. \"<=\" reads \n",
    "# as \"less than or equal\".  The \"+=\" operator increments the variable by 1 on each iteration.\n",
    "element = 1\n",
    "while element <= 6:\n",
    "  print(element)\n",
    "  element += 1"
   ]
  },
  {
   "cell_type": "markdown",
   "metadata": {},
   "source": [
    "Example of Simple Functions"
   ]
  },
  {
   "cell_type": "code",
   "execution_count": 46,
   "metadata": {},
   "outputs": [
    {
     "name": "stdout",
     "output_type": "stream",
     "text": [
      "86.66666666666667\n",
      "0.0\n"
     ]
    }
   ],
   "source": [
    "# Creating functions:  Here we create a function using the \n",
    "# simple average formula from above for the \"location_list\" object.  \n",
    "# Notice that we assign a default list value of 0.\n",
    "#\n",
    "#\n",
    "#\n",
    "def average_function(some_list=[0]):\n",
    "    return(sum(some_list)/len(some_list))\n",
    "\n",
    "# Giving a calling argument in this case it is \"location_list\" object\n",
    "# defined above\n",
    "loc_avg=average_function(location_list)\n",
    "print(loc_avg)\n",
    "\n",
    "# No calling arguments\n",
    "print(average_function())"
   ]
  },
  {
   "cell_type": "markdown",
   "metadata": {},
   "source": [
    "Some examples using various modules:  \"pandas\", \"rpy2\", \"matplotlib\", \"plotly\", \"statsmodels\""
   ]
  },
  {
   "cell_type": "code",
   "execution_count": 47,
   "metadata": {},
   "outputs": [
    {
     "name": "stdout",
     "output_type": "stream",
     "text": [
      "Package                       Version\r\n",
      "----------------------------- -----------\r\n",
      "-ensorflow-gpu                2.2.0\r\n",
      "absl-py                       0.11.0\r\n",
      "alembic                       1.4.3\r\n",
      "argon2-cffi                   20.1.0\r\n",
      "astunparse                    1.6.3\r\n",
      "async-generator               1.10\r\n",
      "attrs                         20.3.0\r\n",
      "backcall                      0.2.0\r\n",
      "backports.functools-lru-cache 1.6.1\r\n",
      "bleach                        3.2.1\r\n",
      "blis                          0.4.1\r\n",
      "bokeh                         2.2.3\r\n",
      "brewer2mpl                    1.4.1\r\n",
      "cached-property               1.5.2\r\n",
      "cachetools                    4.2.0\r\n",
      "catalogue                     1.0.0\r\n",
      "certifi                       2020.12.5\r\n",
      "certipy                       0.1.3\r\n",
      "cffi                          1.14.4\r\n",
      "chardet                       4.0.0\r\n",
      "click                         7.1.2\r\n",
      "cloudpickle                   1.6.0\r\n",
      "conda-verify                  3.1.1\r\n",
      "contextvars                   2.4\r\n",
      "cryptography                  3.2.1\r\n",
      "cycler                        0.10.0\r\n",
      "cymem                         2.0.3\r\n",
      "cytoolz                       0.11.0\r\n",
      "dask                          2020.12.0\r\n",
      "dataclasses                   0.8\r\n",
      "decorator                     4.4.2\r\n",
      "defusedxml                    0.6.0\r\n",
      "deprecation                   2.1.0\r\n",
      "descartes                     1.1.0\r\n",
      "dill                          0.3.3\r\n",
      "diskcache                     5.1.0\r\n",
      "distributed                   2020.12.0\r\n",
      "entrypoints                   0.3\r\n",
      "fastai                        2.0.16\r\n",
      "fastcore                      1.2.5\r\n",
      "fastinference                 0.0.27\r\n",
      "fastprogress                  1.0.0\r\n",
      "filelock                      3.0.12\r\n",
      "flatbuffers                   1.12\r\n",
      "fsspec                        0.8.5\r\n",
      "future                        0.18.2\r\n",
      "gast                          0.3.3\r\n",
      "gcc7                          0.0.7\r\n",
      "gitdb                         4.0.5\r\n",
      "GitPython                     3.1.11\r\n",
      "google-auth                   1.24.0\r\n",
      "google-auth-oauthlib          0.4.2\r\n",
      "google-pasta                  0.2.0\r\n",
      "graphviz                      0.8.4\r\n",
      "grpcio                        1.34.1\r\n",
      "h5py                          2.10.0\r\n",
      "HeapDict                      1.0.1\r\n",
      "horovod                       0.21.1\r\n",
      "html5lib                      0.9999999\r\n",
      "idna                          2.10\r\n",
      "imageio                       2.9.0\r\n",
      "immutables                    0.14\r\n",
      "importlib-metadata            3.4.0\r\n",
      "iniconfig                     1.1.1\r\n",
      "ipykernel                     5.4.2\r\n",
      "ipython                       7.16.1\r\n",
      "ipython-genutils              0.2.0\r\n",
      "ipywidgets                    7.6.3\r\n",
      "jedi                          0.18.0\r\n",
      "Jinja2                        2.11.2\r\n",
      "joblib                        0.17.0\r\n",
      "json5                         0.9.5\r\n",
      "jsonschema                    3.2.0\r\n",
      "jupyter                       1.0.0\r\n",
      "jupyter-client                6.1.11\r\n",
      "jupyter-console               6.2.0\r\n",
      "jupyter-core                  4.7.0\r\n",
      "jupyter-telemetry             0.1.0\r\n",
      "jupyterhub                    1.2.0\r\n",
      "jupyterlab                    2.2.9\r\n",
      "jupyterlab-pygments           0.1.2\r\n",
      "jupyterlab-server             1.2.0\r\n",
      "jupyterlab-widgets            1.0.0\r\n",
      "kaggle                        1.5.9\r\n",
      "Keras                         2.4.3\r\n",
      "Keras-Preprocessing           1.1.2\r\n",
      "kiwisolver                    1.2.0\r\n",
      "kornia                        0.4.1\r\n",
      "llvmlite                      0.34.0\r\n",
      "locket                        0.2.0\r\n",
      "Mako                          1.1.3\r\n",
      "Markdown                      3.3.3\r\n",
      "MarkupSafe                    1.1.1\r\n",
      "matplotlib                    3.3.2\r\n",
      "mistune                       0.8.4\r\n",
      "mizani                        0.7.1\r\n",
      "mpi4py                        3.0.3\r\n",
      "msgpack                       1.0.2\r\n",
      "murmurhash                    1.0.2\r\n",
      "mxnet                         1.7.0.post1\r\n",
      "nbclient                      0.5.1\r\n",
      "nbconvert                     6.0.7\r\n",
      "nbformat                      5.0.8\r\n",
      "nest-asyncio                  1.4.3\r\n",
      "networkx                      2.5\r\n",
      "notebook                      6.2.0\r\n",
      "numba                         0.51.2\r\n",
      "numpy                         1.19.5\r\n",
      "oauthlib                      3.1.0\r\n",
      "olefile                       0.46\r\n",
      "opencv-python                 4.4.0.44\r\n",
      "opt-einsum                    3.3.0\r\n",
      "packaging                     20.8\r\n",
      "palettable                    3.3.0\r\n",
      "pamela                        1.0.0\r\n",
      "pandas                        1.1.5\r\n",
      "pandocfilters                 1.4.3\r\n",
      "parso                         0.8.1\r\n",
      "partd                         1.1.0\r\n",
      "patsy                         0.5.1\r\n",
      "petastorm                     0.9.8\r\n",
      "pexpect                       4.8.0\r\n",
      "pickleshare                   0.7.5\r\n",
      "Pillow                        8.1.0\r\n",
      "pip                           20.3.3\r\n",
      "plac                          1.1.3\r\n",
      "plotly                        4.14.3\r\n",
      "plotnine                      0.7.1\r\n",
      "pluggy                        0.13.1\r\n",
      "preshed                       3.0.2\r\n",
      "prometheus-client             0.9.0\r\n",
      "prompt-toolkit                3.0.10\r\n",
      "protobuf                      3.14.0\r\n",
      "psutil                        5.8.0\r\n",
      "ptyprocess                    0.7.0\r\n",
      "py                            1.10.0\r\n",
      "py4j                          0.10.9\r\n",
      "pyarrow                       2.0.0\r\n",
      "pyasn1                        0.4.8\r\n",
      "pyasn1-modules                0.2.8\r\n",
      "pycountry                     20.7.3\r\n",
      "pycparser                     2.20\r\n",
      "pydicom                       2.0.0\r\n",
      "Pygments                      2.7.3\r\n",
      "pyOpenSSL                     19.1.0\r\n",
      "pyparsing                     2.4.7\r\n",
      "PyQt5                         5.12.3\r\n",
      "PyQt5-sip                     4.19.18\r\n",
      "PyQtChart                     5.12\r\n",
      "PyQtWebEngine                 5.12.1\r\n",
      "pyrsistent                    0.17.3\r\n",
      "pyspark                       3.0.1\r\n",
      "pytest                        6.2.2\r\n",
      "python-dateutil               2.8.1\r\n",
      "python-editor                 1.0.4\r\n",
      "python-json-logger            2.0.1\r\n",
      "python-slugify                4.0.1\r\n",
      "pytorch-ignite                0.4.2\r\n",
      "pytorch-lightning             1.0.3\r\n",
      "pytz                          2020.5\r\n",
      "PyWavelets                    1.1.1\r\n",
      "PyYAML                        5.3.1\r\n",
      "pyzmq                         20.0.0\r\n",
      "qtconsole                     5.0.1\r\n",
      "QtPy                          1.9.0\r\n",
      "regex                         2020.10.23\r\n",
      "requests                      2.25.1\r\n",
      "requests-oauthlib             1.3.0\r\n",
      "retrying                      1.3.3\r\n",
      "rpy2                          3.2.7\r\n",
      "rsa                           4.7\r\n",
      "ruamel.yaml                   0.16.12\r\n",
      "ruamel.yaml.clib              0.2.2\r\n",
      "sacremoses                    0.0.43\r\n",
      "scikit-image                  0.17.2\r\n",
      "scikit-learn                  0.23.2\r\n",
      "scipy                         1.4.1\r\n",
      "Send2Trash                    1.5.0\r\n",
      "sentencepiece                 0.1.94\r\n",
      "setuptools                    51.1.2\r\n",
      "shap                          0.36.0\r\n",
      "simplegeneric                 0.8.1\r\n",
      "six                           1.15.0\r\n",
      "slicer                        0.0.4\r\n",
      "slugify                       0.0.1\r\n",
      "smmap                         3.0.4\r\n",
      "sortedcontainers              2.3.0\r\n",
      "spacy                         2.3.2\r\n",
      "SQLAlchemy                    1.3.20\r\n",
      "srsly                         1.0.2\r\n",
      "statsmodels                   0.12.1\r\n",
      "tblib                         1.6.0\r\n",
      "tensorboard                   2.2.2\r\n",
      "tensorboard-plugin-wit        1.7.0\r\n",
      "tensorboardX                  2.1\r\n",
      "tensorflow                    2.2.0\r\n",
      "tensorflow-estimator          2.2.0\r\n",
      "tensorflow-gpu                2.2.0\r\n",
      "termcolor                     1.1.0\r\n",
      "terminado                     0.9.2\r\n",
      "testpath                      0.4.4\r\n",
      "text-unidecode                1.3\r\n",
      "thinc                         7.4.1\r\n",
      "threadpoolctl                 2.1.0\r\n",
      "tifffile                      2020.9.3\r\n",
      "tokenizers                    0.9.2\r\n",
      "toml                          0.10.2\r\n",
      "toolz                         0.11.1\r\n",
      "torch                         1.6.0\r\n",
      "torchvision                   0.7.0\r\n",
      "tornado                       6.1\r\n",
      "tqdm                          4.51.0\r\n",
      "traitlets                     4.3.3\r\n",
      "transformers                  3.4.0\r\n",
      "typing-extensions             3.7.4.3\r\n",
      "tzlocal                       2.1\r\n",
      "urllib3                       1.26.2\r\n",
      "wasabi                        0.8.0\r\n",
      "wcwidth                       0.2.5\r\n",
      "webencodings                  0.5.1\r\n",
      "Werkzeug                      1.0.1\r\n",
      "wheel                         0.36.2\r\n",
      "widgetsnbextension            3.5.1\r\n",
      "wrapt                         1.12.1\r\n",
      "zict                          2.0.0\r\n",
      "zipp                          3.4.0\r\n"
     ]
    }
   ],
   "source": [
    "!pip list"
   ]
  },
  {
   "cell_type": "code",
   "execution_count": 48,
   "metadata": {},
   "outputs": [
    {
     "data": {
      "image/jpeg": "[encoded data removed]",
      "text/plain": [
       "<IPython.core.display.Image object>"
      ]
     },
     "metadata": {},
     "output_type": "display_data"
    }
   ],
   "source": [
    "from IPython.display import display, Image\n",
    "display(Image(filename='./jelly_beans.jpg'))"
   ]
  },
  {
   "cell_type": "code",
   "execution_count": 49,
   "metadata": {},
   "outputs": [
    {
     "name": "stdout",
     "output_type": "stream",
     "text": [
      "       x\n",
      "0    600\n",
      "1   1000\n",
      "2    829\n",
      "3   1100\n",
      "4    700\n",
      "5   1565\n",
      "6    600\n",
      "7    700\n",
      "8    600\n",
      "9    850\n",
      "10   880\n",
      "11   300\n",
      "12   900\n",
      "13  3000\n",
      "14   700\n",
      "15  1000\n",
      "16   750\n",
      "17   600\n",
      "18   900\n",
      "19  1200\n",
      "20  1400\n",
      "21  1500\n",
      "22  1300\n",
      "23  4000\n",
      "24  1214\n",
      "25   800\n",
      "26   650\n",
      "27   900\n",
      "28  1400\n",
      "29  2000\n",
      "30   800\n",
      "31   850\n",
      "32  5000\n",
      "33  1200\n",
      "34  1500\n",
      "35   900\n",
      "36   700\n",
      "37   512\n",
      "38   600\n",
      "39   700\n",
      "40   500\n",
      "41   500\n",
      "42   700\n",
      "43  1000\n",
      "44  1000\n",
      "45   850\n",
      "46  1050\n",
      "47  1300\n",
      "48  1250\n",
      "49  1000\n",
      "50   800\n",
      "51  1777\n",
      "52  1100\n",
      "53  1100\n"
     ]
    }
   ],
   "source": [
    "# Example: \"jelly-bean\" estimates:\n",
    "\n",
    "# Importing text data into Python using \"pandas\"\n",
    "# See \"pandas\" documentation \n",
    "# pandas.pydata.org/pandas-docs\n",
    "# Also see https://www.tutorialspoint.com/python_pandas/python_pandas_basic_functionality.htm\n",
    "# for basic functionality\n",
    "#\n",
    "import pandas as pd\n",
    "# from pandas import read_csv\n",
    "df = pd.read_csv(r\"./jellybean_estimates.txt\")\n",
    "print(df)"
   ]
  },
  {
   "cell_type": "code",
   "execution_count": 50,
   "metadata": {},
   "outputs": [
    {
     "data": {
      "text/plain": [
       "(array([17., 24.,  8.,  2.,  0.,  1.,  0.,  1.,  0.,  1.]),\n",
       " array([ 300.,  770., 1240., 1710., 2180., 2650., 3120., 3590., 4060.,\n",
       "        4530., 5000.]),\n",
       " <BarContainer object of 10 artists>)"
      ]
     },
     "execution_count": 50,
     "metadata": {},
     "output_type": "execute_result"
    },
    {
     "data": {
      "image/png": "[encoded data removed]",
      "text/plain": [
       "<Figure size 432x288 with 1 Axes>"
      ]
     },
     "metadata": {
      "needs_background": "light"
     },
     "output_type": "display_data"
    }
   ],
   "source": [
    "# See https://mode.com/blog/python-data-visualization-libraries/ \n",
    "# for different visualization modules.  Here we use modules \"matplotlib\" and \"plotly\" \n",
    "import matplotlib.pyplot as plt\n",
    "plt.hist(df.x)"
   ]
  },
  {
   "cell_type": "code",
   "execution_count": 51,
   "metadata": {},
   "outputs": [
    {
     "data": {
      "application/vnd.plotly.v1+json": {
       "config": {
        "plotlyServerURL": "https://plot.ly"
       },
       "data": [
        {
         "alignmentgroup": "True",
         "bingroup": "x",
         "histnorm": "probability density",
         "hovertemplate": "x=%{x}<br>probability density=%{y}<extra></extra>",
         "legendgroup": "",
         "marker": {
          "color": "#636efa"
         },
         "name": "",
         "offsetgroup": "",
         "orientation": "v",
         "showlegend": false,
         "type": "histogram",
         "x": [
          600,
          1000,
          829,
          1100,
          700,
          1565,
          600,
          700,
          600,
          850,
          880,
          300,
          900,
          3000,
          700,
          1000,
          750,
          600,
          900,
          1200,
          1400,
          1500,
          1300,
          4000,
          1214,
          800,
          650,
          900,
          1400,
          2000,
          800,
          850,
          5000,
          1200,
          1500,
          900,
          700,
          512,
          600,
          700,
          500,
          500,
          700,
          1000,
          1000,
          850,
          1050,
          1300,
          1250,
          1000,
          800,
          1777,
          1100,
          1100
         ],
         "xaxis": "x",
         "yaxis": "y"
        }
       ],
       "layout": {
        "barmode": "relative",
        "legend": {
         "tracegroupgap": 0
        },
        "margin": {
         "t": 60
        },
        "template": {
         "data": {
          "bar": [
           {
            "error_x": {
             "color": "#2a3f5f"
            },
            "error_y": {
             "color": "#2a3f5f"
            },
            "marker": {
             "line": {
              "color": "#E5ECF6",
              "width": 0.5
             }
            },
            "type": "bar"
           }
          ],
          "barpolar": [
           {
            "marker": {
             "line": {
              "color": "#E5ECF6",
              "width": 0.5
             }
            },
            "type": "barpolar"
           }
          ],
          "carpet": [
           {
            "aaxis": {
             "endlinecolor": "#2a3f5f",
             "gridcolor": "white",
             "linecolor": "white",
             "minorgridcolor": "white",
             "startlinecolor": "#2a3f5f"
            },
            "baxis": {
             "endlinecolor": "#2a3f5f",
             "gridcolor": "white",
             "linecolor": "white",
             "minorgridcolor": "white",
             "startlinecolor": "#2a3f5f"
            },
            "type": "carpet"
           }
          ],
          "choropleth": [
           {
            "colorbar": {
             "outlinewidth": 0,
             "ticks": ""
            },
            "type": "choropleth"
           }
          ],
          "contour": [
           {
            "colorbar": {
             "outlinewidth": 0,
             "ticks": ""
            },
            "colorscale": [
             [
              0,
              "#0d0887"
             ],
             [
              0.1111111111111111,
              "#46039f"
             ],
             [
              0.2222222222222222,
              "#7201a8"
             ],
             [
              0.3333333333333333,
              "#9c179e"
             ],
             [
              0.4444444444444444,
              "#bd3786"
             ],
             [
              0.5555555555555556,
              "#d8576b"
             ],
             [
              0.6666666666666666,
              "#ed7953"
             ],
             [
              0.7777777777777778,
              "#fb9f3a"
             ],
             [
              0.8888888888888888,
              "#fdca26"
             ],
             [
              1,
              "#f0f921"
             ]
            ],
            "type": "contour"
           }
          ],
          "contourcarpet": [
           {
            "colorbar": {
             "outlinewidth": 0,
             "ticks": ""
            },
            "type": "contourcarpet"
           }
          ],
          "heatmap": [
           {
            "colorbar": {
             "outlinewidth": 0,
             "ticks": ""
            },
            "colorscale": [
             [
              0,
              "#0d0887"
             ],
             [
              0.1111111111111111,
              "#46039f"
             ],
             [
              0.2222222222222222,
              "#7201a8"
             ],
             [
              0.3333333333333333,
              "#9c179e"
             ],
             [
              0.4444444444444444,
              "#bd3786"
             ],
             [
              0.5555555555555556,
              "#d8576b"
             ],
             [
              0.6666666666666666,
              "#ed7953"
             ],
             [
              0.7777777777777778,
              "#fb9f3a"
             ],
             [
              0.8888888888888888,
              "#fdca26"
             ],
             [
              1,
              "#f0f921"
             ]
            ],
            "type": "heatmap"
           }
          ],
          "heatmapgl": [
           {
            "colorbar": {
             "outlinewidth": 0,
             "ticks": ""
            },
            "colorscale": [
             [
              0,
              "#0d0887"
             ],
             [
              0.1111111111111111,
              "#46039f"
             ],
             [
              0.2222222222222222,
              "#7201a8"
             ],
             [
              0.3333333333333333,
              "#9c179e"
             ],
             [
              0.4444444444444444,
              "#bd3786"
             ],
             [
              0.5555555555555556,
              "#d8576b"
             ],
             [
              0.6666666666666666,
              "#ed7953"
             ],
             [
              0.7777777777777778,
              "#fb9f3a"
             ],
             [
              0.8888888888888888,
              "#fdca26"
             ],
             [
              1,
              "#f0f921"
             ]
            ],
            "type": "heatmapgl"
           }
          ],
          "histogram": [
           {
            "marker": {
             "colorbar": {
              "outlinewidth": 0,
              "ticks": ""
             }
            },
            "type": "histogram"
           }
          ],
          "histogram2d": [
           {
            "colorbar": {
             "outlinewidth": 0,
             "ticks": ""
            },
            "colorscale": [
             [
              0,
              "#0d0887"
             ],
             [
              0.1111111111111111,
              "#46039f"
             ],
             [
              0.2222222222222222,
              "#7201a8"
             ],
             [
              0.3333333333333333,
              "#9c179e"
             ],
             [
              0.4444444444444444,
              "#bd3786"
             ],
             [
              0.5555555555555556,
              "#d8576b"
             ],
             [
              0.6666666666666666,
              "#ed7953"
             ],
             [
              0.7777777777777778,
              "#fb9f3a"
             ],
             [
              0.8888888888888888,
              "#fdca26"
             ],
             [
              1,
              "#f0f921"
             ]
            ],
            "type": "histogram2d"
           }
          ],
          "histogram2dcontour": [
           {
            "colorbar": {
             "outlinewidth": 0,
             "ticks": ""
            },
            "colorscale": [
             [
              0,
              "#0d0887"
             ],
             [
              0.1111111111111111,
              "#46039f"
             ],
             [
              0.2222222222222222,
              "#7201a8"
             ],
             [
              0.3333333333333333,
              "#9c179e"
             ],
             [
              0.4444444444444444,
              "#bd3786"
             ],
             [
              0.5555555555555556,
              "#d8576b"
             ],
             [
              0.6666666666666666,
              "#ed7953"
             ],
             [
              0.7777777777777778,
              "#fb9f3a"
             ],
             [
              0.8888888888888888,
              "#fdca26"
             ],
             [
              1,
              "#f0f921"
             ]
            ],
            "type": "histogram2dcontour"
           }
          ],
          "mesh3d": [
           {
            "colorbar": {
             "outlinewidth": 0,
             "ticks": ""
            },
            "type": "mesh3d"
           }
          ],
          "parcoords": [
           {
            "line": {
             "colorbar": {
              "outlinewidth": 0,
              "ticks": ""
             }
            },
            "type": "parcoords"
           }
          ],
          "pie": [
           {
            "automargin": true,
            "type": "pie"
           }
          ],
          "scatter": [
           {
            "marker": {
             "colorbar": {
              "outlinewidth": 0,
              "ticks": ""
             }
            },
            "type": "scatter"
           }
          ],
          "scatter3d": [
           {
            "line": {
             "colorbar": {
              "outlinewidth": 0,
              "ticks": ""
             }
            },
            "marker": {
             "colorbar": {
              "outlinewidth": 0,
              "ticks": ""
             }
            },
            "type": "scatter3d"
           }
          ],
          "scattercarpet": [
           {
            "marker": {
             "colorbar": {
              "outlinewidth": 0,
              "ticks": ""
             }
            },
            "type": "scattercarpet"
           }
          ],
          "scattergeo": [
           {
            "marker": {
             "colorbar": {
              "outlinewidth": 0,
              "ticks": ""
             }
            },
            "type": "scattergeo"
           }
          ],
          "scattergl": [
           {
            "marker": {
             "colorbar": {
              "outlinewidth": 0,
              "ticks": ""
             }
            },
            "type": "scattergl"
           }
          ],
          "scattermapbox": [
           {
            "marker": {
             "colorbar": {
              "outlinewidth": 0,
              "ticks": ""
             }
            },
            "type": "scattermapbox"
           }
          ],
          "scatterpolar": [
           {
            "marker": {
             "colorbar": {
              "outlinewidth": 0,
              "ticks": ""
             }
            },
            "type": "scatterpolar"
           }
          ],
          "scatterpolargl": [
           {
            "marker": {
             "colorbar": {
              "outlinewidth": 0,
              "ticks": ""
             }
            },
            "type": "scatterpolargl"
           }
          ],
          "scatterternary": [
           {
            "marker": {
             "colorbar": {
              "outlinewidth": 0,
              "ticks": ""
             }
            },
            "type": "scatterternary"
           }
          ],
          "surface": [
           {
            "colorbar": {
             "outlinewidth": 0,
             "ticks": ""
            },
            "colorscale": [
             [
              0,
              "#0d0887"
             ],
             [
              0.1111111111111111,
              "#46039f"
             ],
             [
              0.2222222222222222,
              "#7201a8"
             ],
             [
              0.3333333333333333,
              "#9c179e"
             ],
             [
              0.4444444444444444,
              "#bd3786"
             ],
             [
              0.5555555555555556,
              "#d8576b"
             ],
             [
              0.6666666666666666,
              "#ed7953"
             ],
             [
              0.7777777777777778,
              "#fb9f3a"
             ],
             [
              0.8888888888888888,
              "#fdca26"
             ],
             [
              1,
              "#f0f921"
             ]
            ],
            "type": "surface"
           }
          ],
          "table": [
           {
            "cells": {
             "fill": {
              "color": "#EBF0F8"
             },
             "line": {
              "color": "white"
             }
            },
            "header": {
             "fill": {
              "color": "#C8D4E3"
             },
             "line": {
              "color": "white"
             }
            },
            "type": "table"
           }
          ]
         },
         "layout": {
          "annotationdefaults": {
           "arrowcolor": "#2a3f5f",
           "arrowhead": 0,
           "arrowwidth": 1
          },
          "autotypenumbers": "strict",
          "coloraxis": {
           "colorbar": {
            "outlinewidth": 0,
            "ticks": ""
           }
          },
          "colorscale": {
           "diverging": [
            [
             0,
             "#8e0152"
            ],
            [
             0.1,
             "#c51b7d"
            ],
            [
             0.2,
             "#de77ae"
            ],
            [
             0.3,
             "#f1b6da"
            ],
            [
             0.4,
             "#fde0ef"
            ],
            [
             0.5,
             "#f7f7f7"
            ],
            [
             0.6,
             "#e6f5d0"
            ],
            [
             0.7,
             "#b8e186"
            ],
            [
             0.8,
             "#7fbc41"
            ],
            [
             0.9,
             "#4d9221"
            ],
            [
             1,
             "#276419"
            ]
           ],
           "sequential": [
            [
             0,
             "#0d0887"
            ],
            [
             0.1111111111111111,
             "#46039f"
            ],
            [
             0.2222222222222222,
             "#7201a8"
            ],
            [
             0.3333333333333333,
             "#9c179e"
            ],
            [
             0.4444444444444444,
             "#bd3786"
            ],
            [
             0.5555555555555556,
             "#d8576b"
            ],
            [
             0.6666666666666666,
             "#ed7953"
            ],
            [
             0.7777777777777778,
             "#fb9f3a"
            ],
            [
             0.8888888888888888,
             "#fdca26"
            ],
            [
             1,
             "#f0f921"
            ]
           ],
           "sequentialminus": [
            [
             0,
             "#0d0887"
            ],
            [
             0.1111111111111111,
             "#46039f"
            ],
            [
             0.2222222222222222,
             "#7201a8"
            ],
            [
             0.3333333333333333,
             "#9c179e"
            ],
            [
             0.4444444444444444,
             "#bd3786"
            ],
            [
             0.5555555555555556,
             "#d8576b"
            ],
            [
             0.6666666666666666,
             "#ed7953"
            ],
            [
             0.7777777777777778,
             "#fb9f3a"
            ],
            [
             0.8888888888888888,
             "#fdca26"
            ],
            [
             1,
             "#f0f921"
            ]
           ]
          },
          "colorway": [
           "#636efa",
           "#EF553B",
           "#00cc96",
           "#ab63fa",
           "#FFA15A",
           "#19d3f3",
           "#FF6692",
           "#B6E880",
           "#FF97FF",
           "#FECB52"
          ],
          "font": {
           "color": "#2a3f5f"
          },
          "geo": {
           "bgcolor": "white",
           "lakecolor": "white",
           "landcolor": "#E5ECF6",
           "showlakes": true,
           "showland": true,
           "subunitcolor": "white"
          },
          "hoverlabel": {
           "align": "left"
          },
          "hovermode": "closest",
          "mapbox": {
           "style": "light"
          },
          "paper_bgcolor": "white",
          "plot_bgcolor": "#E5ECF6",
          "polar": {
           "angularaxis": {
            "gridcolor": "white",
            "linecolor": "white",
            "ticks": ""
           },
           "bgcolor": "#E5ECF6",
           "radialaxis": {
            "gridcolor": "white",
            "linecolor": "white",
            "ticks": ""
           }
          },
          "scene": {
           "xaxis": {
            "backgroundcolor": "#E5ECF6",
            "gridcolor": "white",
            "gridwidth": 2,
            "linecolor": "white",
            "showbackground": true,
            "ticks": "",
            "zerolinecolor": "white"
           },
           "yaxis": {
            "backgroundcolor": "#E5ECF6",
            "gridcolor": "white",
            "gridwidth": 2,
            "linecolor": "white",
            "showbackground": true,
            "ticks": "",
            "zerolinecolor": "white"
           },
           "zaxis": {
            "backgroundcolor": "#E5ECF6",
            "gridcolor": "white",
            "gridwidth": 2,
            "linecolor": "white",
            "showbackground": true,
            "ticks": "",
            "zerolinecolor": "white"
           }
          },
          "shapedefaults": {
           "line": {
            "color": "#2a3f5f"
           }
          },
          "ternary": {
           "aaxis": {
            "gridcolor": "white",
            "linecolor": "white",
            "ticks": ""
           },
           "baxis": {
            "gridcolor": "white",
            "linecolor": "white",
            "ticks": ""
           },
           "bgcolor": "#E5ECF6",
           "caxis": {
            "gridcolor": "white",
            "linecolor": "white",
            "ticks": ""
           }
          },
          "title": {
           "x": 0.05
          },
          "xaxis": {
           "automargin": true,
           "gridcolor": "white",
           "linecolor": "white",
           "ticks": "",
           "title": {
            "standoff": 15
           },
           "zerolinecolor": "white",
           "zerolinewidth": 2
          },
          "yaxis": {
           "automargin": true,
           "gridcolor": "white",
           "linecolor": "white",
           "ticks": "",
           "title": {
            "standoff": 15
           },
           "zerolinecolor": "white",
           "zerolinewidth": 2
          }
         }
        },
        "xaxis": {
         "anchor": "y",
         "domain": [
          0,
          1
         ],
         "title": {
          "text": "x"
         }
        },
        "yaxis": {
         "anchor": "x",
         "domain": [
          0,
          1
         ],
         "title": {
          "text": "probability density"
         }
        }
       }
      },
      "text/html": [
       "<div>                            <div id=\"a041561e-5b42-4cbf-9901-46caa9eb3188\" class=\"plotly-graph-div\" style=\"height:525px; width:100%;\"></div>            <script type=\"text/javascript\">                require([\"plotly\"], function(Plotly) {                    window.PLOTLYENV=window.PLOTLYENV || {};                                    if (document.getElementById(\"a041561e-5b42-4cbf-9901-46caa9eb3188\")) {                    Plotly.newPlot(                        \"a041561e-5b42-4cbf-9901-46caa9eb3188\",                        [{\"alignmentgroup\": \"True\", \"bingroup\": \"x\", \"histnorm\": \"probability density\", \"hovertemplate\": \"x=%{x}<br>probability density=%{y}<extra></extra>\", \"legendgroup\": \"\", \"marker\": {\"color\": \"#636efa\"}, \"name\": \"\", \"offsetgroup\": \"\", \"orientation\": \"v\", \"showlegend\": false, \"type\": \"histogram\", \"x\": [600, 1000, 829, 1100, 700, 1565, 600, 700, 600, 850, 880, 300, 900, 3000, 700, 1000, 750, 600, 900, 1200, 1400, 1500, 1300, 4000, 1214, 800, 650, 900, 1400, 2000, 800, 850, 5000, 1200, 1500, 900, 700, 512, 600, 700, 500, 500, 700, 1000, 1000, 850, 1050, 1300, 1250, 1000, 800, 1777, 1100, 1100], \"xaxis\": \"x\", \"yaxis\": \"y\"}],                        {\"barmode\": \"relative\", \"legend\": {\"tracegroupgap\": 0}, \"margin\": {\"t\": 60}, \"template\": {\"data\": {\"bar\": [{\"error_x\": {\"color\": \"#2a3f5f\"}, \"error_y\": {\"color\": \"#2a3f5f\"}, \"marker\": {\"line\": {\"color\": \"#E5ECF6\", \"width\": 0.5}}, \"type\": \"bar\"}], \"barpolar\": [{\"marker\": {\"line\": {\"color\": \"#E5ECF6\", \"width\": 0.5}}, \"type\": \"barpolar\"}], \"carpet\": [{\"aaxis\": {\"endlinecolor\": \"#2a3f5f\", \"gridcolor\": \"white\", \"linecolor\": \"white\", \"minorgridcolor\": \"white\", \"startlinecolor\": \"#2a3f5f\"}, \"baxis\": {\"endlinecolor\": \"#2a3f5f\", \"gridcolor\": \"white\", \"linecolor\": \"white\", \"minorgridcolor\": \"white\", \"startlinecolor\": \"#2a3f5f\"}, \"type\": \"carpet\"}], \"choropleth\": [{\"colorbar\": {\"outlinewidth\": 0, \"ticks\": \"\"}, \"type\": \"choropleth\"}], \"contour\": [{\"colorbar\": {\"outlinewidth\": 0, \"ticks\": \"\"}, \"colorscale\": [[0.0, \"#0d0887\"], [0.1111111111111111, \"#46039f\"], [0.2222222222222222, \"#7201a8\"], [0.3333333333333333, \"#9c179e\"], [0.4444444444444444, \"#bd3786\"], [0.5555555555555556, \"#d8576b\"], [0.6666666666666666, \"#ed7953\"], [0.7777777777777778, \"#fb9f3a\"], [0.8888888888888888, \"#fdca26\"], [1.0, \"#f0f921\"]], \"type\": \"contour\"}], \"contourcarpet\": [{\"colorbar\": {\"outlinewidth\": 0, \"ticks\": \"\"}, \"type\": \"contourcarpet\"}], \"heatmap\": [{\"colorbar\": {\"outlinewidth\": 0, \"ticks\": \"\"}, \"colorscale\": [[0.0, \"#0d0887\"], [0.1111111111111111, \"#46039f\"], [0.2222222222222222, \"#7201a8\"], [0.3333333333333333, \"#9c179e\"], [0.4444444444444444, \"#bd3786\"], [0.5555555555555556, \"#d8576b\"], [0.6666666666666666, \"#ed7953\"], [0.7777777777777778, \"#fb9f3a\"], [0.8888888888888888, \"#fdca26\"], [1.0, \"#f0f921\"]], \"type\": \"heatmap\"}], \"heatmapgl\": [{\"colorbar\": {\"outlinewidth\": 0, \"ticks\": \"\"}, \"colorscale\": [[0.0, \"#0d0887\"], [0.1111111111111111, \"#46039f\"], [0.2222222222222222, \"#7201a8\"], [0.3333333333333333, \"#9c179e\"], [0.4444444444444444, \"#bd3786\"], [0.5555555555555556, \"#d8576b\"], [0.6666666666666666, \"#ed7953\"], [0.7777777777777778, \"#fb9f3a\"], [0.8888888888888888, \"#fdca26\"], [1.0, \"#f0f921\"]], \"type\": \"heatmapgl\"}], \"histogram\": [{\"marker\": {\"colorbar\": {\"outlinewidth\": 0, \"ticks\": \"\"}}, \"type\": \"histogram\"}], \"histogram2d\": [{\"colorbar\": {\"outlinewidth\": 0, \"ticks\": \"\"}, \"colorscale\": [[0.0, \"#0d0887\"], [0.1111111111111111, \"#46039f\"], [0.2222222222222222, \"#7201a8\"], [0.3333333333333333, \"#9c179e\"], [0.4444444444444444, \"#bd3786\"], [0.5555555555555556, \"#d8576b\"], [0.6666666666666666, \"#ed7953\"], [0.7777777777777778, \"#fb9f3a\"], [0.8888888888888888, \"#fdca26\"], [1.0, \"#f0f921\"]], \"type\": \"histogram2d\"}], \"histogram2dcontour\": [{\"colorbar\": {\"outlinewidth\": 0, \"ticks\": \"\"}, \"colorscale\": [[0.0, \"#0d0887\"], [0.1111111111111111, \"#46039f\"], [0.2222222222222222, \"#7201a8\"], [0.3333333333333333, \"#9c179e\"], [0.4444444444444444, \"#bd3786\"], [0.5555555555555556, \"#d8576b\"], [0.6666666666666666, \"#ed7953\"], [0.7777777777777778, \"#fb9f3a\"], [0.8888888888888888, \"#fdca26\"], [1.0, \"#f0f921\"]], \"type\": \"histogram2dcontour\"}], \"mesh3d\": [{\"colorbar\": {\"outlinewidth\": 0, \"ticks\": \"\"}, \"type\": \"mesh3d\"}], \"parcoords\": [{\"line\": {\"colorbar\": {\"outlinewidth\": 0, \"ticks\": \"\"}}, \"type\": \"parcoords\"}], \"pie\": [{\"automargin\": true, \"type\": \"pie\"}], \"scatter\": [{\"marker\": {\"colorbar\": {\"outlinewidth\": 0, \"ticks\": \"\"}}, \"type\": \"scatter\"}], \"scatter3d\": [{\"line\": {\"colorbar\": {\"outlinewidth\": 0, \"ticks\": \"\"}}, \"marker\": {\"colorbar\": {\"outlinewidth\": 0, \"ticks\": \"\"}}, \"type\": \"scatter3d\"}], \"scattercarpet\": [{\"marker\": {\"colorbar\": {\"outlinewidth\": 0, \"ticks\": \"\"}}, \"type\": \"scattercarpet\"}], \"scattergeo\": [{\"marker\": {\"colorbar\": {\"outlinewidth\": 0, \"ticks\": \"\"}}, \"type\": \"scattergeo\"}], \"scattergl\": [{\"marker\": {\"colorbar\": {\"outlinewidth\": 0, \"ticks\": \"\"}}, \"type\": \"scattergl\"}], \"scattermapbox\": [{\"marker\": {\"colorbar\": {\"outlinewidth\": 0, \"ticks\": \"\"}}, \"type\": \"scattermapbox\"}], \"scatterpolar\": [{\"marker\": {\"colorbar\": {\"outlinewidth\": 0, \"ticks\": \"\"}}, \"type\": \"scatterpolar\"}], \"scatterpolargl\": [{\"marker\": {\"colorbar\": {\"outlinewidth\": 0, \"ticks\": \"\"}}, \"type\": \"scatterpolargl\"}], \"scatterternary\": [{\"marker\": {\"colorbar\": {\"outlinewidth\": 0, \"ticks\": \"\"}}, \"type\": \"scatterternary\"}], \"surface\": [{\"colorbar\": {\"outlinewidth\": 0, \"ticks\": \"\"}, \"colorscale\": [[0.0, \"#0d0887\"], [0.1111111111111111, \"#46039f\"], [0.2222222222222222, \"#7201a8\"], [0.3333333333333333, \"#9c179e\"], [0.4444444444444444, \"#bd3786\"], [0.5555555555555556, \"#d8576b\"], [0.6666666666666666, \"#ed7953\"], [0.7777777777777778, \"#fb9f3a\"], [0.8888888888888888, \"#fdca26\"], [1.0, \"#f0f921\"]], \"type\": \"surface\"}], \"table\": [{\"cells\": {\"fill\": {\"color\": \"#EBF0F8\"}, \"line\": {\"color\": \"white\"}}, \"header\": {\"fill\": {\"color\": \"#C8D4E3\"}, \"line\": {\"color\": \"white\"}}, \"type\": \"table\"}]}, \"layout\": {\"annotationdefaults\": {\"arrowcolor\": \"#2a3f5f\", \"arrowhead\": 0, \"arrowwidth\": 1}, \"autotypenumbers\": \"strict\", \"coloraxis\": {\"colorbar\": {\"outlinewidth\": 0, \"ticks\": \"\"}}, \"colorscale\": {\"diverging\": [[0, \"#8e0152\"], [0.1, \"#c51b7d\"], [0.2, \"#de77ae\"], [0.3, \"#f1b6da\"], [0.4, \"#fde0ef\"], [0.5, \"#f7f7f7\"], [0.6, \"#e6f5d0\"], [0.7, \"#b8e186\"], [0.8, \"#7fbc41\"], [0.9, \"#4d9221\"], [1, \"#276419\"]], \"sequential\": [[0.0, \"#0d0887\"], [0.1111111111111111, \"#46039f\"], [0.2222222222222222, \"#7201a8\"], [0.3333333333333333, \"#9c179e\"], [0.4444444444444444, \"#bd3786\"], [0.5555555555555556, \"#d8576b\"], [0.6666666666666666, \"#ed7953\"], [0.7777777777777778, \"#fb9f3a\"], [0.8888888888888888, \"#fdca26\"], [1.0, \"#f0f921\"]], \"sequentialminus\": [[0.0, \"#0d0887\"], [0.1111111111111111, \"#46039f\"], [0.2222222222222222, \"#7201a8\"], [0.3333333333333333, \"#9c179e\"], [0.4444444444444444, \"#bd3786\"], [0.5555555555555556, \"#d8576b\"], [0.6666666666666666, \"#ed7953\"], [0.7777777777777778, \"#fb9f3a\"], [0.8888888888888888, \"#fdca26\"], [1.0, \"#f0f921\"]]}, \"colorway\": [\"#636efa\", \"#EF553B\", \"#00cc96\", \"#ab63fa\", \"#FFA15A\", \"#19d3f3\", \"#FF6692\", \"#B6E880\", \"#FF97FF\", \"#FECB52\"], \"font\": {\"color\": \"#2a3f5f\"}, \"geo\": {\"bgcolor\": \"white\", \"lakecolor\": \"white\", \"landcolor\": \"#E5ECF6\", \"showlakes\": true, \"showland\": true, \"subunitcolor\": \"white\"}, \"hoverlabel\": {\"align\": \"left\"}, \"hovermode\": \"closest\", \"mapbox\": {\"style\": \"light\"}, \"paper_bgcolor\": \"white\", \"plot_bgcolor\": \"#E5ECF6\", \"polar\": {\"angularaxis\": {\"gridcolor\": \"white\", \"linecolor\": \"white\", \"ticks\": \"\"}, \"bgcolor\": \"#E5ECF6\", \"radialaxis\": {\"gridcolor\": \"white\", \"linecolor\": \"white\", \"ticks\": \"\"}}, \"scene\": {\"xaxis\": {\"backgroundcolor\": \"#E5ECF6\", \"gridcolor\": \"white\", \"gridwidth\": 2, \"linecolor\": \"white\", \"showbackground\": true, \"ticks\": \"\", \"zerolinecolor\": \"white\"}, \"yaxis\": {\"backgroundcolor\": \"#E5ECF6\", \"gridcolor\": \"white\", \"gridwidth\": 2, \"linecolor\": \"white\", \"showbackground\": true, \"ticks\": \"\", \"zerolinecolor\": \"white\"}, \"zaxis\": {\"backgroundcolor\": \"#E5ECF6\", \"gridcolor\": \"white\", \"gridwidth\": 2, \"linecolor\": \"white\", \"showbackground\": true, \"ticks\": \"\", \"zerolinecolor\": \"white\"}}, \"shapedefaults\": {\"line\": {\"color\": \"#2a3f5f\"}}, \"ternary\": {\"aaxis\": {\"gridcolor\": \"white\", \"linecolor\": \"white\", \"ticks\": \"\"}, \"baxis\": {\"gridcolor\": \"white\", \"linecolor\": \"white\", \"ticks\": \"\"}, \"bgcolor\": \"#E5ECF6\", \"caxis\": {\"gridcolor\": \"white\", \"linecolor\": \"white\", \"ticks\": \"\"}}, \"title\": {\"x\": 0.05}, \"xaxis\": {\"automargin\": true, \"gridcolor\": \"white\", \"linecolor\": \"white\", \"ticks\": \"\", \"title\": {\"standoff\": 15}, \"zerolinecolor\": \"white\", \"zerolinewidth\": 2}, \"yaxis\": {\"automargin\": true, \"gridcolor\": \"white\", \"linecolor\": \"white\", \"ticks\": \"\", \"title\": {\"standoff\": 15}, \"zerolinecolor\": \"white\", \"zerolinewidth\": 2}}}, \"xaxis\": {\"anchor\": \"y\", \"domain\": [0.0, 1.0], \"title\": {\"text\": \"x\"}}, \"yaxis\": {\"anchor\": \"x\", \"domain\": [0.0, 1.0], \"title\": {\"text\": \"probability density\"}}},                        {\"responsive\": true}                    ).then(function(){\n",
       "                            \n",
       "var gd = document.getElementById('a041561e-5b42-4cbf-9901-46caa9eb3188');\n",
       "var x = new MutationObserver(function (mutations, observer) {{\n",
       "        var display = window.getComputedStyle(gd).display;\n",
       "        if (!display || display === 'none') {{\n",
       "            console.log([gd, 'removed!']);\n",
       "            Plotly.purge(gd);\n",
       "            observer.disconnect();\n",
       "        }}\n",
       "}});\n",
       "\n",
       "// Listen for the removal of the full notebook cells\n",
       "var notebookContainer = gd.closest('#notebook-container');\n",
       "if (notebookContainer) {{\n",
       "    x.observe(notebookContainer, {childList: true});\n",
       "}}\n",
       "\n",
       "// Listen for the clearing of the current output cell\n",
       "var outputEl = gd.closest('.output');\n",
       "if (outputEl) {{\n",
       "    x.observe(outputEl, {childList: true});\n",
       "}}\n",
       "\n",
       "                        })                };                });            </script>        </div>"
      ]
     },
     "metadata": {},
     "output_type": "display_data"
    }
   ],
   "source": [
    "# See here for ploty examples - https://plotly.com/python/\n",
    "import plotly.express as px \n",
    "fig = px.histogram(df, x=df.x, \n",
    "                   histnorm='probability density') \n",
    "fig.show()"
   ]
  },
  {
   "cell_type": "code",
   "execution_count": 52,
   "metadata": {},
   "outputs": [
    {
     "name": "stdout",
     "output_type": "stream",
     "text": [
      "x    1122.722222\n",
      "dtype: float64\n",
      "x    805.110503\n",
      "dtype: float64\n",
      "x    900.0\n",
      "dtype: float64\n"
     ]
    }
   ],
   "source": [
    "# The median shows that more than 50% of the scores are way too low.\n",
    "# The mean shows some error correction going on \n",
    "import numpy as np\n",
    "# Convert \"pandas\" data-frame to numpy array\n",
    "df.to_numpy()\n",
    "# Mean and standard deviation  \n",
    "print(df.mean())\n",
    "print(df.std())\n",
    "print(df.median())"
   ]
  },
  {
   "cell_type": "code",
   "execution_count": 53,
   "metadata": {},
   "outputs": [
    {
     "name": "stdout",
     "output_type": "stream",
     "text": [
      "8.183306055646481\n"
     ]
    }
   ],
   "source": [
    "# Our estimate of the \"jelly-beans\" was 1132\n",
    "# Percent error of the actual value (1222 jelly-beans)\n",
    "# percent_error=(actual-estimate)/actual) * 100\n",
    "percent_error=((1222-1122)/1222)*100\n",
    "print(percent_error)"
   ]
  },
  {
   "cell_type": "code",
   "execution_count": 54,
   "metadata": {},
   "outputs": [
    {
     "name": "stdout",
     "output_type": "stream",
     "text": [
      "[296.5204437]\n",
      "[951.6479562]\n"
     ]
    }
   ],
   "source": [
    "# Robust estimators using statsmodels module\n",
    "# See here: https://www.statsmodels.org/stable/index.html\n",
    "# Huber estimator for \"location\" and \"scale\" - an \"M-estimator\" and \"MAD\" - mean \n",
    "# absolute deviation.  Our estimates here compare favorably to R package MASS estimates\n",
    "import numpy as np\n",
    "import statsmodels.api as sm\n",
    "df_array=np.array(df)\n",
    "scale_est=sm.robust.scale.mad(df_array)\n",
    "print(scale_est)\n",
    "print(sm.robust.norms.estimate_location(df_array, scale=scale_est, tol=1e-06))"
   ]
  },
  {
   "cell_type": "code",
   "execution_count": 55,
   "metadata": {},
   "outputs": [
    {
     "data": {
      "text/html": [
       "<div>\n",
       "<style scoped>\n",
       "    .dataframe tbody tr th:only-of-type {\n",
       "        vertical-align: middle;\n",
       "    }\n",
       "\n",
       "    .dataframe tbody tr th {\n",
       "        vertical-align: top;\n",
       "    }\n",
       "\n",
       "    .dataframe thead th {\n",
       "        text-align: right;\n",
       "    }\n",
       "</style>\n",
       "<table border=\"1\" class=\"dataframe\">\n",
       "  <thead>\n",
       "    <tr style=\"text-align: right;\">\n",
       "      <th></th>\n",
       "      <th>x</th>\n",
       "    </tr>\n",
       "  </thead>\n",
       "  <tbody>\n",
       "    <tr>\n",
       "      <th>0</th>\n",
       "      <td>600</td>\n",
       "    </tr>\n",
       "    <tr>\n",
       "      <th>1</th>\n",
       "      <td>1000</td>\n",
       "    </tr>\n",
       "    <tr>\n",
       "      <th>2</th>\n",
       "      <td>829</td>\n",
       "    </tr>\n",
       "    <tr>\n",
       "      <th>3</th>\n",
       "      <td>1100</td>\n",
       "    </tr>\n",
       "    <tr>\n",
       "      <th>4</th>\n",
       "      <td>700</td>\n",
       "    </tr>\n",
       "    <tr>\n",
       "      <th>5</th>\n",
       "      <td>1565</td>\n",
       "    </tr>\n",
       "    <tr>\n",
       "      <th>6</th>\n",
       "      <td>600</td>\n",
       "    </tr>\n",
       "    <tr>\n",
       "      <th>7</th>\n",
       "      <td>700</td>\n",
       "    </tr>\n",
       "    <tr>\n",
       "      <th>8</th>\n",
       "      <td>600</td>\n",
       "    </tr>\n",
       "    <tr>\n",
       "      <th>9</th>\n",
       "      <td>850</td>\n",
       "    </tr>\n",
       "    <tr>\n",
       "      <th>10</th>\n",
       "      <td>880</td>\n",
       "    </tr>\n",
       "    <tr>\n",
       "      <th>11</th>\n",
       "      <td>300</td>\n",
       "    </tr>\n",
       "    <tr>\n",
       "      <th>12</th>\n",
       "      <td>900</td>\n",
       "    </tr>\n",
       "    <tr>\n",
       "      <th>13</th>\n",
       "      <td>3000</td>\n",
       "    </tr>\n",
       "    <tr>\n",
       "      <th>14</th>\n",
       "      <td>700</td>\n",
       "    </tr>\n",
       "    <tr>\n",
       "      <th>15</th>\n",
       "      <td>1000</td>\n",
       "    </tr>\n",
       "    <tr>\n",
       "      <th>16</th>\n",
       "      <td>750</td>\n",
       "    </tr>\n",
       "    <tr>\n",
       "      <th>17</th>\n",
       "      <td>600</td>\n",
       "    </tr>\n",
       "    <tr>\n",
       "      <th>18</th>\n",
       "      <td>900</td>\n",
       "    </tr>\n",
       "    <tr>\n",
       "      <th>19</th>\n",
       "      <td>1200</td>\n",
       "    </tr>\n",
       "    <tr>\n",
       "      <th>20</th>\n",
       "      <td>1400</td>\n",
       "    </tr>\n",
       "    <tr>\n",
       "      <th>21</th>\n",
       "      <td>1500</td>\n",
       "    </tr>\n",
       "    <tr>\n",
       "      <th>22</th>\n",
       "      <td>1300</td>\n",
       "    </tr>\n",
       "    <tr>\n",
       "      <th>23</th>\n",
       "      <td>4000</td>\n",
       "    </tr>\n",
       "    <tr>\n",
       "      <th>24</th>\n",
       "      <td>1214</td>\n",
       "    </tr>\n",
       "    <tr>\n",
       "      <th>25</th>\n",
       "      <td>800</td>\n",
       "    </tr>\n",
       "    <tr>\n",
       "      <th>26</th>\n",
       "      <td>650</td>\n",
       "    </tr>\n",
       "    <tr>\n",
       "      <th>27</th>\n",
       "      <td>900</td>\n",
       "    </tr>\n",
       "    <tr>\n",
       "      <th>28</th>\n",
       "      <td>1400</td>\n",
       "    </tr>\n",
       "    <tr>\n",
       "      <th>29</th>\n",
       "      <td>2000</td>\n",
       "    </tr>\n",
       "    <tr>\n",
       "      <th>30</th>\n",
       "      <td>800</td>\n",
       "    </tr>\n",
       "    <tr>\n",
       "      <th>31</th>\n",
       "      <td>850</td>\n",
       "    </tr>\n",
       "    <tr>\n",
       "      <th>32</th>\n",
       "      <td>5000</td>\n",
       "    </tr>\n",
       "    <tr>\n",
       "      <th>33</th>\n",
       "      <td>1200</td>\n",
       "    </tr>\n",
       "    <tr>\n",
       "      <th>34</th>\n",
       "      <td>1500</td>\n",
       "    </tr>\n",
       "    <tr>\n",
       "      <th>35</th>\n",
       "      <td>900</td>\n",
       "    </tr>\n",
       "    <tr>\n",
       "      <th>36</th>\n",
       "      <td>700</td>\n",
       "    </tr>\n",
       "    <tr>\n",
       "      <th>37</th>\n",
       "      <td>512</td>\n",
       "    </tr>\n",
       "    <tr>\n",
       "      <th>38</th>\n",
       "      <td>600</td>\n",
       "    </tr>\n",
       "    <tr>\n",
       "      <th>39</th>\n",
       "      <td>700</td>\n",
       "    </tr>\n",
       "    <tr>\n",
       "      <th>40</th>\n",
       "      <td>500</td>\n",
       "    </tr>\n",
       "    <tr>\n",
       "      <th>41</th>\n",
       "      <td>500</td>\n",
       "    </tr>\n",
       "    <tr>\n",
       "      <th>42</th>\n",
       "      <td>700</td>\n",
       "    </tr>\n",
       "    <tr>\n",
       "      <th>43</th>\n",
       "      <td>1000</td>\n",
       "    </tr>\n",
       "    <tr>\n",
       "      <th>44</th>\n",
       "      <td>1000</td>\n",
       "    </tr>\n",
       "    <tr>\n",
       "      <th>45</th>\n",
       "      <td>850</td>\n",
       "    </tr>\n",
       "    <tr>\n",
       "      <th>46</th>\n",
       "      <td>1050</td>\n",
       "    </tr>\n",
       "    <tr>\n",
       "      <th>47</th>\n",
       "      <td>1300</td>\n",
       "    </tr>\n",
       "    <tr>\n",
       "      <th>48</th>\n",
       "      <td>1250</td>\n",
       "    </tr>\n",
       "    <tr>\n",
       "      <th>49</th>\n",
       "      <td>1000</td>\n",
       "    </tr>\n",
       "    <tr>\n",
       "      <th>50</th>\n",
       "      <td>800</td>\n",
       "    </tr>\n",
       "    <tr>\n",
       "      <th>51</th>\n",
       "      <td>1777</td>\n",
       "    </tr>\n",
       "    <tr>\n",
       "      <th>52</th>\n",
       "      <td>1100</td>\n",
       "    </tr>\n",
       "    <tr>\n",
       "      <th>53</th>\n",
       "      <td>1100</td>\n",
       "    </tr>\n",
       "  </tbody>\n",
       "</table>\n",
       "</div>"
      ],
      "text/plain": [
       "       x\n",
       "0    600\n",
       "1   1000\n",
       "2    829\n",
       "3   1100\n",
       "4    700\n",
       "5   1565\n",
       "6    600\n",
       "7    700\n",
       "8    600\n",
       "9    850\n",
       "10   880\n",
       "11   300\n",
       "12   900\n",
       "13  3000\n",
       "14   700\n",
       "15  1000\n",
       "16   750\n",
       "17   600\n",
       "18   900\n",
       "19  1200\n",
       "20  1400\n",
       "21  1500\n",
       "22  1300\n",
       "23  4000\n",
       "24  1214\n",
       "25   800\n",
       "26   650\n",
       "27   900\n",
       "28  1400\n",
       "29  2000\n",
       "30   800\n",
       "31   850\n",
       "32  5000\n",
       "33  1200\n",
       "34  1500\n",
       "35   900\n",
       "36   700\n",
       "37   512\n",
       "38   600\n",
       "39   700\n",
       "40   500\n",
       "41   500\n",
       "42   700\n",
       "43  1000\n",
       "44  1000\n",
       "45   850\n",
       "46  1050\n",
       "47  1300\n",
       "48  1250\n",
       "49  1000\n",
       "50   800\n",
       "51  1777\n",
       "52  1100\n",
       "53  1100"
      ]
     },
     "execution_count": 55,
     "metadata": {},
     "output_type": "execute_result"
    }
   ],
   "source": [
    "# Method used here is from Python module \"rpy2\"\n",
    "# See here for documentation: https://rpy2.github.io/doc/latest/html/interactive.html\n",
    "# Example of using \"line magic\"\n",
    "%reload_ext rpy2.ipython\n",
    "# Using \"line-magic\" - places the python object into the R namespace so R has \n",
    "# access to the object\n",
    "%Rpush df\n",
    "# Reassign the variable name(s) within R; assign the returned R object\n",
    "# to the python object \"x_new\"; then display the new python object\n",
    "%R names(df)<-c(\"x\")\n",
    "x_new=%R df\n",
    "x_new"
   ]
  },
  {
   "cell_type": "markdown",
   "metadata": {},
   "source": [
    "Using R within Python: \n",
    "This is an example that uses \"cell-magic\" - IMPORTANT NOTE: You cannot use a comment above the cell magic statement \"%%R\" - but you can use a comment below this statement (see below).  Here I have placed the initial comments in a separate \"markdown\" cell above the \"%%R\" cell.  The \"cell-magic\" allows the \"free\" use of multiple R commands within the cell block."
   ]
  },
  {
   "cell_type": "code",
   "execution_count": 56,
   "metadata": {},
   "outputs": [
    {
     "name": "stdout",
     "output_type": "stream",
     "text": [
      " [1]  600 1000  829 1100  700 1565  600  700  600  850\n",
      "\n",
      " [1]  1.0828075  1.0647376 -0.5360495 -0.7075040 -0.6613890  0.1880980\n",
      " [7] -2.3445879  0.2265062  1.8193341 -0.3267244\n"
     ]
    }
   ],
   "source": [
    "%%R\n",
    "# R \"head\" function displays first \"n\" elements\n",
    "print(head(df$x, n=10))\n",
    "cat(\"\\n\")\n",
    "# Generate 10 random draws from a standard-normal probability density\n",
    "rnorm(10)"
   ]
  },
  {
   "cell_type": "code",
   "execution_count": 57,
   "metadata": {},
   "outputs": [
    {
     "name": "stdout",
     "output_type": "stream",
     "text": [
      "[1122.72222222]\n",
      "[805.11050259]\n"
     ]
    }
   ],
   "source": [
    "# Mean and standard deviation of the \"jelly-bean\" estimates\n",
    "x_mean=%R mean(df$x)\n",
    "x_std=%R sd(df$x)\n",
    "print(x_mean)\n",
    "print(x_std)"
   ]
  },
  {
   "cell_type": "code",
   "execution_count": 58,
   "metadata": {},
   "outputs": [
    {
     "name": "stdout",
     "output_type": "stream",
     "text": [
      "[900.]\n",
      "[296.52]\n"
     ]
    }
   ],
   "source": [
    "# Use the \"huber\" estimator from the R package \"MASS\" to estimate location \n",
    "# Winsorizes at k standard deviations - here using no winsorizing so we can compare\n",
    "# to the Python module statsmodels\n",
    "mu=%R MASS::huber(df$x, k=0, tol = 1e-08)$mu\n",
    "s=%R MASS::huber(df$x, k=0, tol = 1e-08)$s      \n",
    "print(mu)\n",
    "print(s)"
   ]
  },
  {
   "cell_type": "code",
   "execution_count": 59,
   "metadata": {},
   "outputs": [
    {
     "name": "stderr",
     "output_type": "stream",
     "text": [
      "R[write to console]: `stat_bin()` using `bins = 30`. Pick better value with `binwidth`.\n",
      "\n"
     ]
    },
    {
     "data": {
      "image/png": "[encoded data removed]"
     },
     "metadata": {},
     "output_type": "display_data"
    }
   ],
   "source": [
    "%%R\n",
    "options(warn=-1)\n",
    "library(ggplot2)\n",
    "# Basic histogram\n",
    "ggplot(df, aes(x=x)) + geom_histogram()\n",
    "# Change the width of bins\n",
    "ggplot(df, aes(x=x)) + \n",
    "  geom_histogram(binwidth=1)\n",
    "# Change colors\n",
    "p<-ggplot(df, aes(x=x)) + \n",
    "  geom_histogram(color=\"black\", fill=\"white\")\n",
    "p"
   ]
  },
  {
   "cell_type": "markdown",
   "metadata": {},
   "source": [
    "Using Winsorizing function from R package \"DescTools - see here:\n",
    "https://www.rdocumentation.org/packages/DescTools/versions/0.99.39/topics/Winsorize"
   ]
  },
  {
   "cell_type": "code",
   "execution_count": 60,
   "metadata": {},
   "outputs": [
    {
     "name": "stdout",
     "output_type": "stream",
     "text": [
      "Quantiles:\n",
      "\n",
      "    0%    25%    50%    75%   100% \n",
      " 300.0  700.0  900.0 1210.5 5000.0 \n",
      "\n",
      "Mean:\n",
      "\n",
      "[1] 1122.722\n",
      "\n",
      "\n",
      " [1]  600.0 1000.0  829.0 1100.0  700.0 1565.0  600.0  700.0  600.0  850.0\n",
      "[11]  880.0  507.8  900.0 2350.0  700.0 1000.0  750.0  600.0  900.0 1200.0\n",
      "[21] 1400.0 1500.0 1300.0 2350.0 1214.0  800.0  650.0  900.0 1400.0 2000.0\n",
      "[31]  800.0  850.0 2350.0 1200.0 1500.0  900.0  700.0  512.0  600.0  700.0\n",
      "[41]  507.8  507.8  700.0 1000.0 1000.0  850.0 1050.0 1300.0 1250.0 1000.0\n",
      "[51]  800.0 1777.0 1100.0 1100.0\n",
      "\n",
      "Mean using Winsor 1:\n",
      "\n",
      "\n",
      "[1] 1035.193\n",
      "\n",
      " [1]  900 1000  900 1100  900 1565  900  900  900  900  900  900  900 3000  900\n",
      "[16] 1000  900  900  900 1200 1400 1500 1300 4000 1214  900  900  900 1400 2000\n",
      "[31]  900  900 4947 1200 1500  900  900  900  900  900  900  900  900 1000 1000\n",
      "[46]  900 1050 1300 1250 1000  900 1777 1100 1100\n",
      "\n",
      "Mean using Winsor 2: \n",
      "\n",
      "\n",
      "[1] 1222.278\n",
      "\n",
      "Median: \n",
      "\n",
      "\n",
      "[1] 900\n"
     ]
    }
   ],
   "source": [
    "%%R\n",
    "library(DescTools)\n",
    "# Quantiles of the distribution\n",
    "cat(\"Quantiles:\\n\\n\")\n",
    "print(quantile(df$x))\n",
    "cat(\"\\n\")\n",
    "# Mean\n",
    "cat(\"Mean:\\n\\n\")\n",
    "print(mean(df$x))\n",
    "cat(\"\\n\")\n",
    "# Winsorization using symmetric 5% in tails\n",
    "win.x.1<-Winsorize(df$x, probs = c(0.05, 0.95))\n",
    "cat(\"\\n\")\n",
    "print(win.x.1)\n",
    "cat(\"\\n\")\n",
    "cat(\"Mean using Winsor 1:\\n\\n\")\n",
    "cat(\"\\n\")\n",
    "print(mean(win.x.1))\n",
    "# Winsorization using non-symmetric \n",
    "win.x.2<-Winsorize(df$x, probs = c(0.50, 0.999))\n",
    "cat(\"\\n\")\n",
    "print(win.x.2)\n",
    "cat(\"\\n\")\n",
    "cat(\"Mean using Winsor 2: \\n\\n\")\n",
    "cat(\"\\n\")\n",
    "print(mean(win.x.2))\n",
    "cat(\"\\n\")\n",
    "cat(\"Median: \\n\\n\")\n",
    "cat(\"\\n\")\n",
    "print(median(df$x))"
   ]
  },
  {
   "cell_type": "code",
   "execution_count": 61,
   "metadata": {},
   "outputs": [
    {
     "data": {
      "application/vnd.plotly.v1+json": {
       "config": {
        "plotlyServerURL": "https://plot.ly"
       },
       "data": [
        {
         "alignmentgroup": "True",
         "bingroup": "x",
         "histnorm": "probability density",
         "hovertemplate": "x=%{x}<br>probability density=%{y}<extra></extra>",
         "legendgroup": "",
         "marker": {
          "color": "#636efa"
         },
         "name": "",
         "offsetgroup": "",
         "orientation": "v",
         "showlegend": false,
         "type": "histogram",
         "x": [
          6.396929655216146,
          6.907755278982137,
          6.720220155135295,
          7.003065458786462,
          6.551080335043404,
          7.355641102974253,
          6.396929655216146,
          6.551080335043404,
          6.396929655216146,
          6.745236349484363,
          6.779921907472252,
          5.703782474656201,
          6.802394763324311,
          8.006367567650246,
          6.551080335043404,
          6.907755278982137,
          6.620073206530356,
          6.396929655216146,
          6.802394763324311,
          7.090076835776092,
          7.24422751560335,
          7.313220387090301,
          7.170119543449628,
          8.294049640102028,
          7.101675971619444,
          6.684611727667927,
          6.476972362889683,
          6.802394763324311,
          7.24422751560335,
          7.600902459542082,
          6.684611727667927,
          6.745236349484363,
          8.517193191416238,
          7.090076835776092,
          7.313220387090301,
          6.802394763324311,
          6.551080335043404,
          6.238324625039508,
          6.396929655216146,
          6.551080335043404,
          6.214608098422191,
          6.214608098422191,
          6.551080335043404,
          6.907755278982137,
          6.907755278982137,
          6.745236349484363,
          6.956545443151569,
          7.170119543449628,
          7.1308988302963465,
          6.907755278982137,
          6.684611727667927,
          7.482681828154651,
          7.003065458786462,
          7.003065458786462
         ],
         "xaxis": "x",
         "yaxis": "y"
        }
       ],
       "layout": {
        "barmode": "relative",
        "legend": {
         "tracegroupgap": 0
        },
        "margin": {
         "t": 60
        },
        "template": {
         "data": {
          "bar": [
           {
            "error_x": {
             "color": "#2a3f5f"
            },
            "error_y": {
             "color": "#2a3f5f"
            },
            "marker": {
             "line": {
              "color": "#E5ECF6",
              "width": 0.5
             }
            },
            "type": "bar"
           }
          ],
          "barpolar": [
           {
            "marker": {
             "line": {
              "color": "#E5ECF6",
              "width": 0.5
             }
            },
            "type": "barpolar"
           }
          ],
          "carpet": [
           {
            "aaxis": {
             "endlinecolor": "#2a3f5f",
             "gridcolor": "white",
             "linecolor": "white",
             "minorgridcolor": "white",
             "startlinecolor": "#2a3f5f"
            },
            "baxis": {
             "endlinecolor": "#2a3f5f",
             "gridcolor": "white",
             "linecolor": "white",
             "minorgridcolor": "white",
             "startlinecolor": "#2a3f5f"
            },
            "type": "carpet"
           }
          ],
          "choropleth": [
           {
            "colorbar": {
             "outlinewidth": 0,
             "ticks": ""
            },
            "type": "choropleth"
           }
          ],
          "contour": [
           {
            "colorbar": {
             "outlinewidth": 0,
             "ticks": ""
            },
            "colorscale": [
             [
              0,
              "#0d0887"
             ],
             [
              0.1111111111111111,
              "#46039f"
             ],
             [
              0.2222222222222222,
              "#7201a8"
             ],
             [
              0.3333333333333333,
              "#9c179e"
             ],
             [
              0.4444444444444444,
              "#bd3786"
             ],
             [
              0.5555555555555556,
              "#d8576b"
             ],
             [
              0.6666666666666666,
              "#ed7953"
             ],
             [
              0.7777777777777778,
              "#fb9f3a"
             ],
             [
              0.8888888888888888,
              "#fdca26"
             ],
             [
              1,
              "#f0f921"
             ]
            ],
            "type": "contour"
           }
          ],
          "contourcarpet": [
           {
            "colorbar": {
             "outlinewidth": 0,
             "ticks": ""
            },
            "type": "contourcarpet"
           }
          ],
          "heatmap": [
           {
            "colorbar": {
             "outlinewidth": 0,
             "ticks": ""
            },
            "colorscale": [
             [
              0,
              "#0d0887"
             ],
             [
              0.1111111111111111,
              "#46039f"
             ],
             [
              0.2222222222222222,
              "#7201a8"
             ],
             [
              0.3333333333333333,
              "#9c179e"
             ],
             [
              0.4444444444444444,
              "#bd3786"
             ],
             [
              0.5555555555555556,
              "#d8576b"
             ],
             [
              0.6666666666666666,
              "#ed7953"
             ],
             [
              0.7777777777777778,
              "#fb9f3a"
             ],
             [
              0.8888888888888888,
              "#fdca26"
             ],
             [
              1,
              "#f0f921"
             ]
            ],
            "type": "heatmap"
           }
          ],
          "heatmapgl": [
           {
            "colorbar": {
             "outlinewidth": 0,
             "ticks": ""
            },
            "colorscale": [
             [
              0,
              "#0d0887"
             ],
             [
              0.1111111111111111,
              "#46039f"
             ],
             [
              0.2222222222222222,
              "#7201a8"
             ],
             [
              0.3333333333333333,
              "#9c179e"
             ],
             [
              0.4444444444444444,
              "#bd3786"
             ],
             [
              0.5555555555555556,
              "#d8576b"
             ],
             [
              0.6666666666666666,
              "#ed7953"
             ],
             [
              0.7777777777777778,
              "#fb9f3a"
             ],
             [
              0.8888888888888888,
              "#fdca26"
             ],
             [
              1,
              "#f0f921"
             ]
            ],
            "type": "heatmapgl"
           }
          ],
          "histogram": [
           {
            "marker": {
             "colorbar": {
              "outlinewidth": 0,
              "ticks": ""
             }
            },
            "type": "histogram"
           }
          ],
          "histogram2d": [
           {
            "colorbar": {
             "outlinewidth": 0,
             "ticks": ""
            },
            "colorscale": [
             [
              0,
              "#0d0887"
             ],
             [
              0.1111111111111111,
              "#46039f"
             ],
             [
              0.2222222222222222,
              "#7201a8"
             ],
             [
              0.3333333333333333,
              "#9c179e"
             ],
             [
              0.4444444444444444,
              "#bd3786"
             ],
             [
              0.5555555555555556,
              "#d8576b"
             ],
             [
              0.6666666666666666,
              "#ed7953"
             ],
             [
              0.7777777777777778,
              "#fb9f3a"
             ],
             [
              0.8888888888888888,
              "#fdca26"
             ],
             [
              1,
              "#f0f921"
             ]
            ],
            "type": "histogram2d"
           }
          ],
          "histogram2dcontour": [
           {
            "colorbar": {
             "outlinewidth": 0,
             "ticks": ""
            },
            "colorscale": [
             [
              0,
              "#0d0887"
             ],
             [
              0.1111111111111111,
              "#46039f"
             ],
             [
              0.2222222222222222,
              "#7201a8"
             ],
             [
              0.3333333333333333,
              "#9c179e"
             ],
             [
              0.4444444444444444,
              "#bd3786"
             ],
             [
              0.5555555555555556,
              "#d8576b"
             ],
             [
              0.6666666666666666,
              "#ed7953"
             ],
             [
              0.7777777777777778,
              "#fb9f3a"
             ],
             [
              0.8888888888888888,
              "#fdca26"
             ],
             [
              1,
              "#f0f921"
             ]
            ],
            "type": "histogram2dcontour"
           }
          ],
          "mesh3d": [
           {
            "colorbar": {
             "outlinewidth": 0,
             "ticks": ""
            },
            "type": "mesh3d"
           }
          ],
          "parcoords": [
           {
            "line": {
             "colorbar": {
              "outlinewidth": 0,
              "ticks": ""
             }
            },
            "type": "parcoords"
           }
          ],
          "pie": [
           {
            "automargin": true,
            "type": "pie"
           }
          ],
          "scatter": [
           {
            "marker": {
             "colorbar": {
              "outlinewidth": 0,
              "ticks": ""
             }
            },
            "type": "scatter"
           }
          ],
          "scatter3d": [
           {
            "line": {
             "colorbar": {
              "outlinewidth": 0,
              "ticks": ""
             }
            },
            "marker": {
             "colorbar": {
              "outlinewidth": 0,
              "ticks": ""
             }
            },
            "type": "scatter3d"
           }
          ],
          "scattercarpet": [
           {
            "marker": {
             "colorbar": {
              "outlinewidth": 0,
              "ticks": ""
             }
            },
            "type": "scattercarpet"
           }
          ],
          "scattergeo": [
           {
            "marker": {
             "colorbar": {
              "outlinewidth": 0,
              "ticks": ""
             }
            },
            "type": "scattergeo"
           }
          ],
          "scattergl": [
           {
            "marker": {
             "colorbar": {
              "outlinewidth": 0,
              "ticks": ""
             }
            },
            "type": "scattergl"
           }
          ],
          "scattermapbox": [
           {
            "marker": {
             "colorbar": {
              "outlinewidth": 0,
              "ticks": ""
             }
            },
            "type": "scattermapbox"
           }
          ],
          "scatterpolar": [
           {
            "marker": {
             "colorbar": {
              "outlinewidth": 0,
              "ticks": ""
             }
            },
            "type": "scatterpolar"
           }
          ],
          "scatterpolargl": [
           {
            "marker": {
             "colorbar": {
              "outlinewidth": 0,
              "ticks": ""
             }
            },
            "type": "scatterpolargl"
           }
          ],
          "scatterternary": [
           {
            "marker": {
             "colorbar": {
              "outlinewidth": 0,
              "ticks": ""
             }
            },
            "type": "scatterternary"
           }
          ],
          "surface": [
           {
            "colorbar": {
             "outlinewidth": 0,
             "ticks": ""
            },
            "colorscale": [
             [
              0,
              "#0d0887"
             ],
             [
              0.1111111111111111,
              "#46039f"
             ],
             [
              0.2222222222222222,
              "#7201a8"
             ],
             [
              0.3333333333333333,
              "#9c179e"
             ],
             [
              0.4444444444444444,
              "#bd3786"
             ],
             [
              0.5555555555555556,
              "#d8576b"
             ],
             [
              0.6666666666666666,
              "#ed7953"
             ],
             [
              0.7777777777777778,
              "#fb9f3a"
             ],
             [
              0.8888888888888888,
              "#fdca26"
             ],
             [
              1,
              "#f0f921"
             ]
            ],
            "type": "surface"
           }
          ],
          "table": [
           {
            "cells": {
             "fill": {
              "color": "#EBF0F8"
             },
             "line": {
              "color": "white"
             }
            },
            "header": {
             "fill": {
              "color": "#C8D4E3"
             },
             "line": {
              "color": "white"
             }
            },
            "type": "table"
           }
          ]
         },
         "layout": {
          "annotationdefaults": {
           "arrowcolor": "#2a3f5f",
           "arrowhead": 0,
           "arrowwidth": 1
          },
          "autotypenumbers": "strict",
          "coloraxis": {
           "colorbar": {
            "outlinewidth": 0,
            "ticks": ""
           }
          },
          "colorscale": {
           "diverging": [
            [
             0,
             "#8e0152"
            ],
            [
             0.1,
             "#c51b7d"
            ],
            [
             0.2,
             "#de77ae"
            ],
            [
             0.3,
             "#f1b6da"
            ],
            [
             0.4,
             "#fde0ef"
            ],
            [
             0.5,
             "#f7f7f7"
            ],
            [
             0.6,
             "#e6f5d0"
            ],
            [
             0.7,
             "#b8e186"
            ],
            [
             0.8,
             "#7fbc41"
            ],
            [
             0.9,
             "#4d9221"
            ],
            [
             1,
             "#276419"
            ]
           ],
           "sequential": [
            [
             0,
             "#0d0887"
            ],
            [
             0.1111111111111111,
             "#46039f"
            ],
            [
             0.2222222222222222,
             "#7201a8"
            ],
            [
             0.3333333333333333,
             "#9c179e"
            ],
            [
             0.4444444444444444,
             "#bd3786"
            ],
            [
             0.5555555555555556,
             "#d8576b"
            ],
            [
             0.6666666666666666,
             "#ed7953"
            ],
            [
             0.7777777777777778,
             "#fb9f3a"
            ],
            [
             0.8888888888888888,
             "#fdca26"
            ],
            [
             1,
             "#f0f921"
            ]
           ],
           "sequentialminus": [
            [
             0,
             "#0d0887"
            ],
            [
             0.1111111111111111,
             "#46039f"
            ],
            [
             0.2222222222222222,
             "#7201a8"
            ],
            [
             0.3333333333333333,
             "#9c179e"
            ],
            [
             0.4444444444444444,
             "#bd3786"
            ],
            [
             0.5555555555555556,
             "#d8576b"
            ],
            [
             0.6666666666666666,
             "#ed7953"
            ],
            [
             0.7777777777777778,
             "#fb9f3a"
            ],
            [
             0.8888888888888888,
             "#fdca26"
            ],
            [
             1,
             "#f0f921"
            ]
           ]
          },
          "colorway": [
           "#636efa",
           "#EF553B",
           "#00cc96",
           "#ab63fa",
           "#FFA15A",
           "#19d3f3",
           "#FF6692",
           "#B6E880",
           "#FF97FF",
           "#FECB52"
          ],
          "font": {
           "color": "#2a3f5f"
          },
          "geo": {
           "bgcolor": "white",
           "lakecolor": "white",
           "landcolor": "#E5ECF6",
           "showlakes": true,
           "showland": true,
           "subunitcolor": "white"
          },
          "hoverlabel": {
           "align": "left"
          },
          "hovermode": "closest",
          "mapbox": {
           "style": "light"
          },
          "paper_bgcolor": "white",
          "plot_bgcolor": "#E5ECF6",
          "polar": {
           "angularaxis": {
            "gridcolor": "white",
            "linecolor": "white",
            "ticks": ""
           },
           "bgcolor": "#E5ECF6",
           "radialaxis": {
            "gridcolor": "white",
            "linecolor": "white",
            "ticks": ""
           }
          },
          "scene": {
           "xaxis": {
            "backgroundcolor": "#E5ECF6",
            "gridcolor": "white",
            "gridwidth": 2,
            "linecolor": "white",
            "showbackground": true,
            "ticks": "",
            "zerolinecolor": "white"
           },
           "yaxis": {
            "backgroundcolor": "#E5ECF6",
            "gridcolor": "white",
            "gridwidth": 2,
            "linecolor": "white",
            "showbackground": true,
            "ticks": "",
            "zerolinecolor": "white"
           },
           "zaxis": {
            "backgroundcolor": "#E5ECF6",
            "gridcolor": "white",
            "gridwidth": 2,
            "linecolor": "white",
            "showbackground": true,
            "ticks": "",
            "zerolinecolor": "white"
           }
          },
          "shapedefaults": {
           "line": {
            "color": "#2a3f5f"
           }
          },
          "ternary": {
           "aaxis": {
            "gridcolor": "white",
            "linecolor": "white",
            "ticks": ""
           },
           "baxis": {
            "gridcolor": "white",
            "linecolor": "white",
            "ticks": ""
           },
           "bgcolor": "#E5ECF6",
           "caxis": {
            "gridcolor": "white",
            "linecolor": "white",
            "ticks": ""
           }
          },
          "title": {
           "x": 0.05
          },
          "xaxis": {
           "automargin": true,
           "gridcolor": "white",
           "linecolor": "white",
           "ticks": "",
           "title": {
            "standoff": 15
           },
           "zerolinecolor": "white",
           "zerolinewidth": 2
          },
          "yaxis": {
           "automargin": true,
           "gridcolor": "white",
           "linecolor": "white",
           "ticks": "",
           "title": {
            "standoff": 15
           },
           "zerolinecolor": "white",
           "zerolinewidth": 2
          }
         }
        },
        "xaxis": {
         "anchor": "y",
         "domain": [
          0,
          1
         ],
         "title": {
          "text": "x"
         }
        },
        "yaxis": {
         "anchor": "x",
         "domain": [
          0,
          1
         ],
         "title": {
          "text": "probability density"
         }
        }
       }
      },
      "text/html": [
       "<div>                            <div id=\"317bb22e-13b8-4491-a409-1a4fd4ec623b\" class=\"plotly-graph-div\" style=\"height:525px; width:100%;\"></div>            <script type=\"text/javascript\">                require([\"plotly\"], function(Plotly) {                    window.PLOTLYENV=window.PLOTLYENV || {};                                    if (document.getElementById(\"317bb22e-13b8-4491-a409-1a4fd4ec623b\")) {                    Plotly.newPlot(                        \"317bb22e-13b8-4491-a409-1a4fd4ec623b\",                        [{\"alignmentgroup\": \"True\", \"bingroup\": \"x\", \"histnorm\": \"probability density\", \"hovertemplate\": \"x=%{x}<br>probability density=%{y}<extra></extra>\", \"legendgroup\": \"\", \"marker\": {\"color\": \"#636efa\"}, \"name\": \"\", \"offsetgroup\": \"\", \"orientation\": \"v\", \"showlegend\": false, \"type\": \"histogram\", \"x\": [6.396929655216146, 6.907755278982137, 6.720220155135295, 7.003065458786462, 6.551080335043404, 7.355641102974253, 6.396929655216146, 6.551080335043404, 6.396929655216146, 6.745236349484363, 6.779921907472252, 5.703782474656201, 6.802394763324311, 8.006367567650246, 6.551080335043404, 6.907755278982137, 6.620073206530356, 6.396929655216146, 6.802394763324311, 7.090076835776092, 7.24422751560335, 7.313220387090301, 7.170119543449628, 8.294049640102028, 7.101675971619444, 6.684611727667927, 6.476972362889683, 6.802394763324311, 7.24422751560335, 7.600902459542082, 6.684611727667927, 6.745236349484363, 8.517193191416238, 7.090076835776092, 7.313220387090301, 6.802394763324311, 6.551080335043404, 6.238324625039508, 6.396929655216146, 6.551080335043404, 6.214608098422191, 6.214608098422191, 6.551080335043404, 6.907755278982137, 6.907755278982137, 6.745236349484363, 6.956545443151569, 7.170119543449628, 7.1308988302963465, 6.907755278982137, 6.684611727667927, 7.482681828154651, 7.003065458786462, 7.003065458786462], \"xaxis\": \"x\", \"yaxis\": \"y\"}],                        {\"barmode\": \"relative\", \"legend\": {\"tracegroupgap\": 0}, \"margin\": {\"t\": 60}, \"template\": {\"data\": {\"bar\": [{\"error_x\": {\"color\": \"#2a3f5f\"}, \"error_y\": {\"color\": \"#2a3f5f\"}, \"marker\": {\"line\": {\"color\": \"#E5ECF6\", \"width\": 0.5}}, \"type\": \"bar\"}], \"barpolar\": [{\"marker\": {\"line\": {\"color\": \"#E5ECF6\", \"width\": 0.5}}, \"type\": \"barpolar\"}], \"carpet\": [{\"aaxis\": {\"endlinecolor\": \"#2a3f5f\", \"gridcolor\": \"white\", \"linecolor\": \"white\", \"minorgridcolor\": \"white\", \"startlinecolor\": \"#2a3f5f\"}, \"baxis\": {\"endlinecolor\": \"#2a3f5f\", \"gridcolor\": \"white\", \"linecolor\": \"white\", \"minorgridcolor\": \"white\", \"startlinecolor\": \"#2a3f5f\"}, \"type\": \"carpet\"}], \"choropleth\": [{\"colorbar\": {\"outlinewidth\": 0, \"ticks\": \"\"}, \"type\": \"choropleth\"}], \"contour\": [{\"colorbar\": {\"outlinewidth\": 0, \"ticks\": \"\"}, \"colorscale\": [[0.0, \"#0d0887\"], [0.1111111111111111, \"#46039f\"], [0.2222222222222222, \"#7201a8\"], [0.3333333333333333, \"#9c179e\"], [0.4444444444444444, \"#bd3786\"], [0.5555555555555556, \"#d8576b\"], [0.6666666666666666, \"#ed7953\"], [0.7777777777777778, \"#fb9f3a\"], [0.8888888888888888, \"#fdca26\"], [1.0, \"#f0f921\"]], \"type\": \"contour\"}], \"contourcarpet\": [{\"colorbar\": {\"outlinewidth\": 0, \"ticks\": \"\"}, \"type\": \"contourcarpet\"}], \"heatmap\": [{\"colorbar\": {\"outlinewidth\": 0, \"ticks\": \"\"}, \"colorscale\": [[0.0, \"#0d0887\"], [0.1111111111111111, \"#46039f\"], [0.2222222222222222, \"#7201a8\"], [0.3333333333333333, \"#9c179e\"], [0.4444444444444444, \"#bd3786\"], [0.5555555555555556, \"#d8576b\"], [0.6666666666666666, \"#ed7953\"], [0.7777777777777778, \"#fb9f3a\"], [0.8888888888888888, \"#fdca26\"], [1.0, \"#f0f921\"]], \"type\": \"heatmap\"}], \"heatmapgl\": [{\"colorbar\": {\"outlinewidth\": 0, \"ticks\": \"\"}, \"colorscale\": [[0.0, \"#0d0887\"], [0.1111111111111111, \"#46039f\"], [0.2222222222222222, \"#7201a8\"], [0.3333333333333333, \"#9c179e\"], [0.4444444444444444, \"#bd3786\"], [0.5555555555555556, \"#d8576b\"], [0.6666666666666666, \"#ed7953\"], [0.7777777777777778, \"#fb9f3a\"], [0.8888888888888888, \"#fdca26\"], [1.0, \"#f0f921\"]], \"type\": \"heatmapgl\"}], \"histogram\": [{\"marker\": {\"colorbar\": {\"outlinewidth\": 0, \"ticks\": \"\"}}, \"type\": \"histogram\"}], \"histogram2d\": [{\"colorbar\": {\"outlinewidth\": 0, \"ticks\": \"\"}, \"colorscale\": [[0.0, \"#0d0887\"], [0.1111111111111111, \"#46039f\"], [0.2222222222222222, \"#7201a8\"], [0.3333333333333333, \"#9c179e\"], [0.4444444444444444, \"#bd3786\"], [0.5555555555555556, \"#d8576b\"], [0.6666666666666666, \"#ed7953\"], [0.7777777777777778, \"#fb9f3a\"], [0.8888888888888888, \"#fdca26\"], [1.0, \"#f0f921\"]], \"type\": \"histogram2d\"}], \"histogram2dcontour\": [{\"colorbar\": {\"outlinewidth\": 0, \"ticks\": \"\"}, \"colorscale\": [[0.0, \"#0d0887\"], [0.1111111111111111, \"#46039f\"], [0.2222222222222222, \"#7201a8\"], [0.3333333333333333, \"#9c179e\"], [0.4444444444444444, \"#bd3786\"], [0.5555555555555556, \"#d8576b\"], [0.6666666666666666, \"#ed7953\"], [0.7777777777777778, \"#fb9f3a\"], [0.8888888888888888, \"#fdca26\"], [1.0, \"#f0f921\"]], \"type\": \"histogram2dcontour\"}], \"mesh3d\": [{\"colorbar\": {\"outlinewidth\": 0, \"ticks\": \"\"}, \"type\": \"mesh3d\"}], \"parcoords\": [{\"line\": {\"colorbar\": {\"outlinewidth\": 0, \"ticks\": \"\"}}, \"type\": \"parcoords\"}], \"pie\": [{\"automargin\": true, \"type\": \"pie\"}], \"scatter\": [{\"marker\": {\"colorbar\": {\"outlinewidth\": 0, \"ticks\": \"\"}}, \"type\": \"scatter\"}], \"scatter3d\": [{\"line\": {\"colorbar\": {\"outlinewidth\": 0, \"ticks\": \"\"}}, \"marker\": {\"colorbar\": {\"outlinewidth\": 0, \"ticks\": \"\"}}, \"type\": \"scatter3d\"}], \"scattercarpet\": [{\"marker\": {\"colorbar\": {\"outlinewidth\": 0, \"ticks\": \"\"}}, \"type\": \"scattercarpet\"}], \"scattergeo\": [{\"marker\": {\"colorbar\": {\"outlinewidth\": 0, \"ticks\": \"\"}}, \"type\": \"scattergeo\"}], \"scattergl\": [{\"marker\": {\"colorbar\": {\"outlinewidth\": 0, \"ticks\": \"\"}}, \"type\": \"scattergl\"}], \"scattermapbox\": [{\"marker\": {\"colorbar\": {\"outlinewidth\": 0, \"ticks\": \"\"}}, \"type\": \"scattermapbox\"}], \"scatterpolar\": [{\"marker\": {\"colorbar\": {\"outlinewidth\": 0, \"ticks\": \"\"}}, \"type\": \"scatterpolar\"}], \"scatterpolargl\": [{\"marker\": {\"colorbar\": {\"outlinewidth\": 0, \"ticks\": \"\"}}, \"type\": \"scatterpolargl\"}], \"scatterternary\": [{\"marker\": {\"colorbar\": {\"outlinewidth\": 0, \"ticks\": \"\"}}, \"type\": \"scatterternary\"}], \"surface\": [{\"colorbar\": {\"outlinewidth\": 0, \"ticks\": \"\"}, \"colorscale\": [[0.0, \"#0d0887\"], [0.1111111111111111, \"#46039f\"], [0.2222222222222222, \"#7201a8\"], [0.3333333333333333, \"#9c179e\"], [0.4444444444444444, \"#bd3786\"], [0.5555555555555556, \"#d8576b\"], [0.6666666666666666, \"#ed7953\"], [0.7777777777777778, \"#fb9f3a\"], [0.8888888888888888, \"#fdca26\"], [1.0, \"#f0f921\"]], \"type\": \"surface\"}], \"table\": [{\"cells\": {\"fill\": {\"color\": \"#EBF0F8\"}, \"line\": {\"color\": \"white\"}}, \"header\": {\"fill\": {\"color\": \"#C8D4E3\"}, \"line\": {\"color\": \"white\"}}, \"type\": \"table\"}]}, \"layout\": {\"annotationdefaults\": {\"arrowcolor\": \"#2a3f5f\", \"arrowhead\": 0, \"arrowwidth\": 1}, \"autotypenumbers\": \"strict\", \"coloraxis\": {\"colorbar\": {\"outlinewidth\": 0, \"ticks\": \"\"}}, \"colorscale\": {\"diverging\": [[0, \"#8e0152\"], [0.1, \"#c51b7d\"], [0.2, \"#de77ae\"], [0.3, \"#f1b6da\"], [0.4, \"#fde0ef\"], [0.5, \"#f7f7f7\"], [0.6, \"#e6f5d0\"], [0.7, \"#b8e186\"], [0.8, \"#7fbc41\"], [0.9, \"#4d9221\"], [1, \"#276419\"]], \"sequential\": [[0.0, \"#0d0887\"], [0.1111111111111111, \"#46039f\"], [0.2222222222222222, \"#7201a8\"], [0.3333333333333333, \"#9c179e\"], [0.4444444444444444, \"#bd3786\"], [0.5555555555555556, \"#d8576b\"], [0.6666666666666666, \"#ed7953\"], [0.7777777777777778, \"#fb9f3a\"], [0.8888888888888888, \"#fdca26\"], [1.0, \"#f0f921\"]], \"sequentialminus\": [[0.0, \"#0d0887\"], [0.1111111111111111, \"#46039f\"], [0.2222222222222222, \"#7201a8\"], [0.3333333333333333, \"#9c179e\"], [0.4444444444444444, \"#bd3786\"], [0.5555555555555556, \"#d8576b\"], [0.6666666666666666, \"#ed7953\"], [0.7777777777777778, \"#fb9f3a\"], [0.8888888888888888, \"#fdca26\"], [1.0, \"#f0f921\"]]}, \"colorway\": [\"#636efa\", \"#EF553B\", \"#00cc96\", \"#ab63fa\", \"#FFA15A\", \"#19d3f3\", \"#FF6692\", \"#B6E880\", \"#FF97FF\", \"#FECB52\"], \"font\": {\"color\": \"#2a3f5f\"}, \"geo\": {\"bgcolor\": \"white\", \"lakecolor\": \"white\", \"landcolor\": \"#E5ECF6\", \"showlakes\": true, \"showland\": true, \"subunitcolor\": \"white\"}, \"hoverlabel\": {\"align\": \"left\"}, \"hovermode\": \"closest\", \"mapbox\": {\"style\": \"light\"}, \"paper_bgcolor\": \"white\", \"plot_bgcolor\": \"#E5ECF6\", \"polar\": {\"angularaxis\": {\"gridcolor\": \"white\", \"linecolor\": \"white\", \"ticks\": \"\"}, \"bgcolor\": \"#E5ECF6\", \"radialaxis\": {\"gridcolor\": \"white\", \"linecolor\": \"white\", \"ticks\": \"\"}}, \"scene\": {\"xaxis\": {\"backgroundcolor\": \"#E5ECF6\", \"gridcolor\": \"white\", \"gridwidth\": 2, \"linecolor\": \"white\", \"showbackground\": true, \"ticks\": \"\", \"zerolinecolor\": \"white\"}, \"yaxis\": {\"backgroundcolor\": \"#E5ECF6\", \"gridcolor\": \"white\", \"gridwidth\": 2, \"linecolor\": \"white\", \"showbackground\": true, \"ticks\": \"\", \"zerolinecolor\": \"white\"}, \"zaxis\": {\"backgroundcolor\": \"#E5ECF6\", \"gridcolor\": \"white\", \"gridwidth\": 2, \"linecolor\": \"white\", \"showbackground\": true, \"ticks\": \"\", \"zerolinecolor\": \"white\"}}, \"shapedefaults\": {\"line\": {\"color\": \"#2a3f5f\"}}, \"ternary\": {\"aaxis\": {\"gridcolor\": \"white\", \"linecolor\": \"white\", \"ticks\": \"\"}, \"baxis\": {\"gridcolor\": \"white\", \"linecolor\": \"white\", \"ticks\": \"\"}, \"bgcolor\": \"#E5ECF6\", \"caxis\": {\"gridcolor\": \"white\", \"linecolor\": \"white\", \"ticks\": \"\"}}, \"title\": {\"x\": 0.05}, \"xaxis\": {\"automargin\": true, \"gridcolor\": \"white\", \"linecolor\": \"white\", \"ticks\": \"\", \"title\": {\"standoff\": 15}, \"zerolinecolor\": \"white\", \"zerolinewidth\": 2}, \"yaxis\": {\"automargin\": true, \"gridcolor\": \"white\", \"linecolor\": \"white\", \"ticks\": \"\", \"title\": {\"standoff\": 15}, \"zerolinecolor\": \"white\", \"zerolinewidth\": 2}}}, \"xaxis\": {\"anchor\": \"y\", \"domain\": [0.0, 1.0], \"title\": {\"text\": \"x\"}}, \"yaxis\": {\"anchor\": \"x\", \"domain\": [0.0, 1.0], \"title\": {\"text\": \"probability density\"}}},                        {\"responsive\": true}                    ).then(function(){\n",
       "                            \n",
       "var gd = document.getElementById('317bb22e-13b8-4491-a409-1a4fd4ec623b');\n",
       "var x = new MutationObserver(function (mutations, observer) {{\n",
       "        var display = window.getComputedStyle(gd).display;\n",
       "        if (!display || display === 'none') {{\n",
       "            console.log([gd, 'removed!']);\n",
       "            Plotly.purge(gd);\n",
       "            observer.disconnect();\n",
       "        }}\n",
       "}});\n",
       "\n",
       "// Listen for the removal of the full notebook cells\n",
       "var notebookContainer = gd.closest('#notebook-container');\n",
       "if (notebookContainer) {{\n",
       "    x.observe(notebookContainer, {childList: true});\n",
       "}}\n",
       "\n",
       "// Listen for the clearing of the current output cell\n",
       "var outputEl = gd.closest('.output');\n",
       "if (outputEl) {{\n",
       "    x.observe(outputEl, {childList: true});\n",
       "}}\n",
       "\n",
       "                        })                };                });            </script>        </div>"
      ]
     },
     "metadata": {},
     "output_type": "display_data"
    }
   ],
   "source": [
    "# Transformations can be used to alter the shape of a empirical distribution.  Sometimes \n",
    "# symmetry of observations are important for the application of asymptotics to statistical\n",
    "# statistical models - particularly parametric models. \n",
    "#\n",
    "# Plot of log transform \n",
    "# See here for ploty examples - https://plotly.com/python/\n",
    "import plotly.express as px \n",
    "fig = px.histogram(df, x=np.log(df.x), \n",
    "                   histnorm='probability density') \n",
    "fig.show()"
   ]
  },
  {
   "cell_type": "code",
   "execution_count": 62,
   "metadata": {},
   "outputs": [
    {
     "name": "stdout",
     "output_type": "stream",
     "text": [
      "Mean:\n",
      "1122.7222222222222\n",
      "Log-mean:\n",
      "6.877555219808863\n",
      "Back-transformed log-mean\n",
      "970.251406436461\n"
     ]
    }
   ],
   "source": [
    "# Calculate the mean, the mean of the log-values, then backtransform to see how the\n",
    "# mean and the back-transformed log-mean differ.  \n",
    "print(\"Mean:\")\n",
    "print(np.mean(df.x))\n",
    "log_x=np.log(df.x)\n",
    "log_x_mean=np.mean(log_x)\n",
    "print(\"Log-mean:\")\n",
    "print(log_x_mean)\n",
    "print(\"Back-transformed log-mean\")\n",
    "print(np.exp(log_x_mean))"
   ]
  },
  {
   "cell_type": "code",
   "execution_count": 63,
   "metadata": {},
   "outputs": [
    {
     "name": "stdout",
     "output_type": "stream",
     "text": [
      "Mean:\n",
      "1122.7222222222222\n",
      "Back-transformed huber-estimate of the log-values:\n",
      "[900.]\n"
     ]
    }
   ],
   "source": [
    "# We calculate the huber estimate for the log-values and then \n",
    "# back transform\n",
    "print(\"Mean:\")\n",
    "print(np.mean(df.x))\n",
    "mu=%R MASS::huber(log(df$x), k=0, tol = 1e-08)$mu\n",
    "s=%R MASS::huber(log(df$x), k=0, tol = 1e-08)$s      \n",
    "print(\"Back-transformed huber-estimate of the log-values:\")\n",
    "print(np.exp(mu))"
   ]
  },
  {
   "cell_type": "code",
   "execution_count": 64,
   "metadata": {},
   "outputs": [
    {
     "data": {
      "application/vnd.plotly.v1+json": {
       "config": {
        "plotlyServerURL": "https://plot.ly"
       },
       "data": [
        {
         "alignmentgroup": "True",
         "bingroup": "x",
         "histnorm": "probability density",
         "hovertemplate": "x=%{x}<br>probability density=%{y}<extra></extra>",
         "legendgroup": "",
         "marker": {
          "color": "#636efa"
         },
         "name": "",
         "offsetgroup": "",
         "orientation": "v",
         "showlegend": false,
         "type": "histogram",
         "x": [
          6.396929655216146,
          6.907755278982137,
          6.720220155135295,
          7.003065458786462,
          6.551080335043404,
          7.355641102974253,
          6.396929655216146,
          6.551080335043404,
          6.396929655216146,
          6.745236349484363,
          6.779921907472252,
          5.703782474656201,
          6.802394763324311,
          8.006367567650246,
          6.551080335043404,
          6.907755278982137,
          6.620073206530356,
          6.396929655216146,
          6.802394763324311,
          7.090076835776092,
          7.24422751560335,
          7.313220387090301,
          7.170119543449628,
          8.294049640102028,
          7.101675971619444,
          6.684611727667927,
          6.476972362889683,
          6.802394763324311,
          7.24422751560335,
          7.600902459542082,
          6.684611727667927,
          6.745236349484363,
          8.517193191416238,
          7.090076835776092,
          7.313220387090301,
          6.802394763324311,
          6.551080335043404,
          6.238324625039508,
          6.396929655216146,
          6.551080335043404,
          6.214608098422191,
          6.214608098422191,
          6.551080335043404,
          6.907755278982137,
          6.907755278982137,
          6.745236349484363,
          6.956545443151569,
          7.170119543449628,
          7.1308988302963465,
          6.907755278982137,
          6.684611727667927,
          7.482681828154651,
          7.003065458786462,
          7.003065458786462
         ],
         "xaxis": "x",
         "yaxis": "y"
        }
       ],
       "layout": {
        "barmode": "relative",
        "legend": {
         "tracegroupgap": 0
        },
        "margin": {
         "t": 60
        },
        "template": {
         "data": {
          "bar": [
           {
            "error_x": {
             "color": "#2a3f5f"
            },
            "error_y": {
             "color": "#2a3f5f"
            },
            "marker": {
             "line": {
              "color": "#E5ECF6",
              "width": 0.5
             }
            },
            "type": "bar"
           }
          ],
          "barpolar": [
           {
            "marker": {
             "line": {
              "color": "#E5ECF6",
              "width": 0.5
             }
            },
            "type": "barpolar"
           }
          ],
          "carpet": [
           {
            "aaxis": {
             "endlinecolor": "#2a3f5f",
             "gridcolor": "white",
             "linecolor": "white",
             "minorgridcolor": "white",
             "startlinecolor": "#2a3f5f"
            },
            "baxis": {
             "endlinecolor": "#2a3f5f",
             "gridcolor": "white",
             "linecolor": "white",
             "minorgridcolor": "white",
             "startlinecolor": "#2a3f5f"
            },
            "type": "carpet"
           }
          ],
          "choropleth": [
           {
            "colorbar": {
             "outlinewidth": 0,
             "ticks": ""
            },
            "type": "choropleth"
           }
          ],
          "contour": [
           {
            "colorbar": {
             "outlinewidth": 0,
             "ticks": ""
            },
            "colorscale": [
             [
              0,
              "#0d0887"
             ],
             [
              0.1111111111111111,
              "#46039f"
             ],
             [
              0.2222222222222222,
              "#7201a8"
             ],
             [
              0.3333333333333333,
              "#9c179e"
             ],
             [
              0.4444444444444444,
              "#bd3786"
             ],
             [
              0.5555555555555556,
              "#d8576b"
             ],
             [
              0.6666666666666666,
              "#ed7953"
             ],
             [
              0.7777777777777778,
              "#fb9f3a"
             ],
             [
              0.8888888888888888,
              "#fdca26"
             ],
             [
              1,
              "#f0f921"
             ]
            ],
            "type": "contour"
           }
          ],
          "contourcarpet": [
           {
            "colorbar": {
             "outlinewidth": 0,
             "ticks": ""
            },
            "type": "contourcarpet"
           }
          ],
          "heatmap": [
           {
            "colorbar": {
             "outlinewidth": 0,
             "ticks": ""
            },
            "colorscale": [
             [
              0,
              "#0d0887"
             ],
             [
              0.1111111111111111,
              "#46039f"
             ],
             [
              0.2222222222222222,
              "#7201a8"
             ],
             [
              0.3333333333333333,
              "#9c179e"
             ],
             [
              0.4444444444444444,
              "#bd3786"
             ],
             [
              0.5555555555555556,
              "#d8576b"
             ],
             [
              0.6666666666666666,
              "#ed7953"
             ],
             [
              0.7777777777777778,
              "#fb9f3a"
             ],
             [
              0.8888888888888888,
              "#fdca26"
             ],
             [
              1,
              "#f0f921"
             ]
            ],
            "type": "heatmap"
           }
          ],
          "heatmapgl": [
           {
            "colorbar": {
             "outlinewidth": 0,
             "ticks": ""
            },
            "colorscale": [
             [
              0,
              "#0d0887"
             ],
             [
              0.1111111111111111,
              "#46039f"
             ],
             [
              0.2222222222222222,
              "#7201a8"
             ],
             [
              0.3333333333333333,
              "#9c179e"
             ],
             [
              0.4444444444444444,
              "#bd3786"
             ],
             [
              0.5555555555555556,
              "#d8576b"
             ],
             [
              0.6666666666666666,
              "#ed7953"
             ],
             [
              0.7777777777777778,
              "#fb9f3a"
             ],
             [
              0.8888888888888888,
              "#fdca26"
             ],
             [
              1,
              "#f0f921"
             ]
            ],
            "type": "heatmapgl"
           }
          ],
          "histogram": [
           {
            "marker": {
             "colorbar": {
              "outlinewidth": 0,
              "ticks": ""
             }
            },
            "type": "histogram"
           }
          ],
          "histogram2d": [
           {
            "colorbar": {
             "outlinewidth": 0,
             "ticks": ""
            },
            "colorscale": [
             [
              0,
              "#0d0887"
             ],
             [
              0.1111111111111111,
              "#46039f"
             ],
             [
              0.2222222222222222,
              "#7201a8"
             ],
             [
              0.3333333333333333,
              "#9c179e"
             ],
             [
              0.4444444444444444,
              "#bd3786"
             ],
             [
              0.5555555555555556,
              "#d8576b"
             ],
             [
              0.6666666666666666,
              "#ed7953"
             ],
             [
              0.7777777777777778,
              "#fb9f3a"
             ],
             [
              0.8888888888888888,
              "#fdca26"
             ],
             [
              1,
              "#f0f921"
             ]
            ],
            "type": "histogram2d"
           }
          ],
          "histogram2dcontour": [
           {
            "colorbar": {
             "outlinewidth": 0,
             "ticks": ""
            },
            "colorscale": [
             [
              0,
              "#0d0887"
             ],
             [
              0.1111111111111111,
              "#46039f"
             ],
             [
              0.2222222222222222,
              "#7201a8"
             ],
             [
              0.3333333333333333,
              "#9c179e"
             ],
             [
              0.4444444444444444,
              "#bd3786"
             ],
             [
              0.5555555555555556,
              "#d8576b"
             ],
             [
              0.6666666666666666,
              "#ed7953"
             ],
             [
              0.7777777777777778,
              "#fb9f3a"
             ],
             [
              0.8888888888888888,
              "#fdca26"
             ],
             [
              1,
              "#f0f921"
             ]
            ],
            "type": "histogram2dcontour"
           }
          ],
          "mesh3d": [
           {
            "colorbar": {
             "outlinewidth": 0,
             "ticks": ""
            },
            "type": "mesh3d"
           }
          ],
          "parcoords": [
           {
            "line": {
             "colorbar": {
              "outlinewidth": 0,
              "ticks": ""
             }
            },
            "type": "parcoords"
           }
          ],
          "pie": [
           {
            "automargin": true,
            "type": "pie"
           }
          ],
          "scatter": [
           {
            "marker": {
             "colorbar": {
              "outlinewidth": 0,
              "ticks": ""
             }
            },
            "type": "scatter"
           }
          ],
          "scatter3d": [
           {
            "line": {
             "colorbar": {
              "outlinewidth": 0,
              "ticks": ""
             }
            },
            "marker": {
             "colorbar": {
              "outlinewidth": 0,
              "ticks": ""
             }
            },
            "type": "scatter3d"
           }
          ],
          "scattercarpet": [
           {
            "marker": {
             "colorbar": {
              "outlinewidth": 0,
              "ticks": ""
             }
            },
            "type": "scattercarpet"
           }
          ],
          "scattergeo": [
           {
            "marker": {
             "colorbar": {
              "outlinewidth": 0,
              "ticks": ""
             }
            },
            "type": "scattergeo"
           }
          ],
          "scattergl": [
           {
            "marker": {
             "colorbar": {
              "outlinewidth": 0,
              "ticks": ""
             }
            },
            "type": "scattergl"
           }
          ],
          "scattermapbox": [
           {
            "marker": {
             "colorbar": {
              "outlinewidth": 0,
              "ticks": ""
             }
            },
            "type": "scattermapbox"
           }
          ],
          "scatterpolar": [
           {
            "marker": {
             "colorbar": {
              "outlinewidth": 0,
              "ticks": ""
             }
            },
            "type": "scatterpolar"
           }
          ],
          "scatterpolargl": [
           {
            "marker": {
             "colorbar": {
              "outlinewidth": 0,
              "ticks": ""
             }
            },
            "type": "scatterpolargl"
           }
          ],
          "scatterternary": [
           {
            "marker": {
             "colorbar": {
              "outlinewidth": 0,
              "ticks": ""
             }
            },
            "type": "scatterternary"
           }
          ],
          "surface": [
           {
            "colorbar": {
             "outlinewidth": 0,
             "ticks": ""
            },
            "colorscale": [
             [
              0,
              "#0d0887"
             ],
             [
              0.1111111111111111,
              "#46039f"
             ],
             [
              0.2222222222222222,
              "#7201a8"
             ],
             [
              0.3333333333333333,
              "#9c179e"
             ],
             [
              0.4444444444444444,
              "#bd3786"
             ],
             [
              0.5555555555555556,
              "#d8576b"
             ],
             [
              0.6666666666666666,
              "#ed7953"
             ],
             [
              0.7777777777777778,
              "#fb9f3a"
             ],
             [
              0.8888888888888888,
              "#fdca26"
             ],
             [
              1,
              "#f0f921"
             ]
            ],
            "type": "surface"
           }
          ],
          "table": [
           {
            "cells": {
             "fill": {
              "color": "#EBF0F8"
             },
             "line": {
              "color": "white"
             }
            },
            "header": {
             "fill": {
              "color": "#C8D4E3"
             },
             "line": {
              "color": "white"
             }
            },
            "type": "table"
           }
          ]
         },
         "layout": {
          "annotationdefaults": {
           "arrowcolor": "#2a3f5f",
           "arrowhead": 0,
           "arrowwidth": 1
          },
          "autotypenumbers": "strict",
          "coloraxis": {
           "colorbar": {
            "outlinewidth": 0,
            "ticks": ""
           }
          },
          "colorscale": {
           "diverging": [
            [
             0,
             "#8e0152"
            ],
            [
             0.1,
             "#c51b7d"
            ],
            [
             0.2,
             "#de77ae"
            ],
            [
             0.3,
             "#f1b6da"
            ],
            [
             0.4,
             "#fde0ef"
            ],
            [
             0.5,
             "#f7f7f7"
            ],
            [
             0.6,
             "#e6f5d0"
            ],
            [
             0.7,
             "#b8e186"
            ],
            [
             0.8,
             "#7fbc41"
            ],
            [
             0.9,
             "#4d9221"
            ],
            [
             1,
             "#276419"
            ]
           ],
           "sequential": [
            [
             0,
             "#0d0887"
            ],
            [
             0.1111111111111111,
             "#46039f"
            ],
            [
             0.2222222222222222,
             "#7201a8"
            ],
            [
             0.3333333333333333,
             "#9c179e"
            ],
            [
             0.4444444444444444,
             "#bd3786"
            ],
            [
             0.5555555555555556,
             "#d8576b"
            ],
            [
             0.6666666666666666,
             "#ed7953"
            ],
            [
             0.7777777777777778,
             "#fb9f3a"
            ],
            [
             0.8888888888888888,
             "#fdca26"
            ],
            [
             1,
             "#f0f921"
            ]
           ],
           "sequentialminus": [
            [
             0,
             "#0d0887"
            ],
            [
             0.1111111111111111,
             "#46039f"
            ],
            [
             0.2222222222222222,
             "#7201a8"
            ],
            [
             0.3333333333333333,
             "#9c179e"
            ],
            [
             0.4444444444444444,
             "#bd3786"
            ],
            [
             0.5555555555555556,
             "#d8576b"
            ],
            [
             0.6666666666666666,
             "#ed7953"
            ],
            [
             0.7777777777777778,
             "#fb9f3a"
            ],
            [
             0.8888888888888888,
             "#fdca26"
            ],
            [
             1,
             "#f0f921"
            ]
           ]
          },
          "colorway": [
           "#636efa",
           "#EF553B",
           "#00cc96",
           "#ab63fa",
           "#FFA15A",
           "#19d3f3",
           "#FF6692",
           "#B6E880",
           "#FF97FF",
           "#FECB52"
          ],
          "font": {
           "color": "#2a3f5f"
          },
          "geo": {
           "bgcolor": "white",
           "lakecolor": "white",
           "landcolor": "#E5ECF6",
           "showlakes": true,
           "showland": true,
           "subunitcolor": "white"
          },
          "hoverlabel": {
           "align": "left"
          },
          "hovermode": "closest",
          "mapbox": {
           "style": "light"
          },
          "paper_bgcolor": "white",
          "plot_bgcolor": "#E5ECF6",
          "polar": {
           "angularaxis": {
            "gridcolor": "white",
            "linecolor": "white",
            "ticks": ""
           },
           "bgcolor": "#E5ECF6",
           "radialaxis": {
            "gridcolor": "white",
            "linecolor": "white",
            "ticks": ""
           }
          },
          "scene": {
           "xaxis": {
            "backgroundcolor": "#E5ECF6",
            "gridcolor": "white",
            "gridwidth": 2,
            "linecolor": "white",
            "showbackground": true,
            "ticks": "",
            "zerolinecolor": "white"
           },
           "yaxis": {
            "backgroundcolor": "#E5ECF6",
            "gridcolor": "white",
            "gridwidth": 2,
            "linecolor": "white",
            "showbackground": true,
            "ticks": "",
            "zerolinecolor": "white"
           },
           "zaxis": {
            "backgroundcolor": "#E5ECF6",
            "gridcolor": "white",
            "gridwidth": 2,
            "linecolor": "white",
            "showbackground": true,
            "ticks": "",
            "zerolinecolor": "white"
           }
          },
          "shapedefaults": {
           "line": {
            "color": "#2a3f5f"
           }
          },
          "ternary": {
           "aaxis": {
            "gridcolor": "white",
            "linecolor": "white",
            "ticks": ""
           },
           "baxis": {
            "gridcolor": "white",
            "linecolor": "white",
            "ticks": ""
           },
           "bgcolor": "#E5ECF6",
           "caxis": {
            "gridcolor": "white",
            "linecolor": "white",
            "ticks": ""
           }
          },
          "title": {
           "x": 0.05
          },
          "xaxis": {
           "automargin": true,
           "gridcolor": "white",
           "linecolor": "white",
           "ticks": "",
           "title": {
            "standoff": 15
           },
           "zerolinecolor": "white",
           "zerolinewidth": 2
          },
          "yaxis": {
           "automargin": true,
           "gridcolor": "white",
           "linecolor": "white",
           "ticks": "",
           "title": {
            "standoff": 15
           },
           "zerolinecolor": "white",
           "zerolinewidth": 2
          }
         }
        },
        "xaxis": {
         "anchor": "y",
         "domain": [
          0,
          1
         ],
         "title": {
          "text": "x"
         }
        },
        "yaxis": {
         "anchor": "x",
         "domain": [
          0,
          1
         ],
         "title": {
          "text": "probability density"
         }
        }
       }
      },
      "text/html": [
       "<div>                            <div id=\"6415d1da-f930-4d2a-a85d-ed1ac4b18108\" class=\"plotly-graph-div\" style=\"height:525px; width:100%;\"></div>            <script type=\"text/javascript\">                require([\"plotly\"], function(Plotly) {                    window.PLOTLYENV=window.PLOTLYENV || {};                                    if (document.getElementById(\"6415d1da-f930-4d2a-a85d-ed1ac4b18108\")) {                    Plotly.newPlot(                        \"6415d1da-f930-4d2a-a85d-ed1ac4b18108\",                        [{\"alignmentgroup\": \"True\", \"bingroup\": \"x\", \"histnorm\": \"probability density\", \"hovertemplate\": \"x=%{x}<br>probability density=%{y}<extra></extra>\", \"legendgroup\": \"\", \"marker\": {\"color\": \"#636efa\"}, \"name\": \"\", \"offsetgroup\": \"\", \"orientation\": \"v\", \"showlegend\": false, \"type\": \"histogram\", \"x\": [6.396929655216146, 6.907755278982137, 6.720220155135295, 7.003065458786462, 6.551080335043404, 7.355641102974253, 6.396929655216146, 6.551080335043404, 6.396929655216146, 6.745236349484363, 6.779921907472252, 5.703782474656201, 6.802394763324311, 8.006367567650246, 6.551080335043404, 6.907755278982137, 6.620073206530356, 6.396929655216146, 6.802394763324311, 7.090076835776092, 7.24422751560335, 7.313220387090301, 7.170119543449628, 8.294049640102028, 7.101675971619444, 6.684611727667927, 6.476972362889683, 6.802394763324311, 7.24422751560335, 7.600902459542082, 6.684611727667927, 6.745236349484363, 8.517193191416238, 7.090076835776092, 7.313220387090301, 6.802394763324311, 6.551080335043404, 6.238324625039508, 6.396929655216146, 6.551080335043404, 6.214608098422191, 6.214608098422191, 6.551080335043404, 6.907755278982137, 6.907755278982137, 6.745236349484363, 6.956545443151569, 7.170119543449628, 7.1308988302963465, 6.907755278982137, 6.684611727667927, 7.482681828154651, 7.003065458786462, 7.003065458786462], \"xaxis\": \"x\", \"yaxis\": \"y\"}],                        {\"barmode\": \"relative\", \"legend\": {\"tracegroupgap\": 0}, \"margin\": {\"t\": 60}, \"template\": {\"data\": {\"bar\": [{\"error_x\": {\"color\": \"#2a3f5f\"}, \"error_y\": {\"color\": \"#2a3f5f\"}, \"marker\": {\"line\": {\"color\": \"#E5ECF6\", \"width\": 0.5}}, \"type\": \"bar\"}], \"barpolar\": [{\"marker\": {\"line\": {\"color\": \"#E5ECF6\", \"width\": 0.5}}, \"type\": \"barpolar\"}], \"carpet\": [{\"aaxis\": {\"endlinecolor\": \"#2a3f5f\", \"gridcolor\": \"white\", \"linecolor\": \"white\", \"minorgridcolor\": \"white\", \"startlinecolor\": \"#2a3f5f\"}, \"baxis\": {\"endlinecolor\": \"#2a3f5f\", \"gridcolor\": \"white\", \"linecolor\": \"white\", \"minorgridcolor\": \"white\", \"startlinecolor\": \"#2a3f5f\"}, \"type\": \"carpet\"}], \"choropleth\": [{\"colorbar\": {\"outlinewidth\": 0, \"ticks\": \"\"}, \"type\": \"choropleth\"}], \"contour\": [{\"colorbar\": {\"outlinewidth\": 0, \"ticks\": \"\"}, \"colorscale\": [[0.0, \"#0d0887\"], [0.1111111111111111, \"#46039f\"], [0.2222222222222222, \"#7201a8\"], [0.3333333333333333, \"#9c179e\"], [0.4444444444444444, \"#bd3786\"], [0.5555555555555556, \"#d8576b\"], [0.6666666666666666, \"#ed7953\"], [0.7777777777777778, \"#fb9f3a\"], [0.8888888888888888, \"#fdca26\"], [1.0, \"#f0f921\"]], \"type\": \"contour\"}], \"contourcarpet\": [{\"colorbar\": {\"outlinewidth\": 0, \"ticks\": \"\"}, \"type\": \"contourcarpet\"}], \"heatmap\": [{\"colorbar\": {\"outlinewidth\": 0, \"ticks\": \"\"}, \"colorscale\": [[0.0, \"#0d0887\"], [0.1111111111111111, \"#46039f\"], [0.2222222222222222, \"#7201a8\"], [0.3333333333333333, \"#9c179e\"], [0.4444444444444444, \"#bd3786\"], [0.5555555555555556, \"#d8576b\"], [0.6666666666666666, \"#ed7953\"], [0.7777777777777778, \"#fb9f3a\"], [0.8888888888888888, \"#fdca26\"], [1.0, \"#f0f921\"]], \"type\": \"heatmap\"}], \"heatmapgl\": [{\"colorbar\": {\"outlinewidth\": 0, \"ticks\": \"\"}, \"colorscale\": [[0.0, \"#0d0887\"], [0.1111111111111111, \"#46039f\"], [0.2222222222222222, \"#7201a8\"], [0.3333333333333333, \"#9c179e\"], [0.4444444444444444, \"#bd3786\"], [0.5555555555555556, \"#d8576b\"], [0.6666666666666666, \"#ed7953\"], [0.7777777777777778, \"#fb9f3a\"], [0.8888888888888888, \"#fdca26\"], [1.0, \"#f0f921\"]], \"type\": \"heatmapgl\"}], \"histogram\": [{\"marker\": {\"colorbar\": {\"outlinewidth\": 0, \"ticks\": \"\"}}, \"type\": \"histogram\"}], \"histogram2d\": [{\"colorbar\": {\"outlinewidth\": 0, \"ticks\": \"\"}, \"colorscale\": [[0.0, \"#0d0887\"], [0.1111111111111111, \"#46039f\"], [0.2222222222222222, \"#7201a8\"], [0.3333333333333333, \"#9c179e\"], [0.4444444444444444, \"#bd3786\"], [0.5555555555555556, \"#d8576b\"], [0.6666666666666666, \"#ed7953\"], [0.7777777777777778, \"#fb9f3a\"], [0.8888888888888888, \"#fdca26\"], [1.0, \"#f0f921\"]], \"type\": \"histogram2d\"}], \"histogram2dcontour\": [{\"colorbar\": {\"outlinewidth\": 0, \"ticks\": \"\"}, \"colorscale\": [[0.0, \"#0d0887\"], [0.1111111111111111, \"#46039f\"], [0.2222222222222222, \"#7201a8\"], [0.3333333333333333, \"#9c179e\"], [0.4444444444444444, \"#bd3786\"], [0.5555555555555556, \"#d8576b\"], [0.6666666666666666, \"#ed7953\"], [0.7777777777777778, \"#fb9f3a\"], [0.8888888888888888, \"#fdca26\"], [1.0, \"#f0f921\"]], \"type\": \"histogram2dcontour\"}], \"mesh3d\": [{\"colorbar\": {\"outlinewidth\": 0, \"ticks\": \"\"}, \"type\": \"mesh3d\"}], \"parcoords\": [{\"line\": {\"colorbar\": {\"outlinewidth\": 0, \"ticks\": \"\"}}, \"type\": \"parcoords\"}], \"pie\": [{\"automargin\": true, \"type\": \"pie\"}], \"scatter\": [{\"marker\": {\"colorbar\": {\"outlinewidth\": 0, \"ticks\": \"\"}}, \"type\": \"scatter\"}], \"scatter3d\": [{\"line\": {\"colorbar\": {\"outlinewidth\": 0, \"ticks\": \"\"}}, \"marker\": {\"colorbar\": {\"outlinewidth\": 0, \"ticks\": \"\"}}, \"type\": \"scatter3d\"}], \"scattercarpet\": [{\"marker\": {\"colorbar\": {\"outlinewidth\": 0, \"ticks\": \"\"}}, \"type\": \"scattercarpet\"}], \"scattergeo\": [{\"marker\": {\"colorbar\": {\"outlinewidth\": 0, \"ticks\": \"\"}}, \"type\": \"scattergeo\"}], \"scattergl\": [{\"marker\": {\"colorbar\": {\"outlinewidth\": 0, \"ticks\": \"\"}}, \"type\": \"scattergl\"}], \"scattermapbox\": [{\"marker\": {\"colorbar\": {\"outlinewidth\": 0, \"ticks\": \"\"}}, \"type\": \"scattermapbox\"}], \"scatterpolar\": [{\"marker\": {\"colorbar\": {\"outlinewidth\": 0, \"ticks\": \"\"}}, \"type\": \"scatterpolar\"}], \"scatterpolargl\": [{\"marker\": {\"colorbar\": {\"outlinewidth\": 0, \"ticks\": \"\"}}, \"type\": \"scatterpolargl\"}], \"scatterternary\": [{\"marker\": {\"colorbar\": {\"outlinewidth\": 0, \"ticks\": \"\"}}, \"type\": \"scatterternary\"}], \"surface\": [{\"colorbar\": {\"outlinewidth\": 0, \"ticks\": \"\"}, \"colorscale\": [[0.0, \"#0d0887\"], [0.1111111111111111, \"#46039f\"], [0.2222222222222222, \"#7201a8\"], [0.3333333333333333, \"#9c179e\"], [0.4444444444444444, \"#bd3786\"], [0.5555555555555556, \"#d8576b\"], [0.6666666666666666, \"#ed7953\"], [0.7777777777777778, \"#fb9f3a\"], [0.8888888888888888, \"#fdca26\"], [1.0, \"#f0f921\"]], \"type\": \"surface\"}], \"table\": [{\"cells\": {\"fill\": {\"color\": \"#EBF0F8\"}, \"line\": {\"color\": \"white\"}}, \"header\": {\"fill\": {\"color\": \"#C8D4E3\"}, \"line\": {\"color\": \"white\"}}, \"type\": \"table\"}]}, \"layout\": {\"annotationdefaults\": {\"arrowcolor\": \"#2a3f5f\", \"arrowhead\": 0, \"arrowwidth\": 1}, \"autotypenumbers\": \"strict\", \"coloraxis\": {\"colorbar\": {\"outlinewidth\": 0, \"ticks\": \"\"}}, \"colorscale\": {\"diverging\": [[0, \"#8e0152\"], [0.1, \"#c51b7d\"], [0.2, \"#de77ae\"], [0.3, \"#f1b6da\"], [0.4, \"#fde0ef\"], [0.5, \"#f7f7f7\"], [0.6, \"#e6f5d0\"], [0.7, \"#b8e186\"], [0.8, \"#7fbc41\"], [0.9, \"#4d9221\"], [1, \"#276419\"]], \"sequential\": [[0.0, \"#0d0887\"], [0.1111111111111111, \"#46039f\"], [0.2222222222222222, \"#7201a8\"], [0.3333333333333333, \"#9c179e\"], [0.4444444444444444, \"#bd3786\"], [0.5555555555555556, \"#d8576b\"], [0.6666666666666666, \"#ed7953\"], [0.7777777777777778, \"#fb9f3a\"], [0.8888888888888888, \"#fdca26\"], [1.0, \"#f0f921\"]], \"sequentialminus\": [[0.0, \"#0d0887\"], [0.1111111111111111, \"#46039f\"], [0.2222222222222222, \"#7201a8\"], [0.3333333333333333, \"#9c179e\"], [0.4444444444444444, \"#bd3786\"], [0.5555555555555556, \"#d8576b\"], [0.6666666666666666, \"#ed7953\"], [0.7777777777777778, \"#fb9f3a\"], [0.8888888888888888, \"#fdca26\"], [1.0, \"#f0f921\"]]}, \"colorway\": [\"#636efa\", \"#EF553B\", \"#00cc96\", \"#ab63fa\", \"#FFA15A\", \"#19d3f3\", \"#FF6692\", \"#B6E880\", \"#FF97FF\", \"#FECB52\"], \"font\": {\"color\": \"#2a3f5f\"}, \"geo\": {\"bgcolor\": \"white\", \"lakecolor\": \"white\", \"landcolor\": \"#E5ECF6\", \"showlakes\": true, \"showland\": true, \"subunitcolor\": \"white\"}, \"hoverlabel\": {\"align\": \"left\"}, \"hovermode\": \"closest\", \"mapbox\": {\"style\": \"light\"}, \"paper_bgcolor\": \"white\", \"plot_bgcolor\": \"#E5ECF6\", \"polar\": {\"angularaxis\": {\"gridcolor\": \"white\", \"linecolor\": \"white\", \"ticks\": \"\"}, \"bgcolor\": \"#E5ECF6\", \"radialaxis\": {\"gridcolor\": \"white\", \"linecolor\": \"white\", \"ticks\": \"\"}}, \"scene\": {\"xaxis\": {\"backgroundcolor\": \"#E5ECF6\", \"gridcolor\": \"white\", \"gridwidth\": 2, \"linecolor\": \"white\", \"showbackground\": true, \"ticks\": \"\", \"zerolinecolor\": \"white\"}, \"yaxis\": {\"backgroundcolor\": \"#E5ECF6\", \"gridcolor\": \"white\", \"gridwidth\": 2, \"linecolor\": \"white\", \"showbackground\": true, \"ticks\": \"\", \"zerolinecolor\": \"white\"}, \"zaxis\": {\"backgroundcolor\": \"#E5ECF6\", \"gridcolor\": \"white\", \"gridwidth\": 2, \"linecolor\": \"white\", \"showbackground\": true, \"ticks\": \"\", \"zerolinecolor\": \"white\"}}, \"shapedefaults\": {\"line\": {\"color\": \"#2a3f5f\"}}, \"ternary\": {\"aaxis\": {\"gridcolor\": \"white\", \"linecolor\": \"white\", \"ticks\": \"\"}, \"baxis\": {\"gridcolor\": \"white\", \"linecolor\": \"white\", \"ticks\": \"\"}, \"bgcolor\": \"#E5ECF6\", \"caxis\": {\"gridcolor\": \"white\", \"linecolor\": \"white\", \"ticks\": \"\"}}, \"title\": {\"x\": 0.05}, \"xaxis\": {\"automargin\": true, \"gridcolor\": \"white\", \"linecolor\": \"white\", \"ticks\": \"\", \"title\": {\"standoff\": 15}, \"zerolinecolor\": \"white\", \"zerolinewidth\": 2}, \"yaxis\": {\"automargin\": true, \"gridcolor\": \"white\", \"linecolor\": \"white\", \"ticks\": \"\", \"title\": {\"standoff\": 15}, \"zerolinecolor\": \"white\", \"zerolinewidth\": 2}}}, \"xaxis\": {\"anchor\": \"y\", \"domain\": [0.0, 1.0], \"title\": {\"text\": \"x\"}}, \"yaxis\": {\"anchor\": \"x\", \"domain\": [0.0, 1.0], \"title\": {\"text\": \"probability density\"}}},                        {\"responsive\": true}                    ).then(function(){\n",
       "                            \n",
       "var gd = document.getElementById('6415d1da-f930-4d2a-a85d-ed1ac4b18108');\n",
       "var x = new MutationObserver(function (mutations, observer) {{\n",
       "        var display = window.getComputedStyle(gd).display;\n",
       "        if (!display || display === 'none') {{\n",
       "            console.log([gd, 'removed!']);\n",
       "            Plotly.purge(gd);\n",
       "            observer.disconnect();\n",
       "        }}\n",
       "}});\n",
       "\n",
       "// Listen for the removal of the full notebook cells\n",
       "var notebookContainer = gd.closest('#notebook-container');\n",
       "if (notebookContainer) {{\n",
       "    x.observe(notebookContainer, {childList: true});\n",
       "}}\n",
       "\n",
       "// Listen for the clearing of the current output cell\n",
       "var outputEl = gd.closest('.output');\n",
       "if (outputEl) {{\n",
       "    x.observe(outputEl, {childList: true});\n",
       "}}\n",
       "\n",
       "                        })                };                });            </script>        </div>"
      ]
     },
     "metadata": {},
     "output_type": "display_data"
    }
   ],
   "source": [
    "# Transformations can be used to alter the shape of a empirical distribution.  Sometimes \n",
    "# symmetry of observations are important for the application of asymptotics to statistical\n",
    "# statistical models - particularly parametric models. \n",
    "#\n",
    "# Plot of log transform \n",
    "# See here for ploty examples - https://plotly.com/python/\n",
    "import plotly.express as px \n",
    "fig = px.histogram(df, x=np.log(df.x), \n",
    "                   histnorm='probability density') \n",
    "fig.show()"
   ]
  }
 ],
 "metadata": {
  "kernelspec": {
   "display_name": "Python 3",
   "language": "python",
   "name": "python3"
  },
  "language_info": {
   "codemirror_mode": {
    "name": "ipython",
    "version": 3
   },
   "file_extension": ".py",
   "mimetype": "text/x-python",
   "name": "python",
   "nbconvert_exporter": "python",
   "pygments_lexer": "ipython3",
   "version": "3.6.12"
  }
 },
 "nbformat": 4,
 "nbformat_minor": 4
}
