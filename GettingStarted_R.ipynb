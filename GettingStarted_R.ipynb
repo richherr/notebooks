{
 "cells": [
  {
   "cell_type": "code",
   "execution_count": null,
   "metadata": {},
   "outputs": [],
   "source": [
    "x<-3\n",
    "x"
   ]
  },
  {
   "cell_type": "code",
   "execution_count": null,
   "metadata": {},
   "outputs": [],
   "source": [
    "3->x"
   ]
  },
  {
   "cell_type": "code",
   "execution_count": null,
   "metadata": {},
   "outputs": [],
   "source": [
    "x=4"
   ]
  },
  {
   "cell_type": "code",
   "execution_count": null,
   "metadata": {},
   "outputs": [],
   "source": [
    "x<-c(rnorm(30))\n",
    "print(x)\n",
    "y<-c(3,5,2,4)\n",
    "data.frame(y)"
   ]
  },
  {
   "cell_type": "code",
   "execution_count": null,
   "metadata": {},
   "outputs": [],
   "source": [
    "x_mat<-matrix(rnorm(100), ncol=10, nrow=10, byrow=TRUE)\n",
    "x_mat"
   ]
  },
  {
   "cell_type": "code",
   "execution_count": null,
   "metadata": {},
   "outputs": [],
   "source": [
    "# http://maxmelnick.com/2016/04/19/python-beginner-tips-and-tricks.html\n",
    "x[seq(1, 10, by=2)]\n",
    "x[1:10]\n",
    "\n",
    "x_mat\n",
    "x_chr_mat<-matrix(c(\"rich\", \"rich2\", \"rich3\", \"rich4\"), ncol=2)\n",
    "x_mat[1:2, 1:2]\n",
    "x_chr_mat"
   ]
  },
  {
   "cell_type": "code",
   "execution_count": null,
   "metadata": {},
   "outputs": [],
   "source": [
    "x_mat"
   ]
  },
  {
   "cell_type": "code",
   "execution_count": null,
   "metadata": {},
   "outputs": [],
   "source": [
    "x_df<-data.frame(x_mat)\n",
    "x_df\n",
    "x_df[1:2, 1:4]"
   ]
  },
  {
   "cell_type": "code",
   "execution_count": null,
   "metadata": {},
   "outputs": [],
   "source": [
    "\n",
    "x_df[, 1]\n",
    "x_df[, 2]\n",
    "x_df$X1\n",
    "x_df$X2\n",
    "rownames(x_df)<-c(\"a\", \"b\", \"c\", \"d\", \"e\", \"f\",\"g\", \"h\",\"i\",\"j\")\n",
    "rownames(x_df)\n",
    "colnames(x_df)<-c(\"var1\", \"var2\", \"var3\", \"var4\", \"var5\", \"var6\", \"var7\", \"var8\", \"var9\", \"var10\")\n",
    "colnames(x_df)\n",
    "# x_df<-data.frame(x_mat)"
   ]
  },
  {
   "cell_type": "code",
   "execution_count": null,
   "metadata": {},
   "outputs": [],
   "source": [
    "x_df$var1>0"
   ]
  },
  {
   "cell_type": "code",
   "execution_count": null,
   "metadata": {},
   "outputs": [],
   "source": [
    "#  <, >, ==, ! (negate boolean), && (ampersand is AND), || (two-pipes is OR)  \n",
    "x_df[x_df$var1>0, ]\n",
    "x_df[!x_df$var1>0, ]"
   ]
  },
  {
   "cell_type": "code",
   "execution_count": null,
   "metadata": {},
   "outputs": [],
   "source": [
    "dim(x_df)"
   ]
  },
  {
   "cell_type": "code",
   "execution_count": null,
   "metadata": {},
   "outputs": [],
   "source": [
    "sub_row_index<-sample(1:nrow(x_df), 10, replace=TRUE)\n",
    "x_df[sub_row_index, ]"
   ]
  },
  {
   "cell_type": "code",
   "execution_count": 212,
   "metadata": {},
   "outputs": [
    {
     "data": {
      "text/plain": [
       "\n",
       "Call:\n",
       "lm(formula = var1 ~ ., data = x_df)\n",
       "\n",
       "Residuals:\n",
       "ALL 10 residuals are 0: no residual degrees of freedom!\n",
       "\n",
       "Coefficients:\n",
       "            Estimate Std. Error t value Pr(>|t|)\n",
       "(Intercept)  0.05456         NA      NA       NA\n",
       "var2        -0.14774         NA      NA       NA\n",
       "var3         0.07723         NA      NA       NA\n",
       "var4        -0.18304         NA      NA       NA\n",
       "var5         0.52600         NA      NA       NA\n",
       "var6        -0.32386         NA      NA       NA\n",
       "var7         0.49406         NA      NA       NA\n",
       "var8        -0.56801         NA      NA       NA\n",
       "var9         0.37399         NA      NA       NA\n",
       "var10        0.30558         NA      NA       NA\n",
       "\n",
       "Residual standard error: NaN on 0 degrees of freedom\n",
       "Multiple R-squared:      1,\tAdjusted R-squared:    NaN \n",
       "F-statistic:   NaN on 9 and 0 DF,  p-value: NA\n"
      ]
     },
     "metadata": {},
     "output_type": "display_data"
    }
   ],
   "source": [
    "lm_fit<-lm(var1 ~ ., x_df)\n",
    "summary(lm_fit)\n",
    "\n"
   ]
  },
  {
   "cell_type": "code",
   "execution_count": null,
   "metadata": {},
   "outputs": [],
   "source": [
    "names(lm_fit)\n",
    "lm_fit$coefficients\n",
    "lm_fit$residuals"
   ]
  },
  {
   "cell_type": "code",
   "execution_count": null,
   "metadata": {},
   "outputs": [],
   "source": [
    "paste(sample(names(data)[-1], ncol(x_df)-1, replace=FALSE), collapse=\"+\")\n",
    "paste(\"~\")"
   ]
  },
  {
   "cell_type": "code",
   "execution_count": 239,
   "metadata": {},
   "outputs": [],
   "source": [
    "data<-x_df\n",
    "col_index=1\n",
    "lm_function<-function(data, i, col_index){\n",
    "   col_index=1\n",
    "   data<-data[i, ]\n",
    "   lm_fit_coefs<-lm(as.formula(paste(names(data)[col_index],\"~\",\n",
    "                                   paste(sample(names(data)[-1], \n",
    "                                                ncol(x_df)-1, replace=FALSE), collapse=\"+\"))), \n",
    "                   data)$coefficients\n",
    "  return(lm_fit_coefs)\n",
    "}"
   ]
  },
  {
   "cell_type": "code",
   "execution_count": null,
   "metadata": {},
   "outputs": [],
   "source": [
    "col_index<-1\n",
    "boot_samps<-1000\n",
    "coef_mat_accum<-matrix(NA, ncol=ncol(x_df), nrow=boot_samps)\n",
    "coef_out<-lm_function(data=x_df, col_index=1)\n",
    "colnames(coef_mat_accum)<-names(coef_out)[order(names(coef_out))]\n",
    "\n",
    "for(i in 1:boot_samps){\n",
    "    print(i)\n",
    "    boot_index<-sample(1:nrow(x_df), 10, replace=TRUE)\n",
    "    x_df_rep<-x_df[boot_index, ]\n",
    "    coef_out<-lm_function(data=x_df_rep, col_index=col_index)\n",
    "    coef_out<-coef_out[order(names(coef_out))]\n",
    "    coef_mat_accum[i, ] <- coef_out \n",
    "    print(coef_mat_accum[i,1])\n",
    "    }"
   ]
  },
  {
   "cell_type": "code",
   "execution_count": 210,
   "metadata": {},
   "outputs": [],
   "source": [
    "# coef_mat_accum[, 2]\n",
    "# summary(coef_mat_accum)"
   ]
  },
  {
   "cell_type": "code",
   "execution_count": 218,
   "metadata": {},
   "outputs": [
    {
     "data": {
      "text/html": [
       "<table>\n",
       "<caption>A matrix: 2 × 10 of type dbl</caption>\n",
       "<thead>\n",
       "\t<tr><th></th><th scope=col>(Intercept)</th><th scope=col>var10</th><th scope=col>var2</th><th scope=col>var3</th><th scope=col>var4</th><th scope=col>var5</th><th scope=col>var6</th><th scope=col>var7</th><th scope=col>var8</th><th scope=col>var9</th></tr>\n",
       "</thead>\n",
       "<tbody>\n",
       "\t<tr><th scope=row>2.5%</th><td>-8.635987</td><td>-8.363476</td><td>-9.790636</td><td>-15.642663</td><td>-9.921300</td><td>-7.419532</td><td>-13.39781</td><td>-9.785742</td><td>-9.909329</td><td>-12.517673</td></tr>\n",
       "\t<tr><th scope=row>97.5%</th><td> 9.136822</td><td> 6.606413</td><td> 9.406289</td><td>  7.981913</td><td> 7.131954</td><td> 6.623210</td><td> 11.64404</td><td> 9.547550</td><td> 5.981706</td><td>  8.183999</td></tr>\n",
       "</tbody>\n",
       "</table>\n"
      ],
      "text/latex": [
       "A matrix: 2 × 10 of type dbl\n",
       "\\begin{tabular}{r|llllllllll}\n",
       "  & (Intercept) & var10 & var2 & var3 & var4 & var5 & var6 & var7 & var8 & var9\\\\\n",
       "\\hline\n",
       "\t2.5\\% & -8.635987 & -8.363476 & -9.790636 & -15.642663 & -9.921300 & -7.419532 & -13.39781 & -9.785742 & -9.909329 & -12.517673\\\\\n",
       "\t97.5\\% &  9.136822 &  6.606413 &  9.406289 &   7.981913 &  7.131954 &  6.623210 &  11.64404 &  9.547550 &  5.981706 &   8.183999\\\\\n",
       "\\end{tabular}\n"
      ],
      "text/markdown": [
       "\n",
       "A matrix: 2 × 10 of type dbl\n",
       "\n",
       "| <!--/--> | (Intercept) | var10 | var2 | var3 | var4 | var5 | var6 | var7 | var8 | var9 |\n",
       "|---|---|---|---|---|---|---|---|---|---|---|\n",
       "| 2.5% | -8.635987 | -8.363476 | -9.790636 | -15.642663 | -9.921300 | -7.419532 | -13.39781 | -9.785742 | -9.909329 | -12.517673 |\n",
       "| 97.5% |  9.136822 |  6.606413 |  9.406289 |   7.981913 |  7.131954 |  6.623210 |  11.64404 |  9.547550 |  5.981706 |   8.183999 |\n",
       "\n"
      ],
      "text/plain": [
       "      (Intercept) var10     var2      var3       var4      var5      var6     \n",
       "2.5%  -8.635987   -8.363476 -9.790636 -15.642663 -9.921300 -7.419532 -13.39781\n",
       "97.5%  9.136822    6.606413  9.406289   7.981913  7.131954  6.623210  11.64404\n",
       "      var7      var8      var9      \n",
       "2.5%  -9.785742 -9.909329 -12.517673\n",
       "97.5%  9.547550  5.981706   8.183999"
      ]
     },
     "metadata": {},
     "output_type": "display_data"
    }
   ],
   "source": [
    "apply(coef_mat_accum, 2, quantile, probs=c(.025, .975), na.rm=TRUE)"
   ]
  },
  {
   "cell_type": "code",
   "execution_count": 244,
   "metadata": {},
   "outputs": [
    {
     "name": "stdout",
     "output_type": "stream",
     "text": [
      "                   \r"
     ]
    },
    {
     "data": {
      "text/html": [
       "<table>\n",
       "<caption>A matrix: 2 × 10 of type dbl</caption>\n",
       "<thead>\n",
       "\t<tr><th></th><th scope=col>(Intercept)</th><th scope=col>var10</th><th scope=col>var2</th><th scope=col>var3</th><th scope=col>var4</th><th scope=col>var5</th><th scope=col>var6</th><th scope=col>var7</th><th scope=col>var8</th><th scope=col>var9</th></tr>\n",
       "</thead>\n",
       "<tbody>\n",
       "\t<tr><th scope=row>2.5%</th><td>-8.635987</td><td>-8.532082</td><td>-9.968047</td><td>-16.493100</td><td>-9.966714</td><td>-7.689085</td><td>-13.56618</td><td>-10.122854</td><td>-9.909329</td><td>-12.55113</td></tr>\n",
       "\t<tr><th scope=row>97.5%</th><td> 9.686195</td><td> 6.761540</td><td> 9.727810</td><td>  8.119091</td><td> 7.324377</td><td> 8.815272</td><td> 11.79038</td><td>  9.708649</td><td> 7.458377</td><td>  8.48600</td></tr>\n",
       "</tbody>\n",
       "</table>\n"
      ],
      "text/latex": [
       "A matrix: 2 × 10 of type dbl\n",
       "\\begin{tabular}{r|llllllllll}\n",
       "  & (Intercept) & var10 & var2 & var3 & var4 & var5 & var6 & var7 & var8 & var9\\\\\n",
       "\\hline\n",
       "\t2.5\\% & -8.635987 & -8.532082 & -9.968047 & -16.493100 & -9.966714 & -7.689085 & -13.56618 & -10.122854 & -9.909329 & -12.55113\\\\\n",
       "\t97.5\\% &  9.686195 &  6.761540 &  9.727810 &   8.119091 &  7.324377 &  8.815272 &  11.79038 &   9.708649 &  7.458377 &   8.48600\\\\\n",
       "\\end{tabular}\n"
      ],
      "text/markdown": [
       "\n",
       "A matrix: 2 × 10 of type dbl\n",
       "\n",
       "| <!--/--> | (Intercept) | var10 | var2 | var3 | var4 | var5 | var6 | var7 | var8 | var9 |\n",
       "|---|---|---|---|---|---|---|---|---|---|---|\n",
       "| 2.5% | -8.635987 | -8.532082 | -9.968047 | -16.493100 | -9.966714 | -7.689085 | -13.56618 | -10.122854 | -9.909329 | -12.55113 |\n",
       "| 97.5% |  9.686195 |  6.761540 |  9.727810 |   8.119091 |  7.324377 |  8.815272 |  11.79038 |   9.708649 |  7.458377 |   8.48600 |\n",
       "\n"
      ],
      "text/plain": [
       "      (Intercept) var10     var2      var3       var4      var5      var6     \n",
       "2.5%  -8.635987   -8.532082 -9.968047 -16.493100 -9.966714 -7.689085 -13.56618\n",
       "97.5%  9.686195    6.761540  9.727810   8.119091  7.324377  8.815272  11.79038\n",
       "      var7       var8      var9     \n",
       "2.5%  -10.122854 -9.909329 -12.55113\n",
       "97.5%   9.708649  7.458377   8.48600"
      ]
     },
     "metadata": {},
     "output_type": "display_data"
    },
    {
     "data": {
      "text/html": [
       "0.303957287995587"
      ],
      "text/latex": [
       "0.303957287995587"
      ],
      "text/markdown": [
       "0.303957287995587"
      ],
      "text/plain": [
       "[1] 0.3039573"
      ]
     },
     "metadata": {},
     "output_type": "display_data"
    }
   ],
   "source": [
    "#             Estimate Std. Error t value Pr(>|t|)\n",
    "# (Intercept)  0.05456         NA      NA       NA\n",
    "# var2        -0.14774         NA      NA       NA\n",
    "# var3         0.07723         NA      NA       NA\n",
    "# var4        -0.18304         NA      NA       NA\n",
    "# var5         0.52600         NA      NA       NA\n",
    "# var6        -0.32386         NA      NA       NA\n",
    "# var7         0.49406         NA      NA       NA\n",
    "# var8        -0.56801         NA      NA       NA\n",
    "# var9         0.37399         NA      NA       NA\n",
    "# var10        0.30558         NA      NA       NA\n",
    "library(np)\n",
    "apply(coef_mat_accum, 2, npquantile, tau=c(.025, .975), na.rm=TRUE)\n",
    "# apply(coef_mat_accum, 2, mean, na.rm=TRUE)\n",
    "sum(abs(apply(coef_mat_accum, 2, median, na.rm=TRUE)))/10"
   ]
  },
  {
   "cell_type": "code",
   "execution_count": 246,
   "metadata": {},
   "outputs": [
    {
     "data": {
      "text/html": [
       "<dl class=dl-horizontal>\n",
       "\t<dt>(Intercept)</dt>\n",
       "\t\t<dd>46.6373946946074</dd>\n",
       "\t<dt>var10</dt>\n",
       "\t\t<dd>5.83481562789304</dd>\n",
       "\t<dt>var2</dt>\n",
       "\t\t<dd>30.5119755947123</dd>\n",
       "\t<dt>var3</dt>\n",
       "\t\t<dd>8.34649020676195</dd>\n",
       "\t<dt>var4</dt>\n",
       "\t\t<dd>53.2475068590916</dd>\n",
       "\t<dt>var5</dt>\n",
       "\t\t<dd>22.3026365990775</dd>\n",
       "\t<dt>var6</dt>\n",
       "\t\t<dd>16.1619761964018</dd>\n",
       "\t<dt>var7</dt>\n",
       "\t\t<dd>12.0691798424447</dd>\n",
       "\t<dt>var8</dt>\n",
       "\t\t<dd>77.6920965387599</dd>\n",
       "\t<dt>var9</dt>\n",
       "\t\t<dd>44.1242948531187</dd>\n",
       "</dl>\n"
      ],
      "text/latex": [
       "\\begin{description*}\n",
       "\\item[(Intercept)] 46.6373946946074\n",
       "\\item[var10] 5.83481562789304\n",
       "\\item[var2] 30.5119755947123\n",
       "\\item[var3] 8.34649020676195\n",
       "\\item[var4] 53.2475068590916\n",
       "\\item[var5] 22.3026365990775\n",
       "\\item[var6] 16.1619761964018\n",
       "\\item[var7] 12.0691798424447\n",
       "\\item[var8] 77.6920965387599\n",
       "\\item[var9] 44.1242948531187\n",
       "\\end{description*}\n"
      ],
      "text/markdown": [
       "(Intercept)\n",
       ":   46.6373946946074var10\n",
       ":   5.83481562789304var2\n",
       ":   30.5119755947123var3\n",
       ":   8.34649020676195var4\n",
       ":   53.2475068590916var5\n",
       ":   22.3026365990775var6\n",
       ":   16.1619761964018var7\n",
       ":   12.0691798424447var8\n",
       ":   77.6920965387599var9\n",
       ":   44.1242948531187\n",
       "\n"
      ],
      "text/plain": [
       "(Intercept)       var10        var2        var3        var4        var5 \n",
       "  46.637395    5.834816   30.511976    8.346490   53.247507   22.302637 \n",
       "       var6        var7        var8        var9 \n",
       "  16.161976   12.069180   77.692097   44.124295 "
      ]
     },
     "metadata": {},
     "output_type": "display_data"
    }
   ],
   "source": [
    "apply(coef_mat_accum, 2, sd, na.rm=TRUE)"
   ]
  },
  {
   "cell_type": "code",
   "execution_count": 236,
   "metadata": {},
   "outputs": [
    {
     "data": {
      "text/html": [
       "0.293726099903844"
      ],
      "text/latex": [
       "0.293726099903844"
      ],
      "text/markdown": [
       "0.293726099903844"
      ],
      "text/plain": [
       "[1] 0.2937261"
      ]
     },
     "metadata": {},
     "output_type": "display_data"
    }
   ],
   "source": [
    "sum(abs(apply(coef_mat_accum, 2, mean, na.rm=TRUE, tr=.10)))/10\n",
    "#             Estimate Std. Error t value Pr(>|t|)\n",
    "# (Intercept)  0.05456         NA      NA       NA\n",
    "# var2        -0.14774         NA      NA       NA\n",
    "# var3         0.07723         NA      NA       NA\n",
    "# var4        -0.18304         NA      NA       NA\n",
    "# var5         0.52600         NA      NA       NA\n",
    "# var6        -0.32386         NA      NA       NA\n",
    "# var7         0.49406         NA      NA       NA\n",
    "# var8        -0.56801         NA      NA       NA\n",
    "# var9         0.37399         NA      NA       NA\n",
    "# var10        0.30558         NA      NA       NA"
   ]
  },
  {
   "cell_type": "code",
   "execution_count": 235,
   "metadata": {},
   "outputs": [
    {
     "data": {
      "text/html": [
       "0.91013007060479"
      ],
      "text/latex": [
       "0.91013007060479"
      ],
      "text/markdown": [
       "0.91013007060479"
      ],
      "text/plain": [
       "[1] 0.9101301"
      ]
     },
     "metadata": {},
     "output_type": "display_data"
    }
   ],
   "source": [
    "sum(abs(apply(coef_mat_accum, 2, mean, na.rm=TRUE)))/10"
   ]
  },
  {
   "cell_type": "code",
   "execution_count": 207,
   "metadata": {},
   "outputs": [],
   "source": [
    "library(ggplot2)"
   ]
  },
  {
   "cell_type": "code",
   "execution_count": 274,
   "metadata": {},
   "outputs": [],
   "source": [
    "library(boot)\n",
    "colnames(x_df)<-names(coef_out)[order(names(coef_out))]\n",
    "colnames(x_df)[1]<-\"var1\"\n",
    "boot.fit<-boot(x_df, lm_function, R=1000)"
   ]
  },
  {
   "cell_type": "code",
   "execution_count": 261,
   "metadata": {},
   "outputs": [
    {
     "data": {
      "text/plain": [
       "\n",
       "ORDINARY NONPARAMETRIC BOOTSTRAP\n",
       "\n",
       "\n",
       "Call:\n",
       "boot(data = x_df, statistic = lm_function, R = 1000)\n",
       "\n",
       "\n",
       "Bootstrap Statistics :\n",
       "       original     bias    std. error\n",
       "t1*  0.05455883 -0.3377870   38.870288\n",
       "t2* -0.32386327 -1.5152767   52.750595\n",
       "t3*  0.52600103 -0.8666860   27.513747\n",
       "t4* -0.14773894  0.6826516   22.876283\n",
       "t5*  0.30558341  1.1939137   24.403811\n",
       "t6*  0.07723468  0.1519875   15.487021\n",
       "t7*  0.37399186  1.6918271   30.381167\n",
       "t8* -0.56801138 -0.4572008    5.067553\n",
       "t9*  0.49406399  3.0677656   11.881779\n",
       "WARNING: All values of t10* are NA"
      ]
     },
     "metadata": {},
     "output_type": "display_data"
    }
   ],
   "source": [
    "boot.fit"
   ]
  },
  {
   "cell_type": "code",
   "execution_count": 262,
   "metadata": {},
   "outputs": [
    {
     "data": {
      "text/html": [
       "<ol class=list-inline>\n",
       "\t<li>38.8702879337528</li>\n",
       "\t<li>52.7505949805183</li>\n",
       "\t<li>27.5137470863261</li>\n",
       "\t<li>22.8762827965813</li>\n",
       "\t<li>24.403810690272</li>\n",
       "\t<li>15.4870208730067</li>\n",
       "\t<li>30.3811666535247</li>\n",
       "\t<li>5.06755288108665</li>\n",
       "\t<li>11.881779360541</li>\n",
       "\t<li>&lt;NA&gt;</li>\n",
       "</ol>\n"
      ],
      "text/latex": [
       "\\begin{enumerate*}\n",
       "\\item 38.8702879337528\n",
       "\\item 52.7505949805183\n",
       "\\item 27.5137470863261\n",
       "\\item 22.8762827965813\n",
       "\\item 24.403810690272\n",
       "\\item 15.4870208730067\n",
       "\\item 30.3811666535247\n",
       "\\item 5.06755288108665\n",
       "\\item 11.881779360541\n",
       "\\item <NA>\n",
       "\\end{enumerate*}\n"
      ],
      "text/markdown": [
       "1. 38.8702879337528\n",
       "2. 52.7505949805183\n",
       "3. 27.5137470863261\n",
       "4. 22.8762827965813\n",
       "5. 24.403810690272\n",
       "6. 15.4870208730067\n",
       "7. 30.3811666535247\n",
       "8. 5.06755288108665\n",
       "9. 11.881779360541\n",
       "10. &lt;NA&gt;\n",
       "\n",
       "\n"
      ],
      "text/plain": [
       " [1] 38.870288 52.750595 27.513747 22.876283 24.403811 15.487021 30.381167\n",
       " [8]  5.067553 11.881779        NA"
      ]
     },
     "metadata": {},
     "output_type": "display_data"
    }
   ],
   "source": [
    "apply(boot.fit$t, 2, sd, na.rm=TRUE)"
   ]
  },
  {
   "cell_type": "code",
   "execution_count": 273,
   "metadata": {},
   "outputs": [
    {
     "data": {
      "text/plain": [
       "BOOTSTRAP CONFIDENCE INTERVAL CALCULATIONS\n",
       "Based on 1000 bootstrap replicates\n",
       "\n",
       "CALL : \n",
       "boot.ci(boot.out = boot.fit, type = \"perc\", t0 = boot.fit$t0[2], \n",
       "    t = boot.fit$t[, 2])\n",
       "\n",
       "Intervals : \n",
       "Level     Percentile     \n",
       "95%   (-11.2945,   9.4537 )  \n",
       "Calculations and Intervals on Original Scale"
      ]
     },
     "metadata": {},
     "output_type": "display_data"
    }
   ],
   "source": [
    "boot.ci(boot.fit,  t0 = boot.fit$t0[2], t = boot.fit$t[,2], type=\"perc\")"
   ]
  }
 ],
 "metadata": {
  "kernelspec": {
   "display_name": "R",
   "language": "R",
   "name": "ir"
  },
  "language_info": {
   "codemirror_mode": "r",
   "file_extension": ".r",
   "mimetype": "text/x-r-source",
   "name": "R",
   "pygments_lexer": "r",
   "version": "3.6.2"
  }
 },
 "nbformat": 4,
 "nbformat_minor": 4
}
