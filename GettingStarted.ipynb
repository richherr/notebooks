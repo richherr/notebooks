{
  "nbformat": 4,
  "nbformat_minor": 0,
  "metadata": {
    "colab": {
      "name": "GettingStarted.ipynb",
      "provenance": [],
      "collapsed_sections": [],
      "mount_file_id": "1pzoir1Cvi8l_MNUbQY9oiAxl9R605qNM",
      "authorship_tag": "ABX9TyM3iNrQrqSQ2R11L7/6O0zb",
      "include_colab_link": true
    },
    "kernelspec": {
      "name": "python3",
      "display_name": "Python 3"
    }
  },
  "cells": [
    {
      "cell_type": "markdown",
      "metadata": {
        "id": "view-in-github",
        "colab_type": "text"
      },
      "source": [
        "<a href=\"https://colab.research.google.com/github/richherr/datascience/blob/master/GettingStarted.ipynb\" target=\"_parent\"><img src=\"https://colab.research.google.com/assets/colab-badge.svg\" alt=\"Open In Colab\"/></a>"
      ]
    },
    {
      "cell_type": "code",
      "metadata": {
        "id": "XUqP5GXP1F71",
        "colab_type": "code",
        "outputId": "1b6488fb-dae5-40cf-8e8a-4bd99c51b7df",
        "colab": {
          "base_uri": "https://localhost:8080/",
          "height": 34
        }
      },
      "source": [
        "# Everything in Python (as in R) is an object:  booleans, integers, floats, strings, functions, programs\n",
        "# Think of an object as a container or box  \n",
        "# Scalar assignment to the variable x  \n",
        "# Can't assign names beginning with numbers;  Beginning with \"_\" has special usage \n",
        "# The following are reserved words and connot be used: \n",
        "#    False,\tclass, finally,\tis,\treturn, None,\tcontinue,\tfor,\tlambda,\ttry, \n",
        "#    True,\tdef,\tfrom,\tnonlocal,\twhile, and,\tdel,\tglobal,\tnot,\twith, as,\n",
        "#    elif, if,\tor,\tyield, assert,\telse,\timport,\tpass, break,\texcept,\tin,\traise \n",
        "x = 2\n",
        "print(x)"
      ],
      "execution_count": 10,
      "outputs": [
        {
          "output_type": "stream",
          "text": [
            "2\n"
          ],
          "name": "stdout"
        }
      ]
    },
    {
      "cell_type": "code",
      "metadata": {
        "id": "pkoEgqtz2BNO",
        "colab_type": "code",
        "outputId": "b1e677e5-39ea-4cdc-cf17-9f2ec3e00aca",
        "colab": {
          "base_uri": "https://localhost:8080/",
          "height": 34
        }
      },
      "source": [
        "# A \"class\" is a definition for an object;  think of types as class definitions\n",
        "# Type is integer\n",
        "type(x)"
      ],
      "execution_count": 0,
      "outputs": [
        {
          "output_type": "execute_result",
          "data": {
            "text/plain": [
              "int"
            ]
          },
          "metadata": {
            "tags": []
          },
          "execution_count": 3
        }
      ]
    },
    {
      "cell_type": "code",
      "metadata": {
        "id": "IghWkMzT2OXT",
        "colab_type": "code",
        "colab": {}
      },
      "source": [
        "# Type is floating point"
      ],
      "execution_count": 0,
      "outputs": []
    },
    {
      "cell_type": "code",
      "metadata": {
        "id": "9lL5SW21380I",
        "colab_type": "code",
        "colab": {
          "base_uri": "https://localhost:8080/",
          "height": 34
        },
        "outputId": "7688659f-d3cb-4a35-f15b-4911fac39006"
      },
      "source": [
        "type(2.2)"
      ],
      "execution_count": 2,
      "outputs": [
        {
          "output_type": "execute_result",
          "data": {
            "text/plain": [
              "float"
            ]
          },
          "metadata": {
            "tags": []
          },
          "execution_count": 2
        }
      ]
    },
    {
      "cell_type": "code",
      "metadata": {
        "id": "blIJ2Kkk3-td",
        "colab_type": "code",
        "colab": {
          "base_uri": "https://localhost:8080/",
          "height": 34
        },
        "outputId": "10d1ae00-8a9c-48e1-a015-3fc52fb14512"
      },
      "source": [
        "# Type is string\n",
        "type(\"rich\")"
      ],
      "execution_count": 7,
      "outputs": [
        {
          "output_type": "execute_result",
          "data": {
            "text/plain": [
              "str"
            ]
          },
          "metadata": {
            "tags": []
          },
          "execution_count": 7
        }
      ]
    },
    {
      "cell_type": "code",
      "metadata": {
        "id": "1IHO8Gz94PNa",
        "colab_type": "code",
        "colab": {
          "base_uri": "https://localhost:8080/",
          "height": 137
        },
        "outputId": "9da00660-5389-4f61-e32b-310adfa4b1b6"
      },
      "source": [
        "#  Addition;  Subtraction; Multiplication; floating point division; integer division; \n",
        "#  modulus (remainder); eponentiation\n",
        "# Don't need spaces but does make for better readability\n",
        "print(5 + 3)\n",
        "print(5 - 3)\n",
        "print(5 * 3)\n",
        "print(5/3)\n",
        "print(5//3) \n",
        "print(5%3)\n",
        "print(5**3)"
      ],
      "execution_count": 14,
      "outputs": [
        {
          "output_type": "stream",
          "text": [
            "8\n",
            "2\n",
            "15\n",
            "1.6666666666666667\n",
            "1\n",
            "2\n",
            "125\n"
          ],
          "name": "stdout"
        }
      ]
    },
    {
      "cell_type": "code",
      "metadata": {
        "id": "vd55Acb2-6yS",
        "colab_type": "code",
        "colab": {}
      },
      "source": [
        "# All sequences of digits are assumed to be integer \n",
        "# Place negative in front of digit to define negative number\n",
        "# Dividing by 0 causes error"
      ],
      "execution_count": 0,
      "outputs": []
    },
    {
      "cell_type": "code",
      "metadata": {
        "id": "rIibzakU-nJ0",
        "colab_type": "code",
        "colab": {
          "base_uri": "https://localhost:8080/",
          "height": 233
        },
        "outputId": "037c9cd4-8fc4-4020-b3e6-3e2d5b31671b"
      },
      "source": [
        "print(5)\n",
        "print(-3.2)\n",
        "print(5/0)"
      ],
      "execution_count": 17,
      "outputs": [
        {
          "output_type": "stream",
          "text": [
            "5\n",
            "-3.2\n"
          ],
          "name": "stdout"
        },
        {
          "output_type": "error",
          "ename": "ZeroDivisionError",
          "evalue": "ignored",
          "traceback": [
            "\u001b[0;31m---------------------------------------------------------------------------\u001b[0m",
            "\u001b[0;31mZeroDivisionError\u001b[0m                         Traceback (most recent call last)",
            "\u001b[0;32m<ipython-input-17-fc7928a9c2b7>\u001b[0m in \u001b[0;36m<module>\u001b[0;34m()\u001b[0m\n\u001b[1;32m      1\u001b[0m \u001b[0mprint\u001b[0m\u001b[0;34m(\u001b[0m\u001b[0;36m5\u001b[0m\u001b[0;34m)\u001b[0m\u001b[0;34m\u001b[0m\u001b[0;34m\u001b[0m\u001b[0m\n\u001b[1;32m      2\u001b[0m \u001b[0mprint\u001b[0m\u001b[0;34m(\u001b[0m\u001b[0;34m-\u001b[0m\u001b[0;36m3.2\u001b[0m\u001b[0;34m)\u001b[0m\u001b[0;34m\u001b[0m\u001b[0;34m\u001b[0m\u001b[0m\n\u001b[0;32m----> 3\u001b[0;31m \u001b[0mprint\u001b[0m\u001b[0;34m(\u001b[0m\u001b[0;36m5\u001b[0m\u001b[0;34m/\u001b[0m\u001b[0;36m0\u001b[0m\u001b[0;34m)\u001b[0m\u001b[0;34m\u001b[0m\u001b[0;34m\u001b[0m\u001b[0m\n\u001b[0m",
            "\u001b[0;31mZeroDivisionError\u001b[0m: division by zero"
          ]
        }
      ]
    },
    {
      "cell_type": "code",
      "metadata": {
        "id": "8OugL_8H_gLr",
        "colab_type": "code",
        "colab": {
          "base_uri": "https://localhost:8080/",
          "height": 34
        },
        "outputId": "7d9ed513-9749-4fec-f857-c320898ba12a"
      },
      "source": [
        "# Changing value of a variable\n",
        "x = 2\n",
        "x = x - 1\n",
        "print(x)"
      ],
      "execution_count": 20,
      "outputs": [
        {
          "output_type": "stream",
          "text": [
            "1\n"
          ],
          "name": "stdout"
        }
      ]
    },
    {
      "cell_type": "code",
      "metadata": {
        "id": "-XbswLJ1_4wD",
        "colab_type": "code",
        "colab": {}
      },
      "source": [
        "# Can assign prior assigned variable to new variable"
      ],
      "execution_count": 0,
      "outputs": []
    },
    {
      "cell_type": "code",
      "metadata": {
        "id": "-QP50dYM_1v0",
        "colab_type": "code",
        "colab": {
          "base_uri": "https://localhost:8080/",
          "height": 34
        },
        "outputId": "ff79669e-b410-4d85-e247-420f05b913a0"
      },
      "source": [
        "y = x\n",
        "print(y)"
      ],
      "execution_count": 21,
      "outputs": [
        {
          "output_type": "stream",
          "text": [
            "1\n"
          ],
          "name": "stdout"
        }
      ]
    },
    {
      "cell_type": "code",
      "metadata": {
        "id": "wenPA2qDAElM",
        "colab_type": "code",
        "colab": {}
      },
      "source": [
        "Can combine arithmetic operators and assignment"
      ],
      "execution_count": 0,
      "outputs": []
    },
    {
      "cell_type": "code",
      "metadata": {
        "id": "y6-_e4D2_0VV",
        "colab_type": "code",
        "colab": {
          "base_uri": "https://localhost:8080/",
          "height": 68
        },
        "outputId": "44a19952-309a-44cc-8d24-8607cdf1cd17"
      },
      "source": [
        "x = 2\n",
        "x -= 1\n",
        "print(x)\n",
        "x = 2 \n",
        "x += 1\n",
        "print(x)\n",
        "x = 2\n",
        "x /= 2\n",
        "print(x)"
      ],
      "execution_count": 25,
      "outputs": [
        {
          "output_type": "stream",
          "text": [
            "1\n",
            "3\n",
            "1.0\n"
          ],
          "name": "stdout"
        }
      ]
    },
    {
      "cell_type": "markdown",
      "metadata": {
        "id": "Uc63XSeJATcT",
        "colab_type": "text"
      },
      "source": [
        ""
      ]
    }
  ]
}