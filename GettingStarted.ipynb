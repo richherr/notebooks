{
 "cells": [
  {
   "cell_type": "markdown",
   "metadata": {
    "colab_type": "text",
    "id": "flv36y65ijEQ"
   },
   "source": [
    "Python - Getting Started\n"
   ]
  },
  {
   "cell_type": "code",
   "execution_count": 1,
   "metadata": {
    "colab": {
     "base_uri": "https://localhost:8080/",
     "height": 34
    },
    "colab_type": "code",
    "id": "XUqP5GXP1F71",
    "outputId": "1f4c3c3d-033d-4547-bc59-b994369b1d07"
   },
   "outputs": [
    {
     "name": "stdout",
     "output_type": "stream",
     "text": [
      "2\n"
     ]
    }
   ],
   "source": [
    "# Everything in Python (as in R) is an object:  booleans, integers, floats, strings, functions, programs\n",
    "# Think of an object as a container or box  \n",
    "# Scalar assignment to the variable x  \n",
    "# Can't assign names beginning with numbers;  Beginning with \"_\" has special usage \n",
    "# The following are reserved words and connot be used: \n",
    "#    False,\tclass, finally,\tis,\treturn, None,\tcontinue,\tfor,\tlambda,\ttry, \n",
    "#    True,\tdef,\tfrom,\tnonlocal,\twhile, and,\tdel,\tglobal,\tnot,\twith, as,\n",
    "#    elif, if,\tor,\tyield, assert,\telse,\timport,\tpass, break,\texcept,\tin,\traise \n",
    "x = 2\n",
    "print(x)"
   ]
  },
  {
   "cell_type": "code",
   "execution_count": 2,
   "metadata": {
    "colab": {
     "base_uri": "https://localhost:8080/",
     "height": 34
    },
    "colab_type": "code",
    "id": "fzwpTFzaif-A",
    "outputId": "1ecee60f-e609-4fe7-8e70-7be462a1ff20"
   },
   "outputs": [
    {
     "data": {
      "text/plain": [
       "int"
      ]
     },
     "execution_count": 2,
     "metadata": {},
     "output_type": "execute_result"
    }
   ],
   "source": [
    "# A \"class\" is a definition for an object;  think of types as class definitions\n",
    "# Type is integer\n",
    "type(x) "
   ]
  },
  {
   "cell_type": "code",
   "execution_count": 3,
   "metadata": {
    "colab": {},
    "colab_type": "code",
    "id": "IghWkMzT2OXT"
   },
   "outputs": [],
   "source": [
    "# Type is floating point"
   ]
  },
  {
   "cell_type": "code",
   "execution_count": 4,
   "metadata": {
    "colab": {
     "base_uri": "https://localhost:8080/",
     "height": 34
    },
    "colab_type": "code",
    "id": "9lL5SW21380I",
    "outputId": "3c2757d0-6937-45b7-83c8-cd39d03ba0b6"
   },
   "outputs": [
    {
     "data": {
      "text/plain": [
       "float"
      ]
     },
     "execution_count": 4,
     "metadata": {},
     "output_type": "execute_result"
    }
   ],
   "source": [
    "type(2.2)"
   ]
  },
  {
   "cell_type": "code",
   "execution_count": 5,
   "metadata": {
    "colab": {
     "base_uri": "https://localhost:8080/",
     "height": 34
    },
    "colab_type": "code",
    "id": "blIJ2Kkk3-td",
    "outputId": "752f6b09-b8d7-470e-a54e-73a6238de4dc"
   },
   "outputs": [
    {
     "data": {
      "text/plain": [
       "str"
      ]
     },
     "execution_count": 5,
     "metadata": {},
     "output_type": "execute_result"
    }
   ],
   "source": [
    "# Type is string\n",
    "type(\"rich\")"
   ]
  },
  {
   "cell_type": "code",
   "execution_count": 6,
   "metadata": {
    "colab": {
     "base_uri": "https://localhost:8080/",
     "height": 137
    },
    "colab_type": "code",
    "id": "1IHO8Gz94PNa",
    "outputId": "9392093c-2ff1-4c42-a93e-13e6a3b96014"
   },
   "outputs": [
    {
     "name": "stdout",
     "output_type": "stream",
     "text": [
      "8\n",
      "2\n",
      "15\n",
      "1.6666666666666667\n",
      "1\n",
      "2\n",
      "125\n"
     ]
    }
   ],
   "source": [
    "#  Addition;  Subtraction; Multiplication; floating point division; integer division; \n",
    "#  modulus (remainder); eponentiation\n",
    "# Don't need spaces but does make for better readability\n",
    "print(5 + 3)\n",
    "print(5 - 3)\n",
    "print(5 * 3)\n",
    "print(5/3)\n",
    "print(5//3) \n",
    "print(5%3)\n",
    "print(5**3)"
   ]
  },
  {
   "cell_type": "code",
   "execution_count": 7,
   "metadata": {
    "colab": {
     "base_uri": "https://localhost:8080/",
     "height": 34
    },
    "colab_type": "code",
    "id": "IY-VvIOhSNgN",
    "outputId": "e7c234a3-dbc7-4ddd-b16b-cfe9568cdf50"
   },
   "outputs": [
    {
     "data": {
      "text/plain": [
       "2"
      ]
     },
     "execution_count": 7,
     "metadata": {},
     "output_type": "execute_result"
    }
   ],
   "source": [
    "# Converting data types using \"str\"\n",
    "int(\"2\")"
   ]
  },
  {
   "cell_type": "code",
   "execution_count": 8,
   "metadata": {
    "colab": {},
    "colab_type": "code",
    "id": "vd55Acb2-6yS"
   },
   "outputs": [],
   "source": [
    "# All sequences of digits are assumed to be integer \n",
    "# Place negative in front of digit to define negative number\n",
    "# Dividing by 0 causes error"
   ]
  },
  {
   "cell_type": "code",
   "execution_count": 9,
   "metadata": {
    "colab": {
     "base_uri": "https://localhost:8080/",
     "height": 233
    },
    "colab_type": "code",
    "id": "rIibzakU-nJ0",
    "outputId": "c35463e7-b87e-4164-c83c-90e7182aae8f"
   },
   "outputs": [
    {
     "name": "stdout",
     "output_type": "stream",
     "text": [
      "5\n",
      "-3.2\n"
     ]
    },
    {
     "ename": "ZeroDivisionError",
     "evalue": "division by zero",
     "output_type": "error",
     "traceback": [
      "\u001b[0;31m---------------------------------------------------------------------------\u001b[0m",
      "\u001b[0;31mZeroDivisionError\u001b[0m                         Traceback (most recent call last)",
      "\u001b[0;32m<ipython-input-9-fc7928a9c2b7>\u001b[0m in \u001b[0;36m<module>\u001b[0;34m\u001b[0m\n\u001b[1;32m      1\u001b[0m \u001b[0mprint\u001b[0m\u001b[0;34m(\u001b[0m\u001b[0;36m5\u001b[0m\u001b[0;34m)\u001b[0m\u001b[0;34m\u001b[0m\u001b[0m\n\u001b[1;32m      2\u001b[0m \u001b[0mprint\u001b[0m\u001b[0;34m(\u001b[0m\u001b[0;34m-\u001b[0m\u001b[0;36m3.2\u001b[0m\u001b[0;34m)\u001b[0m\u001b[0;34m\u001b[0m\u001b[0m\n\u001b[0;32m----> 3\u001b[0;31m \u001b[0mprint\u001b[0m\u001b[0;34m(\u001b[0m\u001b[0;36m5\u001b[0m\u001b[0;34m/\u001b[0m\u001b[0;36m0\u001b[0m\u001b[0;34m)\u001b[0m\u001b[0;34m\u001b[0m\u001b[0m\n\u001b[0m",
      "\u001b[0;31mZeroDivisionError\u001b[0m: division by zero"
     ]
    }
   ],
   "source": [
    "print(5)\n",
    "print(-3.2)\n",
    "print(5/0)"
   ]
  },
  {
   "cell_type": "code",
   "execution_count": null,
   "metadata": {
    "colab": {
     "base_uri": "https://localhost:8080/",
     "height": 34
    },
    "colab_type": "code",
    "id": "8OugL_8H_gLr",
    "outputId": "f062548a-0ff6-44bf-a741-3ba3b9752df9"
   },
   "outputs": [],
   "source": [
    "# Changing value of a variable\n",
    "x = 2\n",
    "x = x - 1\n",
    "print(x)"
   ]
  },
  {
   "cell_type": "code",
   "execution_count": null,
   "metadata": {
    "colab": {},
    "colab_type": "code",
    "id": "-XbswLJ1_4wD"
   },
   "outputs": [],
   "source": [
    "# Can assign prior assigned variable to new variable"
   ]
  },
  {
   "cell_type": "code",
   "execution_count": null,
   "metadata": {
    "colab": {
     "base_uri": "https://localhost:8080/",
     "height": 34
    },
    "colab_type": "code",
    "id": "-QP50dYM_1v0",
    "outputId": "209af862-1aec-4292-9b27-d2b13e9d4f05"
   },
   "outputs": [],
   "source": [
    "y = x\n",
    "print(y)"
   ]
  },
  {
   "cell_type": "code",
   "execution_count": null,
   "metadata": {
    "colab": {
     "base_uri": "https://localhost:8080/",
     "height": 68
    },
    "colab_type": "code",
    "id": "y6-_e4D2_0VV",
    "outputId": "a94faa71-bfc8-494b-e85d-787f0e3f7b07"
   },
   "outputs": [],
   "source": [
    "x = 2\n",
    "x -= 1\n",
    "print(x)\n",
    "x = 2 \n",
    "x += 1\n",
    "print(x)\n",
    "x = 2\n",
    "x //= 2\n",
    "print(x)"
   ]
  },
  {
   "cell_type": "code",
   "execution_count": null,
   "metadata": {
    "colab": {
     "base_uri": "https://localhost:8080/",
     "height": 86
    },
    "colab_type": "code",
    "id": "Qp2vvxeSOO7x",
    "outputId": "1fd006a9-98c6-46e8-9858-5fe9a98f964c"
   },
   "outputs": [],
   "source": [
    "# Bases\n",
    "print(10) # base 10\n",
    "print(0b10) # base 2\n",
    "print(0o10) # base 8\n",
    "print(0x10) # base 16"
   ]
  },
  {
   "cell_type": "code",
   "execution_count": null,
   "metadata": {
    "colab": {},
    "colab_type": "code",
    "id": "LmFAMpRmO64c"
   },
   "outputs": [],
   "source": [
    "# Type conversions"
   ]
  },
  {
   "cell_type": "code",
   "execution_count": null,
   "metadata": {
    "colab": {
     "base_uri": "https://localhost:8080/",
     "height": 250
    },
    "colab_type": "code",
    "id": "wyUMv4uXO3ot",
    "outputId": "d1f56eee-d088-4a47-bffd-a384df8e5ee5"
   },
   "outputs": [],
   "source": [
    "print(int(True))\n",
    "print(int(False))\n",
    "print(int(5.5))\n",
    "print(int('what?'))"
   ]
  },
  {
   "cell_type": "code",
   "execution_count": null,
   "metadata": {
    "colab": {
     "base_uri": "https://localhost:8080/",
     "height": 34
    },
    "colab_type": "code",
    "id": "MnbhVTfLPTv5",
    "outputId": "88dacd1c-5d2d-4090-bb1d-6c292f41ec02"
   },
   "outputs": [],
   "source": [
    "# Python handles really large integer values by default unlike R\n",
    "# see:  https://www.r-bloggers.com/r-in-a-64-bit-world/\n",
    "# R gives incorrect value 10000000000000000159028911097599180468360808563945281389781327557747838772170381060813469985856815104\n",
    "# To be fair, other languages have this difficulty\n",
    "# Give python a point on it's scorecard\n",
    "googol = 10**100\n",
    "print(googol) "
   ]
  },
  {
   "cell_type": "code",
   "execution_count": null,
   "metadata": {
    "colab": {
     "base_uri": "https://localhost:8080/",
     "height": 34
    },
    "colab_type": "code",
    "id": "w4fiWweGRTXg",
    "outputId": "68d270ff-0eb4-4911-8002-0fa0e724c2f9"
   },
   "outputs": [],
   "source": [
    "# Can duplicate with \"*\" (R has \"rep\" function) - e.g.  paste(rep(\"hey\",3), collapse=\"\")\n",
    "'hey' *3  "
   ]
  },
  {
   "cell_type": "code",
   "execution_count": null,
   "metadata": {
    "colab": {
     "base_uri": "https://localhost:8080/",
     "height": 51
    },
    "colab_type": "code",
    "id": "8Vl8EJ3WSlO8",
    "outputId": "a084350e-2155-440c-b71b-defef4b81d36"
   },
   "outputs": [],
   "source": [
    "# Subseting text (or slicing); Note index starts at 0; Can also use negative index\n",
    "stringValues = \"abcdef\"\n",
    "print(stringValues[3])\n",
    "print(stringValues[-2])"
   ]
  },
  {
   "cell_type": "code",
   "execution_count": null,
   "metadata": {
    "colab": {
     "base_uri": "https://localhost:8080/",
     "height": 164
    },
    "colab_type": "code",
    "id": "qdwf6DhHTGEj",
    "outputId": "32cf94f5-d45c-454b-e390-86fc1ee1e729"
   },
   "outputs": [],
   "source": [
    "# Strings are immutable (lists are though) can't insert a change;  R structures are mutable\n",
    "stringValues[3]='D'"
   ]
  },
  {
   "cell_type": "code",
   "execution_count": null,
   "metadata": {
    "colab": {
     "base_uri": "https://localhost:8080/",
     "height": 34
    },
    "colab_type": "code",
    "id": "nX-3BcJcT47x",
    "outputId": "7ae85ea7-513c-4229-f764-8577c6e1955b"
   },
   "outputs": [],
   "source": [
    "# However can use \"replace\"\n",
    "print(stringValues.replace('d','D'))\n",
    "print(stringValues)"
   ]
  },
  {
   "cell_type": "code",
   "execution_count": null,
   "metadata": {
    "colab": {},
    "colab_type": "code",
    "id": "kf6x_CpFVSKO"
   },
   "outputs": [],
   "source": [
    "# Slicing:  [:],  [start:],  [:end], [start:end], [start:end:step]\n",
    "stringValues = \"abcdef\"\n",
    "print(stringValues)\n",
    "print(stringValues[:3:2])\n",
    "print(stringValues[:-2:2])"
   ]
  },
  {
   "cell_type": "code",
   "execution_count": 10,
   "metadata": {
    "colab": {
     "base_uri": "https://localhost:8080/",
     "height": 257
    },
    "colab_type": "code",
    "id": "x5yvSKiDXW97",
    "outputId": "46a4b4ff-21bc-489c-f7a1-5d71cfa07001"
   },
   "outputs": [
    {
     "name": "stdout",
     "output_type": "stream",
     "text": [
      "['code_chunk_examples.html', 'GettingStarted.ipynb', 'code_chunk_examples.Rmd', 'linux_bash_shell_examples.txt', 'Miniconda3-latest-Linux-x86_64.sh', 'df.subset.csv', 'example.Rproj', 'setting_up_conda_environments.txt', '.Rhistory', 'parallel_processing_multiple_GPUs.R', '.Rproj.user', 'california_housing_test.csv', '.RData', '.ipynb_checkpoints']\n",
      "      longitude  latitude  housing_median_age  total_rooms  total_bedrooms  \\\n",
      "0       -122.05     37.37                27.0       3885.0           661.0   \n",
      "1       -118.30     34.26                43.0       1510.0           310.0   \n",
      "2       -117.81     33.78                27.0       3589.0           507.0   \n",
      "3       -118.36     33.82                28.0         67.0            15.0   \n",
      "4       -119.67     36.33                19.0       1241.0           244.0   \n",
      "...         ...       ...                 ...          ...             ...   \n",
      "2995    -119.86     34.42                23.0       1450.0           642.0   \n",
      "2996    -118.14     34.06                27.0       5257.0          1082.0   \n",
      "2997    -119.70     36.30                10.0        956.0           201.0   \n",
      "2998    -117.12     34.10                40.0         96.0            14.0   \n",
      "2999    -119.63     34.42                42.0       1765.0           263.0   \n",
      "\n",
      "      population  households  median_income  median_house_value  \n",
      "0         1537.0       606.0         6.6085            344700.0  \n",
      "1          809.0       277.0         3.5990            176500.0  \n",
      "2         1484.0       495.0         5.7934            270500.0  \n",
      "3           49.0        11.0         6.1359            330000.0  \n",
      "4          850.0       237.0         2.9375             81700.0  \n",
      "...          ...         ...            ...                 ...  \n",
      "2995      1258.0       607.0         1.1790            225000.0  \n",
      "2996      3496.0      1036.0         3.3906            237200.0  \n",
      "2997       693.0       220.0         2.2895             62000.0  \n",
      "2998        46.0        14.0         3.2708            162500.0  \n",
      "2999       753.0       260.0         8.5608            500001.0  \n",
      "\n",
      "[3000 rows x 9 columns]\n"
     ]
    }
   ],
   "source": [
    "# Importing text data into Python using \"pandas\"\n",
    "# See \"pandas\" documentation \n",
    "# pandas.pydata.org/pandas-docs\n",
    "# Equivalent to \"read.csv\" in R\n",
    "import pandas as pd\n",
    "# from pandas import read_csv\n",
    "import os\n",
    "print(os.listdir())\n",
    "# df = pd.read_csv()\n",
    "df = pd.read_csv(r\"california_housing_test.csv\")\n",
    "print (df)"
   ]
  },
  {
   "cell_type": "code",
   "execution_count": 11,
   "metadata": {},
   "outputs": [
    {
     "name": "stdout",
     "output_type": "stream",
     "text": [
      "Variable   Type         Data/Info\n",
      "---------------------------------\n",
      "df         DataFrame          longitude  latitude<...>\\n[3000 rows x 9 columns]\n",
      "os         module       <module 'os' from '/cm/sh<...>6.5/lib/python3.6/os.py'>\n",
      "pd         module       <module 'pandas' from '/c<...>ages/pandas/__init__.py'>\n",
      "x          int          2\n"
     ]
    }
   ],
   "source": [
    "whos"
   ]
  },
  {
   "cell_type": "code",
   "execution_count": 12,
   "metadata": {},
   "outputs": [
    {
     "data": {
      "text/plain": [
       "'/home/richherr/example'"
      ]
     },
     "execution_count": 12,
     "metadata": {},
     "output_type": "execute_result"
    }
   ],
   "source": [
    "pwd"
   ]
  },
  {
   "cell_type": "code",
   "execution_count": null,
   "metadata": {},
   "outputs": [],
   "source": [
    "# Using cell magics; see here - https://www.dataquest.io/blog/jupyter-notebook-tips-tricks-shortcuts/\n",
    "# Must load in separate cell first\n",
    "%load_ext rpy2.ipython"
   ]
  },
  {
   "cell_type": "code",
   "execution_count": null,
   "metadata": {},
   "outputs": [],
   "source": [
    "# Use cell magics;  Use the following to see all cell magics:  \"%lsmagic\"\n",
    "%%R\n",
    "c(1,2,3)\n",
    "hist(rnorm(200))"
   ]
  },
  {
   "cell_type": "code",
   "execution_count": 13,
   "metadata": {
    "colab": {
     "base_uri": "https://localhost:8080/",
     "height": 311
    },
    "colab_type": "code",
    "id": "PhdXWskwZTaD",
    "outputId": "def1adef-994e-421b-c93a-c2a593ccf87a"
   },
   "outputs": [
    {
     "name": "stdout",
     "output_type": "stream",
     "text": [
      "      median_income  median_house_value\n",
      "0            6.6085            344700.0\n",
      "1            3.5990            176500.0\n",
      "2            5.7934            270500.0\n",
      "3            6.1359            330000.0\n",
      "4            2.9375             81700.0\n",
      "...             ...                 ...\n",
      "2995         1.1790            225000.0\n",
      "2996         3.3906            237200.0\n",
      "2997         2.2895             62000.0\n",
      "2998         3.2708            162500.0\n",
      "2999         8.5608            500001.0\n",
      "\n",
      "[3000 rows x 2 columns]\n"
     ]
    },
    {
     "name": "stderr",
     "output_type": "stream",
     "text": [
      "/cm/shared/utils/PYTHON/3.6.5/lib/python3.6/site-packages/ipykernel_launcher.py:2: UserWarning: Pandas doesn't allow columns to be created via a new attribute name - see https://pandas.pydata.org/pandas-docs/stable/indexing.html#attribute-access\n",
      "  \n"
     ]
    }
   ],
   "source": [
    "# Subsetting columns\n",
    "df.subset = pd.DataFrame(df, columns= ['median_income','median_house_value'])\n",
    "print(df.subset)"
   ]
  },
  {
   "cell_type": "code",
   "execution_count": 14,
   "metadata": {
    "colab": {
     "base_uri": "https://localhost:8080/",
     "height": 34
    },
    "colab_type": "code",
    "id": "eSVlVQ-gaFu5",
    "outputId": "6801bc50-1226-492f-aafc-5016de4769ed"
   },
   "outputs": [
    {
     "data": {
      "text/plain": [
       "['code_chunk_examples.html',\n",
       " 'GettingStarted.ipynb',\n",
       " 'code_chunk_examples.Rmd',\n",
       " 'linux_bash_shell_examples.txt',\n",
       " 'Miniconda3-latest-Linux-x86_64.sh',\n",
       " 'df.subset.csv',\n",
       " 'example.Rproj',\n",
       " 'setting_up_conda_environments.txt',\n",
       " '.Rhistory',\n",
       " 'parallel_processing_multiple_GPUs.R',\n",
       " '.Rproj.user',\n",
       " 'california_housing_test.csv',\n",
       " '.RData',\n",
       " '.ipynb_checkpoints']"
      ]
     },
     "execution_count": 14,
     "metadata": {},
     "output_type": "execute_result"
    }
   ],
   "source": [
    "# See \"pandas\" documentation \n",
    "# pandas.pydata.org/pandas-docs  \n",
    "# Equivalent to \"write.table\" in R\n",
    "\n",
    "df.subset.to_csv('df.subset.csv', index=True)\n",
    "os.listdir()"
   ]
  },
  {
   "cell_type": "code",
   "execution_count": 15,
   "metadata": {},
   "outputs": [
    {
     "name": "stdout",
     "output_type": "stream",
     "text": [
      "total 71117\n",
      "drwxr-xr-x   4 richherr pi_richherr     4096 Feb 25 13:43 .\n",
      "drwx------ 162 richherr pi_richherr     4096 Feb 25 13:32 ..\n",
      "-rw-r--r--   1 richherr pi_richherr   301141 Feb 24 19:15 california_housing_test.csv\n",
      "-rw-r--r--   1 richherr pi_richherr   631264 Feb 24 20:36 code_chunk_examples.html\n",
      "-rw-r--r--   1 richherr pi_richherr      493 Feb 24 20:36 code_chunk_examples.Rmd\n",
      "-rw-rw-r--   1 richherr pi_richherr    60761 Feb 25 13:43 df.subset.csv\n",
      "-rw-r--r--   1 richherr pi_richherr      203 Feb 24 17:51 example.Rproj\n",
      "-rw-r--r--   1 richherr pi_richherr    15343 Feb 25 13:43 GettingStarted.ipynb\n",
      "drwxrwxr-x   2 richherr pi_richherr     4096 Feb 24 18:01 .ipynb_checkpoints\n",
      "-rw-r--r--   1 richherr pi_richherr     2375 Feb 12 19:41 linux_bash_shell_examples.txt\n",
      "-rwxr-xr-x   1 richherr pi_richherr 71785000 Feb 20 18:02 Miniconda3-latest-Linux-x86_64.sh\n",
      "-rw-r--r--   1 richherr pi_richherr     2755 Feb 24 23:25 parallel_processing_multiple_GPUs.R\n",
      "-rw-r--r--   1 richherr pi_richherr       32 Feb 21 11:53 .RData\n",
      "-rw-r--r--   1 richherr pi_richherr     2377 Feb 21 13:07 .Rhistory\n",
      "drwxr-xr-x   4 richherr pi_richherr     4096 Feb 11 18:26 .Rproj.user\n",
      "-rw-r--r--   1 richherr pi_richherr     3027 Feb 22 15:23 setting_up_conda_environments.txt\n"
     ]
    }
   ],
   "source": [
    "%%bash\n",
    "ls -la"
   ]
  },
  {
   "cell_type": "code",
   "execution_count": 16,
   "metadata": {},
   "outputs": [
    {
     "data": {
      "application/json": {
       "cell": {
        "!": "OSMagics",
        "HTML": "Other",
        "SVG": "Other",
        "bash": "Other",
        "capture": "ExecutionMagics",
        "debug": "ExecutionMagics",
        "file": "Other",
        "html": "DisplayMagics",
        "javascript": "DisplayMagics",
        "js": "DisplayMagics",
        "latex": "DisplayMagics",
        "markdown": "DisplayMagics",
        "perl": "Other",
        "prun": "ExecutionMagics",
        "pypy": "Other",
        "python": "Other",
        "python2": "Other",
        "python3": "Other",
        "ruby": "Other",
        "script": "ScriptMagics",
        "sh": "Other",
        "svg": "DisplayMagics",
        "sx": "OSMagics",
        "system": "OSMagics",
        "time": "ExecutionMagics",
        "timeit": "ExecutionMagics",
        "writefile": "OSMagics"
       },
       "line": {
        "alias": "OSMagics",
        "alias_magic": "BasicMagics",
        "autoawait": "AsyncMagics",
        "autocall": "AutoMagics",
        "automagic": "AutoMagics",
        "autosave": "KernelMagics",
        "bookmark": "OSMagics",
        "cat": "Other",
        "cd": "OSMagics",
        "clear": "KernelMagics",
        "colors": "BasicMagics",
        "conda": "PackagingMagics",
        "config": "ConfigMagics",
        "connect_info": "KernelMagics",
        "cp": "Other",
        "debug": "ExecutionMagics",
        "dhist": "OSMagics",
        "dirs": "OSMagics",
        "doctest_mode": "BasicMagics",
        "ed": "Other",
        "edit": "KernelMagics",
        "env": "OSMagics",
        "gui": "BasicMagics",
        "hist": "Other",
        "history": "HistoryMagics",
        "killbgscripts": "ScriptMagics",
        "ldir": "Other",
        "less": "KernelMagics",
        "lf": "Other",
        "lk": "Other",
        "ll": "Other",
        "load": "CodeMagics",
        "load_ext": "ExtensionMagics",
        "loadpy": "CodeMagics",
        "logoff": "LoggingMagics",
        "logon": "LoggingMagics",
        "logstart": "LoggingMagics",
        "logstate": "LoggingMagics",
        "logstop": "LoggingMagics",
        "ls": "Other",
        "lsmagic": "BasicMagics",
        "lx": "Other",
        "macro": "ExecutionMagics",
        "magic": "BasicMagics",
        "man": "KernelMagics",
        "matplotlib": "PylabMagics",
        "mkdir": "Other",
        "more": "KernelMagics",
        "mv": "Other",
        "notebook": "BasicMagics",
        "page": "BasicMagics",
        "pastebin": "CodeMagics",
        "pdb": "ExecutionMagics",
        "pdef": "NamespaceMagics",
        "pdoc": "NamespaceMagics",
        "pfile": "NamespaceMagics",
        "pinfo": "NamespaceMagics",
        "pinfo2": "NamespaceMagics",
        "pip": "PackagingMagics",
        "popd": "OSMagics",
        "pprint": "BasicMagics",
        "precision": "BasicMagics",
        "prun": "ExecutionMagics",
        "psearch": "NamespaceMagics",
        "psource": "NamespaceMagics",
        "pushd": "OSMagics",
        "pwd": "OSMagics",
        "pycat": "OSMagics",
        "pylab": "PylabMagics",
        "qtconsole": "KernelMagics",
        "quickref": "BasicMagics",
        "recall": "HistoryMagics",
        "rehashx": "OSMagics",
        "reload_ext": "ExtensionMagics",
        "rep": "Other",
        "rerun": "HistoryMagics",
        "reset": "NamespaceMagics",
        "reset_selective": "NamespaceMagics",
        "rm": "Other",
        "rmdir": "Other",
        "run": "ExecutionMagics",
        "save": "CodeMagics",
        "sc": "OSMagics",
        "set_env": "OSMagics",
        "store": "StoreMagics",
        "sx": "OSMagics",
        "system": "OSMagics",
        "tb": "ExecutionMagics",
        "time": "ExecutionMagics",
        "timeit": "ExecutionMagics",
        "unalias": "OSMagics",
        "unload_ext": "ExtensionMagics",
        "who": "NamespaceMagics",
        "who_ls": "NamespaceMagics",
        "whos": "NamespaceMagics",
        "xdel": "NamespaceMagics",
        "xmode": "BasicMagics"
       }
      },
      "text/plain": [
       "Available line magics:\n",
       "%alias  %alias_magic  %autoawait  %autocall  %automagic  %autosave  %bookmark  %cat  %cd  %clear  %colors  %conda  %config  %connect_info  %cp  %debug  %dhist  %dirs  %doctest_mode  %ed  %edit  %env  %gui  %hist  %history  %killbgscripts  %ldir  %less  %lf  %lk  %ll  %load  %load_ext  %loadpy  %logoff  %logon  %logstart  %logstate  %logstop  %ls  %lsmagic  %lx  %macro  %magic  %man  %matplotlib  %mkdir  %more  %mv  %notebook  %page  %pastebin  %pdb  %pdef  %pdoc  %pfile  %pinfo  %pinfo2  %pip  %popd  %pprint  %precision  %prun  %psearch  %psource  %pushd  %pwd  %pycat  %pylab  %qtconsole  %quickref  %recall  %rehashx  %reload_ext  %rep  %rerun  %reset  %reset_selective  %rm  %rmdir  %run  %save  %sc  %set_env  %store  %sx  %system  %tb  %time  %timeit  %unalias  %unload_ext  %who  %who_ls  %whos  %xdel  %xmode\n",
       "\n",
       "Available cell magics:\n",
       "%%!  %%HTML  %%SVG  %%bash  %%capture  %%debug  %%file  %%html  %%javascript  %%js  %%latex  %%markdown  %%perl  %%prun  %%pypy  %%python  %%python2  %%python3  %%ruby  %%script  %%sh  %%svg  %%sx  %%system  %%time  %%timeit  %%writefile\n",
       "\n",
       "Automagic is ON, % prefix IS NOT needed for line magics."
      ]
     },
     "execution_count": 16,
     "metadata": {},
     "output_type": "execute_result"
    }
   ],
   "source": [
    "%lsmagic"
   ]
  }
 ],
 "metadata": {
  "colab": {
   "collapsed_sections": [],
   "name": "GettingStarted.ipynb",
   "provenance": []
  },
  "kernelspec": {
   "display_name": "Python 3",
   "language": "python",
   "name": "python3"
  },
  "language_info": {
   "codemirror_mode": {
    "name": "ipython",
    "version": 3
   },
   "file_extension": ".py",
   "mimetype": "text/x-python",
   "name": "python",
   "nbconvert_exporter": "python",
   "pygments_lexer": "ipython3",
   "version": "3.6.5"
  }
 },
 "nbformat": 4,
 "nbformat_minor": 4
}
