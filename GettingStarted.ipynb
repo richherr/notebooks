{
  "nbformat": 4,
  "nbformat_minor": 0,
  "metadata": {
    "colab": {
      "name": "Copy of GettingStarted.ipynb",
      "provenance": [],
      "collapsed_sections": [],
      "mount_file_id": "1pzoir1Cvi8l_MNUbQY9oiAxl9R605qNM",
      "authorship_tag": "ABX9TyPGs/fbBQCGA9EV4TFM7Ecj",
      "include_colab_link": true
    },
    "kernelspec": {
      "name": "python3",
      "display_name": "Python 3"
    }
  },
  "cells": [
    {
      "cell_type": "markdown",
      "metadata": {
        "id": "view-in-github",
        "colab_type": "text"
      },
      "source": [
        "<a href=\"https://colab.research.google.com/github/richherr/datascience/blob/master/GettingStarted.ipynb\" target=\"_parent\"><img src=\"https://colab.research.google.com/assets/colab-badge.svg\" alt=\"Open In Colab\"/></a>"
      ]
    },
    {
      "cell_type": "code",
      "metadata": {
        "id": "XUqP5GXP1F71",
        "colab_type": "code",
        "outputId": "110814e8-c474-443e-a3ce-d7e4936c99ed",
        "colab": {
          "base_uri": "https://localhost:8080/",
          "height": 34
        }
      },
      "source": [
        "# Everything in Python (as in R) is an object:  booleans, integers, floats, strings, functions, programs\n",
        "# Think of \n",
        "# Scalar assignments\n",
        "x = 2\n",
        "print(x)"
      ],
      "execution_count": 0,
      "outputs": [
        {
          "output_type": "stream",
          "text": [
            "2\n"
          ],
          "name": "stdout"
        }
      ]
    },
    {
      "cell_type": "code",
      "metadata": {
        "id": "pkoEgqtz2BNO",
        "colab_type": "code",
        "outputId": "b1e677e5-39ea-4cdc-cf17-9f2ec3e00aca",
        "colab": {
          "base_uri": "https://localhost:8080/",
          "height": 34
        }
      },
      "source": [
        "type(x)"
      ],
      "execution_count": 0,
      "outputs": [
        {
          "output_type": "execute_result",
          "data": {
            "text/plain": [
              "int"
            ]
          },
          "metadata": {
            "tags": []
          },
          "execution_count": 3
        }
      ]
    },
    {
      "cell_type": "code",
      "metadata": {
        "id": "IghWkMzT2OXT",
        "colab_type": "code",
        "colab": {}
      },
      "source": [
        "# Think of an object as "
      ],
      "execution_count": 0,
      "outputs": []
    }
  ]
}